{
 "cells": [
  {
   "attachments": {},
   "cell_type": "markdown",
   "metadata": {},
   "source": [
    "## Merge Sort Hack 1"
   ]
  },
  {
   "cell_type": "code",
   "execution_count": null,
   "metadata": {
    "vscode": {
     "languageId": "java"
    }
   },
   "outputs": [],
   "source": [
    "void merge(MyObject arr[], int l, int m, int r)\n",
    "{\n",
    "    // Find the sizes of two subarrays to be merged\n",
    "    int n1 = m - l + 1;\n",
    "    int n2 = r - m;\n",
    "\n",
    "    /* Create temp arrays */\n",
    "    MyObject[] L = new MyObject[n1];\n",
    "    MyObject[] R = new MyObject[n2];\n",
    "\n",
    "    /* Copy data to temp arrays */\n",
    "    for (int i = 0; i < n1; ++i)\n",
    "        L[i] = arr[l + i];\n",
    "    for (int j = 0; j < n2; ++j)\n",
    "        R[j] = arr[m + 1 + j];\n",
    "\n",
    "    /* Merge the temp arrays */\n",
    "\n",
    "    // Initial indexes of first and second subarrays\n",
    "    int i = 0, j = 0;\n",
    "\n",
    "    // Initial index of merged subarray array\n",
    "    int k = l;\n",
    "    while (i < n1 && j < n2) {\n",
    "        if (L[i].compareTo(R[j]) <= 0) {\n",
    "            arr[k] = L[i];\n",
    "            i++;\n",
    "        }\n",
    "        else {\n",
    "            arr[k] = R[j];\n",
    "            j++;\n",
    "        }\n",
    "        k++;\n",
    "    }\n",
    "\n",
    "    /* Copy remaining elements of L[] if any */\n",
    "    while (i < n1) {\n",
    "        arr[k] = L[i];\n",
    "        i++;\n",
    "        k++;\n",
    "    }\n",
    "\n",
    "    /* Copy remaining elements of R[] if any */\n",
    "    while (j < n2) {\n",
    "        arr[k] = R[j];\n",
    "        j++;\n",
    "        k++;\n",
    "    }\n",
    "}\n"
   ]
  },
  {
   "attachments": {},
   "cell_type": "markdown",
   "metadata": {},
   "source": [
    "## Merge Sort Hack 2"
   ]
  },
  {
   "attachments": {},
   "cell_type": "markdown",
   "metadata": {},
   "source": [
    "Create an optimization that can be made to the standard merge sort algorithm to use a different sorting algorithm for small sub-arrays, rather than recursively applying merge sort to all sub-arrays. This can improve performance by reducing the overhead of function calls and memory allocation."
   ]
  },
  {
   "cell_type": "code",
   "execution_count": null,
   "metadata": {
    "vscode": {
     "languageId": "java"
    }
   },
   "outputs": [],
   "source": [
    "import java.util.Arrays;\n",
    "\n",
    "public class MergeSortHack {\n",
    "\n",
    "    public static int[] mergeSortHack(int[] arr) {\n",
    "        if (arr.length <= 1) {\n",
    "            return arr;\n",
    "        }\n",
    "\n",
    "        if (arr.length < 20) { // Sort small sub-arrays with insertion sort\n",
    "            for (int i = 1; i < arr.length; i++) {\n",
    "                int key = arr[i];\n",
    "                int j = i - 1;\n",
    "                while (j >= 0 && arr[j] > key) {\n",
    "                    arr[j + 1] = arr[j];\n",
    "                    j--;\n",
    "                }\n",
    "                arr[j + 1] = key;\n",
    "            }\n",
    "            return arr;\n",
    "        }\n",
    "\n",
    "        int mid = arr.length / 2;\n",
    "        int[] left = Arrays.copyOfRange(arr, 0, mid);\n",
    "        int[] right = Arrays.copyOfRange(arr, mid, arr.length);\n",
    "        left = mergeSortHack(left);\n",
    "        right = mergeSortHack(right);\n",
    "        return merge(left, right);\n",
    "    }\n",
    "\n",
    "    public static int[] merge(int[] left, int[] right) {\n",
    "        int[] result = new int[left.length + right.length];\n",
    "        int i = 0, j = 0, k = 0;\n",
    "        while (i < left.length && j < right.length) {\n",
    "            if (left[i] <= right[j]) {\n",
    "                result[k] = left[i];\n",
    "                i++;\n",
    "            } else {\n",
    "                result[k] = right[j];\n",
    "                j++;\n",
    "            }\n",
    "            k++;\n",
    "        }\n",
    "        while (i < left.length) {\n",
    "            result[k] = left[i];\n",
    "            i++;\n",
    "            k++;\n",
    "        }\n",
    "        while (j < right.length) {\n",
    "            result[k] = right[j];\n",
    "            j++;\n",
    "            k++;\n",
    "        }\n",
    "        return result;\n",
    "    }\n",
    "\n",
    "    public static void main(String[] args) {\n",
    "        int[] arr = {9, 2, 5, 1, 3, 8, 6, 4, 7};\n",
    "        System.out.println(\"Before sorting: \" + Arrays.toString(arr));\n",
    "        int[] sortedArr = mergeSortHack(arr);\n",
    "        System.out.println(\"After sorting: \" + Arrays.toString(sortedArr));\n",
    "    }\n",
    "}"
   ]
  }
 ],
 "metadata": {
  "language_info": {
   "name": "python"
  },
  "orig_nbformat": 4
 },
 "nbformat": 4,
 "nbformat_minor": 2
}
