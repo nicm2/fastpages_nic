{
 "cells": [
  {
   "cell_type": "markdown",
   "metadata": {},
   "source": [
    "# Jupyter Notebook for Bash\n",
    "> A Jupyter Notebook for bash and tests\n",
    "\n",
    "- toc: true \n",
    "- badges: true\n",
    "- comments: true\n",
    "- categories: [jupyter]"
   ]
  },
  {
   "cell_type": "markdown",
   "metadata": {},
   "source": [
    "Python Checks"
   ]
  },
  {
   "cell_type": "code",
   "execution_count": 3,
   "metadata": {
    "vscode": {
     "languageId": "shellscript"
    }
   },
   "outputs": [
    {
     "name": "stdout",
     "output_type": "stream",
     "text": [
      "Python 3.9.12\n",
      "Python 2.7.18\n"
     ]
    }
   ],
   "source": [
    "python --version\n",
    "python2 --version\n"
   ]
  },
  {
   "cell_type": "markdown",
   "metadata": {},
   "source": [
    "Conda Checks\n"
   ]
  },
  {
   "cell_type": "code",
   "execution_count": 4,
   "metadata": {
    "vscode": {
     "languageId": "shellscript"
    }
   },
   "outputs": [
    {
     "name": "stdout",
     "output_type": "stream",
     "text": [
      "Conda Check\n",
      "jupyter                   1.0.0            py39h06a4308_7  \n",
      "jupyter_client            6.1.12             pyhd3eb1b0_0  \n",
      "jupyter_console           6.4.0              pyhd3eb1b0_0  \n",
      "jupyter_core              4.9.2            py39h06a4308_0  \n",
      "jupyter_server            1.13.5             pyhd3eb1b0_0  \n",
      "jupyterlab                3.3.2              pyhd3eb1b0_0  \n",
      "jupyterlab_pygments       0.1.2                      py_0  \n",
      "jupyterlab_server         2.10.3             pyhd3eb1b0_1  \n",
      "jupyterlab_widgets        1.0.0              pyhd3eb1b0_1  \n"
     ]
    }
   ],
   "source": [
    "echo Conda Check\n",
    "# test for a kernel installation\n",
    "test=\"jupyter\" # keyword\n",
    "check=`conda list | grep $test` # run command\n",
    "n=${#check} # determine length\n",
    "\n",
    "if [[ ${n} > 0 ]];  # testt length\n",
    "then # greater than zero\n",
    "    echo \"$check\"\n",
    "else # less than zero\n",
    "    echo \"$test not found\"\n",
    "fi"
   ]
  },
  {
   "cell_type": "markdown",
   "metadata": {},
   "source": [
    "Jupyter Checks"
   ]
  },
  {
   "cell_type": "code",
   "execution_count": 5,
   "metadata": {
    "vscode": {
     "languageId": "shellscript"
    }
   },
   "outputs": [
    {
     "name": "stdout",
     "output_type": "stream",
     "text": [
      "Selected Jupyter core packages...\n",
      "IPython          : 8.2.0\n",
      "ipykernel        : 6.9.1\n",
      "ipywidgets       : 7.6.5\n",
      "jupyter_client   : 6.1.12\n",
      "jupyter_core     : 4.9.2\n",
      "jupyter_server   : 1.13.5\n",
      "jupyterlab       : 3.3.2\n",
      "nbclient         : 0.5.13\n",
      "nbconvert        : 6.4.4\n",
      "nbformat         : 5.3.0\n",
      "notebook         : 6.4.8\n",
      "qtconsole        : 5.3.0\n",
      "traitlets        : 5.1.1\n",
      "Available kernels:\n",
      "  bash          /home/nmounier/.local/share/jupyter/kernels/bash\n",
      "  java          /home/nmounier/.local/share/jupyter/kernels/java\n",
      "  javascript    /home/nmounier/.local/share/jupyter/kernels/javascript\n",
      "  python3       /home/nmounier/anaconda3/share/jupyter/kernels/python3\n"
     ]
    }
   ],
   "source": [
    "jupyter --version\n",
    "jupyter kernelspec list"
   ]
  },
  {
   "cell_type": "markdown",
   "metadata": {},
   "source": [
    "Kernel Checks"
   ]
  },
  {
   "cell_type": "code",
   "execution_count": 6,
   "metadata": {
    "vscode": {
     "languageId": "shellscript"
    }
   },
   "outputs": [
    {
     "name": "stdout",
     "output_type": "stream",
     "text": [
      "  python3       /home/nmounier/anaconda3/share/jupyter/kernels/python3\n"
     ]
    }
   ],
   "source": [
    "# test for a kernel installation\n",
    "test=\"python3\" # keyword\n",
    "check=`jupyter kernelspec list | grep $test` # run command\n",
    "n=${#check} # determine length\n",
    "\n",
    "if [[ ${n} > 0 ]];  # testt length\n",
    "then # greater than zero\n",
    "    echo \"$check\"\n",
    "else # less than zero\n",
    "    echo \"$test not found\"\n",
    "fi"
   ]
  }
 ],
 "metadata": {
  "kernelspec": {
   "display_name": "Bash",
   "language": "bash",
   "name": "bash"
  },
  "language_info": {
   "codemirror_mode": "shell",
   "file_extension": ".sh",
   "mimetype": "text/x-sh",
   "name": "bash"
  },
  "orig_nbformat": 4
 },
 "nbformat": 4,
 "nbformat_minor": 2
}
