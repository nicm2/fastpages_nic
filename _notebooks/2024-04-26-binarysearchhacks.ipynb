{
 "cells": [
  {
   "attachments": {},
   "cell_type": "markdown",
   "metadata": {},
   "source": [
    "# Binary Search Hack\n",
    "> Jupyter Notebook on binary search hacks\n",
    "\n",
    "- toc: true\n",
    "- badges: true\n",
    "- comments: true\n",
    "- categories: [fastpages]"
   ]
  },
  {
   "attachments": {},
   "cell_type": "markdown",
   "metadata": {},
   "source": [
    "## Binary Search Hack 1"
   ]
  },
  {
   "cell_type": "code",
   "execution_count": null,
   "metadata": {
    "vscode": {
     "languageId": "java"
    }
   },
   "outputs": [],
   "source": [
    "def binary_search(arr, low, high, target):\n",
    "    \"\"\"\n",
    "    This function performs binary search recursively on a sorted integer array to find a target value.\n",
    "    Args:\n",
    "        arr: A sorted integer array.\n",
    "        low: The lower index of the subarray being searched.\n",
    "        high: The upper index of the subarray being searched.\n",
    "        target: The integer value being searched for.\n",
    "    Returns:\n",
    "        The index of the target value if found, else -1.\n",
    "    \"\"\"\n",
    "    # Check if the subarray has been exhausted\n",
    "    if high >= low:\n",
    "        # Calculate the middle index of the subarray\n",
    "        mid = low + (high - low) // 2\n",
    "        \n",
    "        # If the target is found at the middle index, return it\n",
    "        if arr[mid] == target:\n",
    "            return mid\n",
    "        \n",
    "        # If the target is smaller than the middle element,\n",
    "        # search the left half of the subarray\n",
    "        elif arr[mid] > target:\n",
    "            return binary_search(arr, low, mid - 1, target)\n",
    "        \n",
    "        # If the target is larger than the middle element,\n",
    "        # search the right half of the subarray\n",
    "        else:\n",
    "            return binary_search(arr, mid + 1, high, target)\n",
    "    else:\n",
    "        # If the subarray has been exhausted and the target is not found, return -1\n",
    "        return -1\n",
    "\n",
    "\n",
    "# Test the function\n",
    "arr = [1, 3, 5, 7, 9, 23, 45, 67]\n",
    "target = 45\n",
    "result = binary_search(arr, 0, len(arr)-1, target)\n",
    "if result != -1:\n",
    "    print(f\"Element {target} is present at index {result}\")\n",
    "else:\n",
    "    print(f\"Element {target} is not present in the array\")\n"
   ]
  },
  {
   "attachments": {},
   "cell_type": "markdown",
   "metadata": {},
   "source": [
    "## Binary Search Hack 2"
   ]
  },
  {
   "cell_type": "code",
   "execution_count": null,
   "metadata": {
    "vscode": {
     "languageId": "java"
    }
   },
   "outputs": [],
   "source": [
    "public static void mergeSort(int[] array) {\n",
    "    if (array.length > 1) {\n",
    "        int mid = array.length / 2;\n",
    "        int[] leftArray = Arrays.copyOfRange(array, 0, mid);\n",
    "        int[] rightArray = Arrays.copyOfRange(array, mid, array.length);\n",
    "\n",
    "        mergeSort(leftArray);\n",
    "        mergeSort(rightArray);\n",
    "\n",
    "        int i = 0, j = 0, k = 0;\n",
    "        while (i < leftArray.length && j < rightArray.length) {\n",
    "            if (leftArray[i] < rightArray[j]) {\n",
    "                array[k] = leftArray[i];\n",
    "                i++;\n",
    "            } else {\n",
    "                array[k] = rightArray[j];\n",
    "                j++;\n",
    "            }\n",
    "            k++;\n",
    "        }\n",
    "        while (i < leftArray.length) {\n",
    "            array[k] = leftArray[i];\n",
    "            i++;\n",
    "            k++;\n",
    "        }\n",
    "        while (j < rightArray.length) {\n",
    "            array[k] = rightArray[j];\n",
    "            j++;\n",
    "            k++;\n",
    "        }\n",
    "    }\n",
    "}\n",
    "\n",
    "public static int binarySearch(int[] array, int target) {\n",
    "    int left = 0;\n",
    "    int right = array.length - 1;\n",
    "\n",
    "    while (left <= right) {\n",
    "        int mid = (left + right) / 2;\n",
    "        if (array[mid] == target) {\n",
    "            return mid;\n",
    "        } else if (array[mid] < target) {\n",
    "            left = mid + 1;\n",
    "        } else {\n",
    "            right = mid - 1;\n",
    "        }\n",
    "    }\n",
    "\n",
    "    return -1;\n",
    "}\n",
    "\n",
    "public static void main(String[] args) {\n",
    "    int[] array = {5, 6, 3, 1, 8, 9, 4, 7, 2};\n",
    "    mergeSort(array);\n",
    "    int index = binarySearch(array, 7);\n",
    "    if (index != -1) {\n",
    "        System.out.println(\"Index of 7 is: \" + index);\n",
    "    } else {\n",
    "        System.out.println(\"7 is not found in the array\");\n",
    "    }\n",
    "}"
   ]
  }
 ],
 "metadata": {
  "language_info": {
   "name": "python"
  },
  "orig_nbformat": 4
 },
 "nbformat": 4,
 "nbformat_minor": 2
}
