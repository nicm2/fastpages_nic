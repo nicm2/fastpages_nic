{
 "cells": [
  {
   "cell_type": "markdown",
   "metadata": {},
   "source": [
    "# JavaScript and HTML\n",
    "> Jupyter Notebook on using JavaScript and HTML\n",
    "\n",
    "- toc: true\n",
    "- badges: true\n",
    "- comments: true\n",
    "- categories: [fastpages]"
   ]
  },
  {
   "cell_type": "code",
   "execution_count": 22,
   "metadata": {},
   "outputs": [
    {
     "name": "stdout",
     "output_type": "stream",
     "text": [
      "Nicolas' JavaScript practice\n"
     ]
    },
    {
     "data": {
      "text/html": [
       "<div style='display:inline-block;border: 1px solid coral;box-shadow: 1em 0.6em 0.6em skyblue;'><table><tr><th><mark>Name</mark></th><th><mark>Peer Grade</mark></th><th><mark>Role</mark></th></tr><tr><td>Mr M</td><td>3.0/3.0</td><td>Teacher</td><tr><tr><td>Nicolas</td><td>2.7/3.0</td><td>Scrum Master</td><tr><tr><td>Andrew</td><td>2.7+/3.0</td><td>Backend Dev</td><tr><tr><td>Bailey</td><td>2.7+/3.0</td><td>Backend Dev</td><tr><tr><td>Rohan</td><td>2.7/3.0</td><td>Frontend Dev</td><tr></table></div>"
      ]
     },
     "execution_count": 22,
     "metadata": {},
     "output_type": "execute_result"
    }
   ],
   "source": [
    "console.log(\"Nicolas' JavaScript practice\");\n",
    "\n",
    "function logItType(output) {\n",
    "    console.log(typeof output, \";\", output);\n",
    "}\n",
    "\n",
    "// define a function to hold data for a Person\n",
    "function Person(name, peergrade, role) {\n",
    "    this.name = name;\n",
    "    this.peergrade = peergrade;\n",
    "    this.role = role;\n",
    "}\n",
    "\n",
    "// define a JSON conversion \"method\" associated with Person\n",
    "Person.prototype.toJSON = function() {\n",
    "    const obj = {name: this.name, peergrade: this.peergrade, role: this.role};\n",
    "    const json = JSON.stringify(obj);  // json/string is useful when passing data on internet\n",
    "    return json;\n",
    "}\n",
    "\n",
    "// make a new Person and assign to variable teacher\n",
    "var teacher = new Person(\"Mr M\", \"3.0/3.0\", \"Teacher\");  // object type is easy to work with in JavaScript\n",
    "\n",
    "// define a student Array of Person(s)\n",
    "var students = [ \n",
    "    new Person(\"Nicolas\", \"2.7/3.0\", \"Scrum Master\"),\n",
    "    new Person(\"Andrew\", \"2.7+/3.0\", \"Backend Dev\"),\n",
    "    new Person(\"Bailey\", \"2.7+/3.0\", \"Backend Dev\"),\n",
    "    new Person(\"Rohan\", \"2.7/3.0\", \"Frontend Dev\"),\n",
    "];\n",
    "\n",
    "// define a classroom and build Classroom objects and json\n",
    "function Classroom(teacher, students){ // 1 teacher, many student\n",
    "    this.teacher = teacher;\n",
    "    this.classroom = [teacher];\n",
    "    // add each Student to Classroom\n",
    "    this.students = students;\n",
    "    this.students.forEach(student => { this.classroom.push(student); });\n",
    "    // build json/string format of Classroom\n",
    "    this.json = [];\n",
    "    this.classroom.forEach(person => this.json.push(person.toJSON()));\n",
    "}\n",
    "\n",
    "// make a CompSci classroom from formerly defined teacher and students\n",
    "teamScore = new Classroom(teacher, students);\n",
    "\n",
    "// define an HTML conversion \"method\" associated with Classroom\n",
    "Classroom.prototype._toHtml = function() {\n",
    "    // HTML Style is build using inline structure\n",
    "    var style = (\n",
    "      \"display:inline-block;\" +\n",
    "      \"border: 1px solid coral;\" +\n",
    "      \"box-shadow: 1em 0.6em 0.6em skyblue;\"\n",
    "    );\n",
    "  \n",
    "    // HTML Body of Table is build as a series of concatenations (+=)\n",
    "    var body = \"\";\n",
    "    // Heading for Array Columns\n",
    "    body += \"<tr>\";\n",
    "    body += \"<th><mark>\" + \"Name\" + \"</mark></th>\";\n",
    "    body += \"<th><mark>\" + \"Peer Grade\" + \"</mark></th>\";\n",
    "    body += \"<th><mark>\" + \"Role\" + \"</mark></th>\";\n",
    "    body += \"</tr>\";\n",
    "    // Data of Array, iterate through each row of teamScore.classroom \n",
    "    for (var row in teamScore.classroom) {\n",
    "      // tr for each row, a new line\n",
    "      body += \"<tr>\";\n",
    "      // td for each column of data\n",
    "      body += \"<td>\" + teamScore.classroom[row].name + \"</td>\";\n",
    "      body += \"<td>\" + teamScore.classroom[row].peergrade + \"</td>\";\n",
    "      body += \"<td>\" + teamScore.classroom[row].role + \"</td>\";\n",
    "      // tr to end line\n",
    "      body += \"<tr>\";\n",
    "    }\n",
    "  \n",
    "     // Build and HTML fragment of div, table, table body\n",
    "    return (\n",
    "      \"<div style='\" + style + \"'>\" +\n",
    "        \"<table>\" +\n",
    "          body +\n",
    "        \"</table>\" +\n",
    "      \"</div>\"\n",
    "    );\n",
    "  \n",
    "  };\n",
    "  \n",
    "  // IJavaScript HTML processor receive parameter of defined HTML fragment\n",
    "  $$.html(teamScore._toHtml());"
   ]
  }
 ],
 "metadata": {
  "kernelspec": {
   "display_name": "JavaScript (Node.js)",
   "language": "javascript",
   "name": "javascript"
  },
  "language_info": {
   "file_extension": ".js",
   "mimetype": "application/javascript",
   "name": "javascript",
   "version": "6.11.2"
  },
  "orig_nbformat": 4,
  "vscode": {
   "interpreter": {
    "hash": "916dbcbb3f70747c44a77c7bcd40155683ae19c65e1c03b4aa3499c5328201f1"
   }
  }
 },
 "nbformat": 4,
 "nbformat_minor": 2
}
