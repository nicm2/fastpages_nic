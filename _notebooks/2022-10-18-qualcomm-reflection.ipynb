{
 "cells": [
  {
   "cell_type": "markdown",
   "metadata": {},
   "source": [
    "# Qualcomm Lecture Reflection (Session 2)\n",
    "> Jupyter Notebook on Qualcomm Lecture Reflection\n",
    "\n",
    "- toc: true\n",
    "- badges: true\n",
    "- comments: true\n",
    "- categories: [fastpages]"
   ]
  },
  {
   "cell_type": "markdown",
   "metadata": {},
   "source": [
    "# Qualcomm Reflection\n",
    "\n",
    "I learned a lot from the Qualcomm lecture alot about the mindset and ideals that are important for making your way through a career, college, and having a succesfull future. The lecturers gave purpose behind processes like the use of Scrum Board as a way to free up mental bandwidth to innovate on whats already there. They explained that its important to question what your doing and be curious while learning. There is always room for improvement. The lecturers also described their path to their career which was very enlightening. One explained how they didn't know what they were going to do or major in but they were able to get involved in STEM and explore different career paths and she was able to identify what she enjoyed. She was intrested in the topic and found it fun. I can relate to her experience, as personally, I have no clue what I want to do in the future. I can see myself in a bunch of different feels. It was reassuring to see that I'm not the only one and that you can explore different topics until you find one you are intrested in. She also explored computer science when she took a class in college and found it very fun and rewarding. She even explained how after her 4 years at college, she didn't feel mentally prepared to graduate and pursue a path in economics or cs so she was able to attend a masters program in computer science. It was intresting to show how flexible college is and how you are able to find what you want to pursue. She talked about a specific field, AI which sounded very intresting to me and promoted problem-solving and was also fun. She explained the importance of working with others either as a team for projects or being able to successful communicate with your teachers in office hours. You can't do it all on your own, you need people to help guide you to reach your goals. She also talked about the value of leadership roles and working outside of your comfort zone to capitalize on opportunities. This was one of my key takeaways as previously I haven't been super comfrotable reaching out and asking for help. I realize that the best way to learn is to be able to communicate and interact with others. Another key learning from the lecture was that when opportunities are thrown your way, just take it, believe in yourself! Don't just sit back and be a spectator. Your strength is your perspective and your ability to bounce back from sub-optimal decsions. Ill be most succesfull doing the things that make me happy, something that I believe in, something that I'm passionate about. Accept the fact that your are going to fail at some point and that when you fail, you will learn and will bounce back. Overall, I learned about the mindset and values that make a successful engineer and successful future. \n",
    "\n",
    "Tips for interviews: try to speak your mind and give your perspective, be okay with geting no's, feel comfortable where its less of an interview and more of a conversation by asking questions! "
   ]
  }
 ],
 "metadata": {
  "kernelspec": {
   "display_name": "Java",
   "language": "java",
   "name": "java"
  },
  "language_info": {
   "name": "java",
   "version": "3.8.10"
  },
  "orig_nbformat": 4,
  "vscode": {
   "interpreter": {
    "hash": "916dbcbb3f70747c44a77c7bcd40155683ae19c65e1c03b4aa3499c5328201f1"
   }
  }
 },
 "nbformat": 4,
 "nbformat_minor": 2
}
