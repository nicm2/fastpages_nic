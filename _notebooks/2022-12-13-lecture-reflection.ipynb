{
 "cells": [
  {
   "attachments": {},
   "cell_type": "markdown",
   "metadata": {},
   "source": [
    "# 12/13 Technical Business Panel Reflection\n",
    "> Jupyter Notebook on Technical Business lecture\n",
    "\n",
    "- toc: true\n",
    "- badges: true\n",
    "- comments: true\n",
    "- categories: [fastpages]"
   ]
  },
  {
   "attachments": {},
   "cell_type": "markdown",
   "metadata": {},
   "source": [
    "## Reflection"
   ]
  },
  {
   "attachments": {},
   "cell_type": "markdown",
   "metadata": {},
   "source": [
    "Kathyleen Beveridge was born in Vietnam and did her undergrad at Santa Clara. She described how she traveled abroad to Spain to study (life-changing experience). I've always wanted to travel abroad and think it would be a good experience to understand different cultures. Kathyleen was a finance major and worked as an investment banker right out of college (stock broker). However, she went back to Santa Clara and switched to high tech (wasn't a fan of finance). I thought it was intresting that she was able to switch her focus after testing it out and not enjoying it. She took time off and joined Qualcomm and found her passion in biotech. She worked at HP, Qualcomm, Thermo Fisher Scientific which all shared common missions to use tech in order to benefit the people and the world. I was suprised to learn that scrum masters are used in actual businesses! She also explained the increasing organization of work in short sprints which we are used to in CSA. Overall, I found her lecture very intresting and showed how an experience in CS is helpfull in any field.\n"
   ]
  },
  {
   "attachments": {},
   "cell_type": "markdown",
   "metadata": {},
   "source": [
    "Kris Porter described himself as a Software Engineer who doesn't necessarily write code all day which peaked my intrest. He enrolled at UCLA for Electircal Engineering (bachelors + masters) which is a major/career path that I have considered pursuing. He talked about how he stopped coding for 9 years then made it his carreer. He learned Linux through his Radar project and worked in a data center and a start up. He connected some of the concepts we've learned in CSA like deployming a website which also has more to it including cyber security. I learned that DevOPs jobs and setting up servers and doing analyitics. I also learned that when he worked at Twitter they used Rest APIs! Which we also use in class. I learned that companies often plann work for a quarter in big meetings with other engineers like monday stand up meetings. He emphasized the importance of communication and collaboration. Kris Porter was smart and planned ahead when Twitter merged and set up a job oppurtunity in case, paid off. Finally, I discovered that all companies have a unique language and way of doing things so the most important takeaway is how to learn and adapt. Overall, his experience in the technical side and a software engineer in the computer science industry was enlightining and informative. \n"
   ]
  }
 ],
 "metadata": {
  "kernelspec": {
   "display_name": "Java",
   "language": "java",
   "name": "java"
  },
  "language_info": {
   "name": "java",
   "version": "3.8.10 (default, Jun 22 2022, 20:18:18) \n[GCC 9.4.0]"
  },
  "orig_nbformat": 4,
  "vscode": {
   "interpreter": {
    "hash": "916dbcbb3f70747c44a77c7bcd40155683ae19c65e1c03b4aa3499c5328201f1"
   }
  }
 },
 "nbformat": 4,
 "nbformat_minor": 2
}
