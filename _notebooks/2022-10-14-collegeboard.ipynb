{
 "cells": [
  {
   "cell_type": "markdown",
   "metadata": {},
   "source": [
    "# College Board (Units 1-2) Blog\n",
    "> Jupyter Notebook on college board units 1-2 learning\n",
    "\n",
    "- toc: true\n",
    "- badges: true\n",
    "- comments: true\n",
    "- categories: [fastpages]"
   ]
  },
  {
   "cell_type": "markdown",
   "metadata": {},
   "source": [
    "# Unit 1 Primitives"
   ]
  },
  {
   "cell_type": "markdown",
   "metadata": {},
   "source": [
    "## Notes\n",
    "- Primitative Types include\n",
    "- Boolean (true/false), one bit\n",
    "- Int (integer values), 2-3 bits\n",
    "- Double (Decimal values) 64 bits\n",
    "- Short, Byte, Floats, Char\n",
    "- Operators include\n",
    "- /+ is addition\n",
    "- /- is subtraction\n",
    "- / is division\n",
    "- is modulus (remainder)\n",
    "- /* is multiplication\n",
    "- ++ ex ++x is x=x+1\n",
    "- -- ex --x is x= x-1\n",
    "- += ex x+=3 is x=x+3\n",
    "- -=ex x-=3 is x=x-3\n",
    "- Compound assignment operators (+=. -=) can be used in place of regular assignment operators\n",
    "- ++ and -- are increase and decrease operators "
   ]
  },
  {
   "cell_type": "code",
   "execution_count": null,
   "metadata": {
    "vscode": {
     "languageId": "java"
    }
   },
   "outputs": [],
   "source": [
    "public class CompOpsDemo {\n",
    "    public static void main(String[] args) {\n",
    "        int x = 6;\n",
    "        x += 7;\n",
    "        x -= 7;\n",
    "        x *= 3;\n",
    "        x /= 5;\n",
    "        x %= 3;\n",
    "    }\n",
    "}"
   ]
  },
  {
   "cell_type": "markdown",
   "metadata": {},
   "source": [
    "## Practice"
   ]
  },
  {
   "cell_type": "code",
   "execution_count": 12,
   "metadata": {
    "vscode": {
     "languageId": "java"
    }
   },
   "outputs": [],
   "source": [
    "import java.util.Scanner;\n",
    "public class gradecalc {\n",
    "\tpublic static void main(String[] args){\n",
    "\t\tScanner s = new Scanner(System.in);\n",
    "\t\tint students = 0;\n",
    "\t\tint exams = 0;\n",
    "\t\tdouble classav = 0;\n",
    "\t\tint count = 0;\n",
    "\t\tdouble lowest = 0;\n",
    "\t\tdouble highest = 0;\n",
    "\t\t\n",
    "\t\tString name;\n",
    "\t\t\n",
    "\t\tSystem.out.print(\"Please enter the number of students: \");\n",
    "\t\tstudents = s.nextInt();\n",
    "\t\tSystem.out.print(\"Please enter the number of exams   : \");\n",
    "\t\texams = s.nextInt();\n",
    "\t\tSystem.out.println(\"\\n\\n----------------------------------------\");\n",
    "\t\t\n",
    "\t\tString[] examScores = new String [exams];\n",
    "\t\t\n",
    "\t\twhile(count < students) {\n",
    "\t\t\tint totalExam=0;\n",
    "\t\t\tint starnum=0;\n",
    "\t\t\tchar letter='a';\n",
    "\t\t\tString stars= \"\";\n",
    "\t\t\n",
    "\t\t\t\n",
    "\t\tSystem.out.print(\"Enter student \" + (count+1) +\"'s name\\t: \");\n",
    "\t\tname = s.nextLine();\n",
    "\t\ts.nextLine(); \n",
    "\t\tSystem.out.print(\"Enter exam scores\\t: \");\n",
    "\t\texamScores = s.nextLine().split(\" \");\n",
    "\n",
    "\t\t\n",
    "\t\tfor(int i = 0; i < exams; i++){\n",
    "\t\t\ttotalExam += Integer.parseInt(examScores[i]);\n",
    "\t\t}//for loop\n",
    "\t\tint studentavg = totalExam / exams;\n",
    "\t\tSystem.out.println(\" Average: \" + studentavg);\n",
    "\t\t\n",
    "\t\tif(studentavg>=90){\n",
    "\t\t\tletter = 'A';\n",
    "\t\t\tstars = \"****\";\n",
    "\t\t\tstarnum = 4;\n",
    "\t\t}//if1\n",
    "\t\tif(studentavg<90 && studentavg>=80){\n",
    "\t\t\tletter = 'B';\n",
    "\t\t\tstars = \"***\";\n",
    "\t\t\tstarnum = 3;\n",
    "\t\t}//if2\n",
    "\t\tif(studentavg<80 && studentavg>=70){\n",
    "\t\t\tletter = 'C';\n",
    "\t\t\tstars = \"**\";\n",
    "\t\t\tstarnum = 2;\n",
    "\t\t}//if3\n",
    "\t\tif(studentavg<70 && studentavg>=60){\n",
    "\t\t\tletter = 'D';\n",
    "\t\t\tstars = \"*\";\n",
    "\t\t\tstarnum = 1;\n",
    "\t\t}//if4\n",
    "\t\tif(studentavg<60){\n",
    "\t\t\tletter = 'F';\n",
    "\t\t\tstars = \"\";\n",
    "\t\t\tstarnum = 0;\n",
    "\t\t}//if5\n",
    "\t\t\n",
    "\t\tSystem.out.println(\"Grade statistics for \" + name);\n",
    "\t\tSystem.out.println(\" Letter Grade: \" + letter);\n",
    "\t\tSystem.out.println(name + \" gets \" + starnum + \" stars! \"+ stars);\n",
    "\t\t\t\n",
    "\t\t\t\n",
    "\t\tSystem.out.println(\"\\n----------------------------------------\");\n",
    "\t\tclassav += studentavg;\n",
    "\t\tcount++;\n",
    "\t\t}// while loop\n",
    "\t\t\n",
    "\t\t\n",
    "\t\t\n",
    "\t\t\n",
    "\t\tSystem.out.println(\"Class statistics: \");\n",
    "\t\tSystem.out.println(\" Average: \"+ (classav / exams));\n",
    "\t\tSystem.out.println(\" Lowest : \" + lowest);\n",
    "\t\tSystem.out.println(\" Highest: \" + highest);\n",
    "\t\tSystem.out.println(\"Done. Good bye!\");\n",
    "\t\t\n",
    "\t\t}//main\n",
    "}//class\n"
   ]
  },
  {
   "cell_type": "markdown",
   "metadata": {},
   "source": [
    "# Unit 2 Objects"
   ]
  },
  {
   "cell_type": "markdown",
   "metadata": {},
   "source": [
    "## Notes\n",
    "- Object-oriented programming, refered to as OOP, is a programming paradigm that organizes software design around objects allowing data to operate and be bound together\n",
    "- Classes are a template from which objects are created. Objects created under the same class will share common methods and attributes.\n",
    "- Objects are instances of a class.\n",
    "- Methods, or functions, are a set of code that perform a specific task.\n",
    "- Ex: class vegetables would have objects carrot, tomato, etc.\n",
    "- Class attributes (which the objects will inherit) could be calorie count, quantity, or other values relevant to the class\n",
    "- Methods of the class would be actions relevant to the class like consume or save\n",
    "- Classes in Java can contain data members, methods, constructors, nested classes, and interfaces.\n",
    "- To initialize an object, you would use a class constructor\n",
    "- Defining and calling methods is advantageous because it allows for code reuse, optimization, and organization.\n",
    "- Calling a method:\n",
    "\tmethodName(parameter1, parameter2);\n",
    "- Calling an object's method:\n",
    "\tobjectReference.methodName(parameter1, parameter2);\n",
    "\n"
   ]
  },
  {
   "cell_type": "markdown",
   "metadata": {},
   "source": [
    "## Examples"
   ]
  },
  {
   "cell_type": "code",
   "execution_count": null,
   "metadata": {
    "vscode": {
     "languageId": "java"
    }
   },
   "outputs": [],
   "source": [
    "Painter myPainter = new Painter(); //Object initialized by calling a constructor\n",
    "\n",
    "\n",
    "public int max(int x, int y) // modifier, return-type, method=name, parameter-list\n",
    "{\n",
    "    if (x>y)\n",
    "        return x;\n",
    "    else \n",
    "        return y;\n",
    "}\n",
    "\n",
    "\n",
    "methodName(parameter1, parameter2); //Calling a method\n",
    "objectReference.methodName(parameter1, parameter2); //Calling an object's method\n"
   ]
  },
  {
   "cell_type": "markdown",
   "metadata": {},
   "source": [
    "## Practice"
   ]
  },
  {
   "cell_type": "markdown",
   "metadata": {},
   "source": [
    "### Creating a class w/ a method"
   ]
  },
  {
   "cell_type": "code",
   "execution_count": 3,
   "metadata": {
    "vscode": {
     "languageId": "java"
    }
   },
   "outputs": [
    {
     "name": "stdout",
     "output_type": "stream",
     "text": [
      "Physics\n",
      "Astrology\n",
      "Chemistry\n",
      "Biology\n"
     ]
    }
   ],
   "source": [
    "public class Science { // class created\n",
    "    \n",
    "    public void printTypes(){   // method\n",
    "        System.out.println(\"Physics\");\n",
    "        System.out.println(\"Astrology\");\n",
    "        System.out.println(\"Chemistry\");\n",
    "        System.out.println(\"Biology\");\n",
    "    }\n",
    "\n",
    "    public static void main(String[] args){  // main class that runs\n",
    "        Science myObject = new Science();    // creating an object from class\n",
    "        myObject.printTypes();    \n",
    "    }   \n",
    "\n",
    "}\n",
    "\n",
    "Science.main(null);"
   ]
  },
  {
   "cell_type": "markdown",
   "metadata": {},
   "source": [
    "### Inheriting a Class"
   ]
  },
  {
   "cell_type": "code",
   "execution_count": 6,
   "metadata": {
    "vscode": {
     "languageId": "java"
    }
   },
   "outputs": [
    {
     "name": "stdout",
     "output_type": "stream",
     "text": [
      "Physics\n",
      "Astrology\n",
      "Chemistry\n",
      "Biology\n"
     ]
    }
   ],
   "source": [
    "public class ScienceTypes extends Science{  // extending class\n",
    "    public ScienceTypes(){    // new class now has all the old class attributes\n",
    "    }\n",
    "\n",
    "    public static void main(String[] args){  // main class\n",
    "        ScienceTypes mySecondObject = new ScienceTypes();    // creates an object from the new class\n",
    "        mySecondObject.printTypes();      // reference methods and attributes from the inherited class\n",
    "    }\n",
    "}\n",
    "\n",
    "ScienceTypes.main(null);"
   ]
  }
 ],
 "metadata": {
  "kernelspec": {
   "display_name": "Java",
   "language": "java",
   "name": "java"
  },
  "language_info": {
   "codemirror_mode": "java",
   "file_extension": ".jshell",
   "mimetype": "text/x-java-source",
   "name": "Java",
   "pygments_lexer": "java",
   "version": "11.0.16+8-post-Ubuntu-0ubuntu120.04"
  },
  "orig_nbformat": 4,
  "vscode": {
   "interpreter": {
    "hash": "916dbcbb3f70747c44a77c7bcd40155683ae19c65e1c03b4aa3499c5328201f1"
   }
  }
 },
 "nbformat": 4,
 "nbformat_minor": 2
}
