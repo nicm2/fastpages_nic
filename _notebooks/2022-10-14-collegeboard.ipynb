{
 "cells": [
  {
   "cell_type": "markdown",
   "metadata": {},
   "source": [
    "# College Board (Units 1-2) Blog\n",
    "> Jupyter Notebook on college board units 1-2 learning\n",
    "\n",
    "- toc: true\n",
    "- badges: true\n",
    "- comments: true\n",
    "- categories: [fastpages]"
   ]
  },
  {
   "cell_type": "markdown",
   "metadata": {},
   "source": [
    "# Unit 1 Primitives"
   ]
  },
  {
   "cell_type": "markdown",
   "metadata": {},
   "source": [
    "## Notes\n",
    "- Primitative Types include\n",
    "- Boolean (true/false), one bit\n",
    "- Int (integer values), 2-3 bits\n",
    "- Double (Decimal values) 64 bits\n",
    "- Short, Byte, Floats, Char\n",
    "- Operators include\n",
    "- /+ is addition\n",
    "- /- is subtraction\n",
    "- / is division\n",
    "- is modulus (remainder)\n",
    "- /* is multiplication\n",
    "- ++ ex ++x is x=x+1\n",
    "- -- ex --x is x= x-1\n",
    "- += ex x+=3 is x=x+3\n",
    "- -=ex x-=3 is x=x-3\n",
    "- Compound assignment operators (+=. -=) can be used in place of regular assignment operators\n",
    "- ++ and -- are increase and decrease operators "
   ]
  },
  {
   "cell_type": "code",
   "execution_count": null,
   "metadata": {},
   "outputs": [],
   "source": [
    "public class CompOpsDemo {\n",
    "    public static void main(String[] args) {\n",
    "        int x = 6;\n",
    "        x += 7;\n",
    "        x -= 7;\n",
    "        x *= 3;\n",
    "        x /= 5;\n",
    "        x %= 3;\n",
    "    }\n",
    "}"
   ]
  },
  {
   "cell_type": "markdown",
   "metadata": {},
   "source": [
    "## Practice"
   ]
  },
  {
   "cell_type": "code",
   "execution_count": 13,
   "metadata": {},
   "outputs": [],
   "source": [
    "import java.util.Scanner;\n",
    "public class testScoreApp {\n",
    " \n",
    "    /**\n",
    "     * @param args the command line arguments\n",
    "     */\n",
    "    public static void main(String[] args) {\n",
    "        // TODO code application logic here\n",
    "       \n",
    " \n",
    " \n",
    "       {\n",
    "           // display operational messages\n",
    "           System.out.println(\"Please enter test scores that range from 0 to 100.\");\n",
    "           System.out.println(\"To end the program enter 999.\");\n",
    "           System.out.println();  // print a blank line\n",
    " \n",
    "           // initialize variables and create a Scanner object\n",
    "            \n",
    "           Scanner sc = new Scanner(System.in);\n",
    "           String choice = \"y\";\n",
    " \n",
    "           // get a series of test scores from the user\n",
    "           while (!choice.equalsIgnoreCase(\"n\"))\n",
    "           {\n",
    "               int scoreTotal = 0;\n",
    "               int scoreCount = 0;\n",
    "               int testScore = 0;\n",
    "               System.out.println(\"Enter the number of test score to be entered: \");\n",
    "               int numberOfTestScores = sc.nextInt();\n",
    " \n",
    "               for (int i = 1; i <= numberOfTestScores; i++)\n",
    "               {\n",
    "                    // get the input from the user\n",
    "                    System.out.print(\"Enter score \" + i + \": \");\n",
    "                    testScore = sc.nextInt();\n",
    " \n",
    "                    // accumulate score count and score total\n",
    "                    if (testScore <= 100)\n",
    "                    {\n",
    "                         scoreCount = scoreCount + 1;\n",
    "                         scoreTotal = scoreTotal + testScore;\n",
    "                     \n",
    "                      \n",
    "                    }\n",
    "                    else if (testScore > 100) \n",
    "                 System.out.println(\"Invalid entry, not counted\");\n",
    "                     \n",
    " \n",
    " \n",
    "                }\n",
    "                double averageScore = scoreTotal / scoreCount;\n",
    "                String message = \"\\n\" +\n",
    "                     \"Score count:   \" + scoreCount + \"\\n\"\n",
    "                   + \"Score total:   \" + scoreTotal + \"\\n\"\n",
    "                   + \"Average score: \" + averageScore + \"\\n\";\n",
    "                System.out.println(message);\n",
    "                System.out.println();\n",
    "                System.out.println(\"Enter more test scores? (y/n)\");\n",
    "                choice= sc.next();\n",
    "          }\n",
    " \n",
    " \n",
    " \n",
    "    // display the score count, score total, and average score\n",
    " \n",
    " \n",
    " \n",
    "    }\n",
    "}\n",
    "    }"
   ]
  },
  {
   "cell_type": "markdown",
   "metadata": {},
   "source": [
    "# Unit 2 Objects"
   ]
  },
  {
   "cell_type": "markdown",
   "metadata": {},
   "source": [
    "## Notes\n",
    "- Object-oriented programming, refered to as OOP, is a programming paradigm that organizes software design around objects allowing data to operate and be bound together\n",
    "- Classes are a template from which objects are created. Objects created under the same class will share common methods and attributes.\n",
    "- Objects are instances of a class.\n",
    "- Methods, or functions, are a set of code that perform a specific task.\n",
    "- Ex: class vegetables would have objects carrot, tomato, etc.\n",
    "- Class attributes (which the objects will inherit) could be calorie count, quantity, or other values relevant to the class\n",
    "- Methods of the class would be actions relevant to the class like consume or save\n",
    "- Classes in Java can contain data members, methods, constructors, nested classes, and interfaces.\n",
    "- To initialize an object, you would use a class constructor\n",
    "- Defining and calling methods is advantageous because it allows for code reuse, optimization, and organization.\n",
    "- Calling a method:\n",
    "\tmethodName(parameter1, parameter2);\n",
    "- Calling an object's method:\n",
    "\tobjectReference.methodName(parameter1, parameter2);\n",
    "\n"
   ]
  },
  {
   "cell_type": "markdown",
   "metadata": {},
   "source": [
    "## Examples"
   ]
  },
  {
   "cell_type": "code",
   "execution_count": null,
   "metadata": {},
   "outputs": [],
   "source": [
    "Painter myPainter = new Painter(); //Object initialized by calling a constructor\n",
    "\n",
    "\n",
    "public int max(int x, int y) // modifier, return-type, method=name, parameter-list\n",
    "{\n",
    "    if (x>y)\n",
    "        return x;\n",
    "    else \n",
    "        return y;\n",
    "}\n",
    "\n",
    "\n",
    "methodName(parameter1, parameter2); //Calling a method\n",
    "objectReference.methodName(parameter1, parameter2); //Calling an object's method\n"
   ]
  },
  {
   "cell_type": "markdown",
   "metadata": {},
   "source": [
    "## Practice"
   ]
  },
  {
   "cell_type": "markdown",
   "metadata": {},
   "source": [
    "### Creating a class w/ a method"
   ]
  },
  {
   "cell_type": "code",
   "execution_count": 3,
   "metadata": {},
   "outputs": [
    {
     "name": "stdout",
     "output_type": "stream",
     "text": [
      "Physics\n",
      "Astrology\n",
      "Chemistry\n",
      "Biology\n"
     ]
    }
   ],
   "source": [
    "public class Science { // class created\n",
    "    \n",
    "    public void printTypes(){   // method\n",
    "        System.out.println(\"Physics\");\n",
    "        System.out.println(\"Astrology\");\n",
    "        System.out.println(\"Chemistry\");\n",
    "        System.out.println(\"Biology\");\n",
    "    }\n",
    "\n",
    "    public static void main(String[] args){  // main class that runs\n",
    "        Science myObject = new Science();    // creating an object from class\n",
    "        myObject.printTypes();    \n",
    "    }   \n",
    "\n",
    "}\n",
    "\n",
    "Science.main(null);"
   ]
  },
  {
   "cell_type": "markdown",
   "metadata": {},
   "source": [
    "### Inheriting a Class"
   ]
  },
  {
   "cell_type": "code",
   "execution_count": 6,
   "metadata": {},
   "outputs": [
    {
     "name": "stdout",
     "output_type": "stream",
     "text": [
      "Physics\n",
      "Astrology\n",
      "Chemistry\n",
      "Biology\n"
     ]
    }
   ],
   "source": [
    "public class ScienceTypes extends Science{  // extending class\n",
    "    public ScienceTypes(){    // new class now has all the old class attributes\n",
    "    }\n",
    "\n",
    "    public static void main(String[] args){  // main class\n",
    "        ScienceTypes mySecondObject = new ScienceTypes();    // creates an object from the new class\n",
    "        mySecondObject.printTypes();      // reference methods and attributes from the inherited class\n",
    "    }\n",
    "}\n",
    "\n",
    "ScienceTypes.main(null);"
   ]
  }
 ],
 "metadata": {
  "kernelspec": {
   "display_name": "Java",
   "language": "java",
   "name": "java"
  },
  "language_info": {
   "codemirror_mode": "java",
   "file_extension": ".jshell",
   "mimetype": "text/x-java-source",
   "name": "java",
   "pygments_lexer": "java",
   "version": "11.0.16+8-post-Ubuntu-0ubuntu120.04"
  },
  "orig_nbformat": 4,
  "vscode": {
   "interpreter": {
    "hash": "916dbcbb3f70747c44a77c7bcd40155683ae19c65e1c03b4aa3499c5328201f1"
   }
  }
 },
 "nbformat": 4,
 "nbformat_minor": 2
}
