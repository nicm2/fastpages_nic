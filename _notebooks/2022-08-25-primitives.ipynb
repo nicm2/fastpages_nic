{
 "cells": [
  {
   "cell_type": "markdown",
   "metadata": {},
   "source": [
    "# Primitives and Data Types for Java\n",
    "> A Jupyter Notebook for primitves and data types learning\n",
    "\n",
    "- toc: true \n",
    "- badges: true\n",
    "- comments: true\n",
    "- categories: [jupyter]"
   ]
  },
  {
   "cell_type": "markdown",
   "metadata": {},
   "source": [
    "## Data Types"
   ]
  },
  {
   "cell_type": "markdown",
   "metadata": {},
   "source": [
    "### Primitives\n",
    "A primitive type is a predefined by the language and is named by a reserved keyword. Primitve values do not share state with other primitive values. There are eight primitive data types in Java:\n",
    "- byte: data type of an 8-bit signed two's complement integer\n",
    "- short: data type of a 16-bit signed two's complement integer\n",
    "- int: integer or whole number value\n",
    "- long: data type of a 64-bit two's complement integer\n",
    "- float: data type of fractional or decimal numbers (32 bits)\n",
    "- double: data type of fractional or decimal numbers (64 bits)\n",
    "- boolean: data type that stores either true or false\n",
    "- char: a unicode character"
   ]
  },
  {
   "cell_type": "code",
   "execution_count": 5,
   "metadata": {},
   "outputs": [],
   "source": [
    "byte a = 91;\n",
    "short b = 823;\n",
    "int c = 18913;\n",
    "long d = 89245621;\n",
    "double f = 7.9123431893; \n",
    "boolean g = true;\n",
    "char h = 'n';"
   ]
  },
  {
   "cell_type": "markdown",
   "metadata": {},
   "source": [
    "### Wrapper Classes"
   ]
  },
  {
   "cell_type": "markdown",
   "metadata": {},
   "source": [
    "Wrapper classes allow the user to use primitve data types (ex: int, double) as objects and methods\n",
    "- Byte wraps for byte\n",
    "- Short wraps for short\n",
    "- Integer wraps for int\n",
    "- Long wraps for long\n",
    "- Float wraps for float\n",
    "- Double wraps for double\n",
    "- Boolean wraps for boolean\n",
    "- Character wraps for char"
   ]
  },
  {
   "cell_type": "markdown",
   "metadata": {},
   "source": [
    "To make a wrapper object, you use the wrappper class insetead of the primitive type"
   ]
  },
  {
   "cell_type": "code",
   "execution_count": 10,
   "metadata": {},
   "outputs": [
    {
     "name": "stdout",
     "output_type": "stream",
     "text": [
      "4\n",
      "4.79\n",
      "C\n"
     ]
    }
   ],
   "source": [
    "\n",
    "      Integer myInt = 4;\n",
    "      Double myDouble = 4.79;\n",
    "      Character myChar = 'C';\n",
    "      System.out.println(myInt);\n",
    "      System.out.println(myDouble);\n",
    "      System.out.println(myChar);"
   ]
  },
  {
   "cell_type": "markdown",
   "metadata": {},
   "source": [
    "Strings are also wrapper classes as they are a sequence or array of characters"
   ]
  }
 ],
 "metadata": {
  "kernelspec": {
   "display_name": "Java",
   "language": "java",
   "name": "java"
  },
  "language_info": {
   "codemirror_mode": "java",
   "file_extension": ".jshell",
   "mimetype": "text/x-java-source",
   "name": "java",
   "pygments_lexer": "java",
   "version": "11.0.16+8-post-Ubuntu-0ubuntu120.04"
  },
  "orig_nbformat": 4,
  "vscode": {
   "interpreter": {
    "hash": "916dbcbb3f70747c44a77c7bcd40155683ae19c65e1c03b4aa3499c5328201f1"
   }
  }
 },
 "nbformat": 4,
 "nbformat_minor": 2
}
