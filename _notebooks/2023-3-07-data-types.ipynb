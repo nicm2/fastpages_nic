{
 "cells": [
  {
   "cell_type": "code",
   "execution_count": 1,
   "metadata": {
    "vscode": {
     "languageId": "java"
    }
   },
   "outputs": [
    {
     "name": "stdout",
     "output_type": "stream",
     "text": [
      "What is your first binary number: \n",
      "What is your second binary number: \n",
      "Sum of two binary numbers is: 1101\n"
     ]
    }
   ],
   "source": [
    "\n",
    "Scanner sc = new Scanner(System.in);\n",
    "System.out.println(\"What is your first binary number: \");\n",
    "int a = Integer.parseInt(sc.nextLine(), 2);\n",
    "System.out.println(\"What is your second binary number: \");\n",
    "int b = Integer.parseInt(sc.nextLine(), 2);\n",
    "\n",
    "\n",
    "int sum = a + b;\n",
    "System.out.println(\"Sum of two binary numbers is: \" + Integer.toBinaryString(sum));\n"
   ]
  }
 ],
 "metadata": {
  "kernelspec": {
   "display_name": "Java",
   "language": "java",
   "name": "java"
  },
  "language_info": {
   "codemirror_mode": "java",
   "file_extension": ".jshell",
   "mimetype": "text/x-java-source",
   "name": "Java",
   "pygments_lexer": "java",
   "version": "17.0.5+8-Ubuntu-2ubuntu120.04"
  },
  "orig_nbformat": 4
 },
 "nbformat": 4,
 "nbformat_minor": 2
}
