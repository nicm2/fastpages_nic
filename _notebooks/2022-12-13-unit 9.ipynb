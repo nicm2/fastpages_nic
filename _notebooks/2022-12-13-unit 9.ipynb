{
 "cells": [
  {
   "attachments": {},
   "cell_type": "markdown",
   "metadata": {},
   "source": [
    "# College Board Unit 9 Blog\n",
    "> Jupyter Notebook on college board unit 9 learning\n",
    "\n",
    "- toc: true\n",
    "- badges: true\n",
    "- comments: true\n",
    "- categories: [fastpages,collegeboard]"
   ]
  },
  {
   "attachments": {},
   "cell_type": "markdown",
   "metadata": {},
   "source": [
    "Inheritance and it's use\n",
    "- it doesn't really make sense to redefine the methods for gas and breaks for every single car, when it will do the same thing\n",
    "- Instead you can use case for inheritance. We can define a base \"Car Class\" that has the methods and attributes common to every car - steering methods, gas and break methods, and attributes like speed and miles per gallon.\n",
    "- Each car will \"extend\" from this base class. This means that it \"inherits\" the methods and attributes in the base Car Class (this is why it's called Inheritance). But each of the new car classes, for example a Bugatti Class, will have its own special methods and attributes.\n",
    "- Super class: generic methods all objects would have\n",
    "- Protected is an access modifier so that the attribute isn't affected by outside modifiers.\n"
   ]
  },
  {
   "cell_type": "code",
   "execution_count": 1,
   "metadata": {},
   "outputs": [],
   "source": [
    "public class Car {\n",
    "    protected String brandName;\n",
    "    protected double range;\n",
    "    protected double doorNumber;\n",
    "    protected double maxSpeed;\n",
    "    \n",
    "    // Constructor for the attributes present in the superclass\n",
    "    public Car(String brandName, double range, double doorNumber, double maxSpeed) {\n",
    "        this.brandName = brandName;\n",
    "        this.range = range;\n",
    "        this.doorNumber = doorNumber;\n",
    "        this.maxSpeed = maxSpeed;\n",
    "    }\n",
    "    \n",
    "    public void gas () {\n",
    "        System.out.println(\"Go!\");\n",
    "    }\n",
    "    \n",
    "    public void brake () {\n",
    "        System.out.println(\"Stop!\");\n",
    "    }\n",
    "    \n",
    "    public void gearShift () {\n",
    "        System.out.println(\"Use the stick\");\n",
    "    }\n",
    "    \n",
    "    public void steer () {\n",
    "        System.out.println(\"turning left...\");\n",
    "    }\n",
    "    \n",
    "    public void horn () {\n",
    "        System.out.print(\"honking... \");\n",
    "    }\n",
    "}"
   ]
  },
  {
   "cell_type": "code",
   "execution_count": 2,
   "metadata": {},
   "outputs": [
    {
     "name": "stdout",
     "output_type": "stream",
     "text": [
      "Go!\n",
      "Use the gear selector next to the wheel\n",
      "turning right...\n",
      "honking... eugh\n",
      "honking... brrr\n"
     ]
    }
   ],
   "source": [
    "public class TeslaModelS extends Car {\n",
    "    // Additional attribute not present in the superclass\n",
    "    protected String hornSound; \n",
    "    \n",
    "    // Constructor for Subclass\n",
    "    public TeslaModelS(String brandName, double range, double doorNumber, double maxSpeed, String hornSound) {\n",
    "        // We use the Superclass constructor for the shared attributes through the keyword \"super\"\n",
    "        super(brandName, range, doorNumber, maxSpeed);\n",
    "        // hornSound is not in the Superclass, so we add it separately in the constructor\n",
    "        this.hornSound = hornSound;\n",
    "    }\n",
    "    \n",
    "    // We use override to change the functionality in the subclass of an existing method in the superclass\n",
    "    @Override\n",
    "    public void gearShift () {\n",
    "        System.out.println(\"Use the gear selector next to the wheel\");\n",
    "    }\n",
    "    public void steer () {\n",
    "        System.out.println(\"turning right...\");\n",
    "    }\n",
    "    \n",
    "    // Here, we don't fully change the functionality of the existing horn method in the superclass\n",
    "    // Instead, we take all of the functionality of the superclass method, and then add on to it\n",
    "    public void horn () {\n",
    "        super.horn();\n",
    "        System.out.println(hornSound);\n",
    "    }\n",
    "    \n",
    "    public static void main(String[] args) {\n",
    "        // 5 argument constructor\n",
    "        TeslaModelS modelS = new TeslaModelS(\"Tesla\", 396, 4, 200, \"eugh\");\n",
    "        // Example of late binding\n",
    "        Car car = new TeslaModelS(\"Tesla\", 396, 4, 200, \"brrr\");\n",
    "        // We can still use the methods from the child class, even though we didn't mention them in the subclass!\n",
    "        modelS.gas();\n",
    "        // Using the overridden method\n",
    "        modelS.gearShift();\n",
    "        modelS.steer();\n",
    "        // Using the method we added on to\n",
    "        modelS.horn();\n",
    "        car.horn();\n",
    "    }\n",
    "    \n",
    "    \n",
    "}\n",
    "TeslaModelS.main(null);"
   ]
  },
  {
   "attachments": {},
   "cell_type": "markdown",
   "metadata": {},
   "source": [
    "Overiding Methods\n",
    "- Overriding allows a subclass or child class to provide a specific implementation of a method that has already been provided by a super-classes or parent classes.\n",
    "- When a method in a subclass has the same name, same parameters or signature, and same return type (or sub-type) as a method in its super-class, then the method in the subclass will override the method in the super-class."
   ]
  },
  {
   "cell_type": "code",
   "execution_count": 3,
   "metadata": {},
   "outputs": [
    {
     "ename": "CompilationException",
     "evalue": "",
     "output_type": "error",
     "traceback": [
      "\u001b[1m\u001b[30m|   \u001b[1m\u001b[30m\u001b[0m\u001b[1m\u001b[30m\u001b[41m@Override\u001b[0m\u001b[1m\u001b[30m\u001b[0m",
      "\u001b[1m\u001b[31mstatic methods cannot be annotated with @Override\u001b[0m",
      ""
     ]
    }
   ],
   "source": [
    "// the existing method in the superclass\n",
    "public void gearShift () {\n",
    "    System.out.println(\"Use the stick\");\n",
    "}\n",
    "\n",
    "public void steer () {\n",
    "    System.out.println(\"turning left...\");\n",
    "}\n",
    "\n",
    "// We use override to change the functionality in the subclass of an existing method in the superclass\n",
    "@Override\n",
    "public void gearShift () {\n",
    "    System.out.println(\"Use the gear selector next to the wheel\");\n",
    "}\n",
    "public void steer () {\n",
    "    System.out.println(\"turning right...\");\n",
    "}"
   ]
  },
  {
   "attachments": {},
   "cell_type": "markdown",
   "metadata": {},
   "source": [
    "Super keyword \n",
    "- Way to use constructors in the superclass and methods in the superclass in a child class."
   ]
  },
  {
   "attachments": {},
   "cell_type": "markdown",
   "metadata": {},
   "source": [
    "Inheritance Hierarchy\n",
    "- similar to looking at it like a family tree. A is the superclass, or the head of the family. The descendants are the subclasses."
   ]
  },
  {
   "attachments": {},
   "cell_type": "markdown",
   "metadata": {},
   "source": [
    "Polymorphism\n",
    "- It means that we do one thing in many ways through inheritance.\n",
    "- if you want to do a single method in a single class, but in different ways"
   ]
  },
  {
   "cell_type": "code",
   "execution_count": null,
   "metadata": {},
   "outputs": [],
   "source": [
    "public class ToyotaCamry extends Car {\n",
    "    \n",
    "    public ToyotaCamry (String brandName, double range, double doorNumber, double maxSpeed) {\n",
    "        super(brandName, range, doorNumber, maxSpeed);\n",
    "    }\n",
    "    \n",
    "    @Override\n",
    "    public void gearShift () {\n",
    "        System.out.println(\"Manual shift!\");\n",
    "    }\n",
    "    \n",
    "    public void turbo (int a) {\n",
    "        System.out.println(\"Engaging turbo \" + a);\n",
    "    }\n",
    "    \n",
    "    public void turbo (int a, int b) {\n",
    "        System.out.println(\"Engaging turbo \" + a + \" and nitro \" + b);\n",
    "    }\n",
    "    \n",
    "        \n",
    "    public static void main(String[] args) {\n",
    "        // 4 superclass argument constructor\n",
    "        ToyotaCamry camry = new ToyotaCamry(\"Toyota\", 348, 4, 145);\n",
    "        // Using the overridden method\n",
    "        camry.gearShift();\n",
    "        // Using the overloaded method\n",
    "        camry.turbo(1);\n",
    "        camry.turbo(1, 1);\n",
    "\n",
    "    }\n",
    "}\n",
    "ToyotaCamry.main(null);"
   ]
  },
  {
   "attachments": {},
   "cell_type": "markdown",
   "metadata": {},
   "source": [
    "Object Superclass\n",
    "\n",
    "- Object class is the superclass of all other classes in Java\n",
    "- Object is part of the java.lang package (know for imports)\n",
    "- Important Object class methods include: boolean equals(Object x) & String toString()\n",
    "- Object class' subclasses override the equals and toString methods\n",
    "\n",
    "toString Method\n",
    "\n",
    "- Prints out the attributes of an object\n",
    "- Converts string object into a string\n",
    "\n",
    "equals Method\n",
    "\n",
    "- Compares two strings\n",
    "- Returns a boolean value of true if equal, otherwise returns false"
   ]
  }
 ],
 "metadata": {
  "kernelspec": {
   "display_name": "Java",
   "language": "java",
   "name": "java"
  },
  "language_info": {
   "codemirror_mode": "java",
   "file_extension": ".jshell",
   "mimetype": "text/x-java-source",
   "name": "java",
   "pygments_lexer": "java",
   "version": "17.0.5+8-Ubuntu-2ubuntu120.04"
  },
  "orig_nbformat": 4,
  "vscode": {
   "interpreter": {
    "hash": "916dbcbb3f70747c44a77c7bcd40155683ae19c65e1c03b4aa3499c5328201f1"
   }
  }
 },
 "nbformat": 4,
 "nbformat_minor": 2
}
