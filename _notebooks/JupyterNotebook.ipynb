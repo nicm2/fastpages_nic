{
 "cells": [
  {
   "cell_type": "code",
   "execution_count": 1,
   "metadata": {},
   "outputs": [
    {
     "name": "stdout",
     "output_type": "stream",
     "text": [
      "Welcome to Nick's Jupyter Notebook in VSCODE\n"
     ]
    }
   ],
   "source": [
    "msg = \"Welcome to Nick's Jupyter Notebook in VSCODE\"\n",
    "print(msg)"
   ]
  }
 ],
 "metadata": {
  "kernelspec": {
   "display_name": "Python 3.9.6 64-bit",
   "language": "python",
   "name": "python3"
  },
  "language_info": {
   "codemirror_mode": {
    "name": "ipython",
    "version": 3
   },
   "file_extension": ".py",
   "mimetype": "text/x-python",
   "name": "python",
   "nbconvert_exporter": "python",
   "pygments_lexer": "ipython3",
   "version": "3.9.6"
  },
  "orig_nbformat": 4,
  "vscode": {
   "interpreter": {
    "hash": "579638324a7dd5bd9706b5741ff857aa6e725f56f96cab420f3065ff95ac97c9"
   }
  }
 },
 "nbformat": 4,
 "nbformat_minor": 2
}
