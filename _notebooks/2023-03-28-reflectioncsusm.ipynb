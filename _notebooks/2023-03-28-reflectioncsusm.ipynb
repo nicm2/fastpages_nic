{
 "cells": [
  {
   "attachments": {},
   "cell_type": "markdown",
   "metadata": {},
   "source": [
    "# CSUSM Reflection\n",
    "> Jupyter Notebook on CSUSM reflection\n",
    "\n",
    "- toc: true\n",
    "- badges: true\n",
    "- comments: true\n",
    "- categories: [fastpages]"
   ]
  },
  {
   "attachments": {},
   "cell_type": "markdown",
   "metadata": {},
   "source": [
    "# CSUSM Reflection - Cal State Ambassadors "
   ]
  },
  {
   "attachments": {},
   "cell_type": "markdown",
   "metadata": {},
   "source": [
    "One of the lecturers found her passion in physics and math related subjects. She explained how when she first took AP Physics and AP Calc, she struggled and ended up failing the class. However, she persisted because even though she failed, she still really enjoyed doing physics and wanted to pursue it as a career. I can relate to this struggle as in my first trimester in AP Physics, even though I liked the subject, I struggled and got my first ever B. It has been really demotivativing after I struggled to do well, but her experience shows me that it dosen't matter how many times you fail, its more important to find what you like to do and work towards it. Its not about how hard you fall, its about how you get back up and try again. She also talked about the importance and prevelance of coding even if its not in a CS related major. It made me further understand just how crucial an understanding of computer science and coding is, even if I want to be an engineer or major in a physics related major. Even though I may not want to directly major in CS my knowledge and understanding of computer science will help me be successful in a variety of majors and is very important. I was also intrested in the large variety of clubs and extracirricular opportunities offered at Cal State and other universities and how much the lecturers stressed getting involved in clubs and groups on campus. In highschool I feel I haven't been as involved as I should be in school spirit and acitivies including clubs, but I want that to change in college. I feel that college will present an opportunity to be more involved in the school culture, meet new people, develop leadership experience, and overall become a more well rounded individual. I was also intrested by internships and summer program opportunities that allow you to find out what you want to pursue in the future. Personally, I still am relatively undecided with what I want to do in college and in my future and I think that the programs in research will help me narrow down my search. I also found out how important it is to consider the expenses that come with college and universities. I learned that scholarship opportunities can be good ways to avoid student debt and still get into a good college. Finally, I thought it was intresting that you could complete your undergraduate at one university, and then transfer to another school and complete your further education (Masters, etc.). This is somewhat releving as I have been pretty stressed with getting in to a good college right out of high-school, but learning about the flexibility that comes with college education makes me feel more confident in my future. Overall, the lecture gave me important insight into the college experience and helped me to feel more confident about my future endevaours and career."
   ]
  }
 ],
 "metadata": {
  "kernelspec": {
   "display_name": "Java",
   "language": "java",
   "name": "java"
  },
  "language_info": {
   "codemirror_mode": "java",
   "file_extension": ".jshell",
   "mimetype": "text/x-java-source",
   "name": "Java",
   "pygments_lexer": "java",
   "version": "17.0.5+8-Ubuntu-2ubuntu120.04"
  },
  "orig_nbformat": 4
 },
 "nbformat": 4,
 "nbformat_minor": 2
}
