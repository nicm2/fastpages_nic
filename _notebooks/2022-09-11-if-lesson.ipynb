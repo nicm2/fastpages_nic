{
 "cells": [
  {
   "cell_type": "markdown",
   "metadata": {},
   "source": [
    "# Boolean Expressions and If Statement Lesson\n",
    "> A Jupyter Notebook for Boolean Expressions and If Statements\n",
    "\n",
    "- toc: true \n",
    "- badges: true\n",
    "- comments: true\n",
    "- categories: [jupyter]"
   ]
  },
  {
   "cell_type": "markdown",
   "metadata": {},
   "source": [
    "## If Statement\n",
    "An if statement executes a block of code when a specified boolean expression is evaluated as true."
   ]
  },
  {
   "cell_type": "code",
   "execution_count": 2,
   "metadata": {
    "vscode": {
     "languageId": "java"
    }
   },
   "outputs": [
    {
     "name": "stdout",
     "output_type": "stream",
     "text": [
      "This code executes\n"
     ]
    }
   ],
   "source": [
    "boolean condition = true;\n",
    "\n",
    "if (condition == true) {\n",
    "    System.out.println(\"This code executes\");\n",
    "}\n",
    "// Prints: This code executes\n",
    " \n",
    "if (condition == false) {\n",
    "    System.out.println(\"This code does not execute\");\n",
    "}\n",
    "// There is no output for the above statement"
   ]
  },
  {
   "cell_type": "markdown",
   "metadata": {},
   "source": [
    "## If Else Statement\n",
    "The else statement executes a block of code when the condition inside the if statement is false. The else statement is always the last condition."
   ]
  },
  {
   "cell_type": "code",
   "execution_count": 3,
   "metadata": {
    "vscode": {
     "languageId": "java"
    }
   },
   "outputs": [
    {
     "name": "stdout",
     "output_type": "stream",
     "text": [
      "condition is not true\n"
     ]
    }
   ],
   "source": [
    "boolean condition = false;\n",
    " \n",
    "if (condition){\n",
    "    System.out.println(\"condition is true\");\n",
    "}\n",
    "else{\n",
    "    System.out.println(\"condition is not true\");\n",
    "}\n",
    "// Prints: condition1 is not true"
   ]
  },
  {
   "cell_type": "markdown",
   "metadata": {},
   "source": [
    "## Else If Statement\n",
    "Else-if statements can be chained together to check multiple conditions. Once a condition is true, a code block will be executed and the conditional statement will be exited."
   ]
  },
  {
   "cell_type": "code",
   "execution_count": 5,
   "metadata": {
    "vscode": {
     "languageId": "java"
    }
   },
   "outputs": [
    {
     "name": "stdout",
     "output_type": "stream",
     "text": [
      "C\n"
     ]
    }
   ],
   "source": [
    "int classGrade = 76;\n",
    "char grade;\n",
    " \n",
    "if (classGrade >= 90) {\n",
    "  grade = 'A';\n",
    "} else if (classGrade >= 80) {\n",
    "  grade = 'B';\n",
    "} else if (classGrade >= 70) {\n",
    "  grade = 'C';\n",
    "} else if (classGrade >= 60) {\n",
    "  grade = 'D';\n",
    "} else {\n",
    "  grade = 'F';\n",
    "}\n",
    " \n",
    "System.out.println(grade); "
   ]
  },
  {
   "cell_type": "markdown",
   "metadata": {},
   "source": [
    "## Switch Cases\n",
    "Similar to else if statements but switch cases can have a number of possible execution paths. The value of the expression is compared with the values of each case, iff there is a match, the associated block of code is executed."
   ]
  },
  {
   "cell_type": "code",
   "execution_count": 11,
   "metadata": {
    "vscode": {
     "languageId": "java"
    }
   },
   "outputs": [
    {
     "name": "stdout",
     "output_type": "stream",
     "text": [
      "September\n"
     ]
    }
   ],
   "source": [
    "        int month = 9;\n",
    "        String monthName;\n",
    "        switch (month) {\n",
    "            case 1:  monthName = \"January\";\n",
    "                     break;\n",
    "            case 2:  monthName = \"February\";\n",
    "                     break;\n",
    "            case 3:  monthName = \"March\";\n",
    "                     break;\n",
    "            case 4:  monthName = \"April\";\n",
    "                     break;\n",
    "            case 5:  monthName = \"May\";\n",
    "                     break;\n",
    "            case 6:  monthName = \"June\";\n",
    "                     break;\n",
    "            case 7:  monthName = \"July\";\n",
    "                     break;\n",
    "            case 8:  monthName = \"August\";\n",
    "                     break;\n",
    "            case 9:  monthName = \"September\";\n",
    "                     break;\n",
    "            case 10: monthName = \"October\";\n",
    "                     break;\n",
    "            case 11: monthName = \"November\";\n",
    "                     break;\n",
    "            case 12: monthName = \"December\";\n",
    "                     break;\n",
    "            default: monthName = \"Invalid month\";\n",
    "                     break;\n",
    "        }\n",
    "        System.out.println(monthName);\n"
   ]
  },
  {
   "cell_type": "markdown",
   "metadata": {},
   "source": [
    "## De Morgan's Law\n",
    "Laws that define how we can negate an AND statement and how we can negate an OR statement. De Morgan’s Laws simply state: !(a && b) is equivalent to !a || !b and !(a || b) is equivalent to !a && !b. not (a and b) is the same as (not a) or (not b) and not (a or b) is the same as (not a) and (not b)"
   ]
  },
  {
   "cell_type": "code",
   "execution_count": 12,
   "metadata": {
    "vscode": {
     "languageId": "java"
    }
   },
   "outputs": [
    {
     "name": "stdout",
     "output_type": "stream",
     "text": [
      "false\n",
      "false\n"
     ]
    }
   ],
   "source": [
    "public class DeMorgansAndTest\n",
    "{\n",
    "   public static void main(String[] args)\n",
    "   {\n",
    "     int x = 13;\n",
    "     int y = 151;\n",
    "     System.out.println(!(x<15 && y > 150));\n",
    "     System.out.println(!(x<15) || !(y > 150));\n",
    "   }\n",
    "}\n",
    "\n",
    "DeMorgansAndTest.main(null)"
   ]
  },
  {
   "cell_type": "code",
   "execution_count": 15,
   "metadata": {
    "vscode": {
     "languageId": "java"
    }
   },
   "outputs": [
    {
     "name": "stdout",
     "output_type": "stream",
     "text": [
      "true\n",
      "true\n"
     ]
    }
   ],
   "source": [
    "public class DeMorgansAndTest\n",
    "{\n",
    "   public static void main(String[] args)\n",
    "   {\n",
    "     int x = 28;\n",
    "     int y = 100;\n",
    "     System.out.println(!(x<21 || y > 130));\n",
    "     System.out.println(!(x<21) && !(y > 130));\n",
    "   }\n",
    "}\n",
    "\n",
    "DeMorgansAndTest.main(null)"
   ]
  }
 ],
 "metadata": {
  "kernelspec": {
   "display_name": "Java",
   "language": "java",
   "name": "java"
  },
  "language_info": {
   "codemirror_mode": "java",
   "file_extension": ".jshell",
   "mimetype": "text/x-java-source",
   "name": "Java",
   "pygments_lexer": "java",
   "version": "11.0.16+8-post-Ubuntu-0ubuntu120.04"
  },
  "orig_nbformat": 4
 },
 "nbformat": 4,
 "nbformat_minor": 2
}
