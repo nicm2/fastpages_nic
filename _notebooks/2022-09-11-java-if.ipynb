{
 "cells": [
  {
   "cell_type": "markdown",
   "id": "82fde87d",
   "metadata": {},
   "source": [
    "# Java Conditionals Notebook"
   ]
  },
  {
   "cell_type": "markdown",
   "id": "183347da",
   "metadata": {},
   "source": [
    "### If Statements\n",
    "If statements evaluate the conditional given, and if true, execute the code block inside the statement. "
   ]
  },
  {
   "cell_type": "code",
   "execution_count": 2,
   "id": "8ca309ca",
   "metadata": {
    "vscode": {
     "languageId": "java"
    }
   },
   "outputs": [
    {
     "name": "stdout",
     "output_type": "stream",
     "text": [
      "Enter a number: 10.0\n",
      "Enter another number: 5.0\n",
      "10.0 is divisible by 5.0\n"
     ]
    }
   ],
   "source": [
    "import java.util.Scanner;\n",
    "Scanner scanner = new Scanner(System.in);\n",
    "\n",
    "double x;\n",
    "double y;\n",
    "\n",
    "System.out.print(\"Enter a number: \");\n",
    "\n",
    "x = scanner.nextDouble();\n",
    "\n",
    "System.out.println(x);\n",
    "\n",
    "System.out.print(\"Enter another number: \");\n",
    "\n",
    "y = scanner.nextDouble();\n",
    "\n",
    "System.out.println(y);\n",
    "\n",
    "// Modulo function returns remainder of x and y\n",
    "// checks if remainder of x and y is 0 (meaning it is divisible)\n",
    "if (x % y == 0) {\n",
    "  System.out.println(x + \" is divisible by \" + y);\n",
    "}\n"
   ]
  },
  {
   "cell_type": "markdown",
   "id": "0cf5f7dc",
   "metadata": {},
   "source": [
    "### If-Else Statements\n",
    "If statements contain code to be run if a given conditional is true. Else statements contain code to be run if that conditional is proven false. "
   ]
  },
  {
   "cell_type": "code",
   "execution_count": 7,
   "id": "50f08c05",
   "metadata": {
    "vscode": {
     "languageId": "java"
    }
   },
   "outputs": [
    {
     "name": "stdout",
     "output_type": "stream",
     "text": [
      "Enter a number: 20.0\n",
      "Enter another number: 7.0\n",
      "20.0 is NOT divisible by 7.0\n"
     ]
    }
   ],
   "source": [
    "import java.util.Scanner;\n",
    "Scanner scanner = new Scanner(System.in);\n",
    "\n",
    "double x;\n",
    "double y;\n",
    "\n",
    "System.out.print(\"Enter a number: \");\n",
    "\n",
    "x = scanner.nextDouble();\n",
    "\n",
    "System.out.println(x);\n",
    "\n",
    "System.out.print(\"Enter another number: \");\n",
    "\n",
    "y = scanner.nextDouble();\n",
    "\n",
    "System.out.println(y);\n",
    "\n",
    "// Modulo function returns remainder of x and y\n",
    "// checks if remainder of x and y is 0 (meaning it is divisible)\n",
    "if (x % y == 0) {\n",
    "  System.out.println(x + \" is divisible by \" + y);\n",
    "} else { // the code below runs if the remainder of x and y is NOT 0\n",
    "  System.out.println(x + \" is NOT divisible by \" + y);\n",
    "}"
   ]
  },
  {
   "cell_type": "markdown",
   "id": "03d6ca18",
   "metadata": {},
   "source": [
    "### If-elseif-else\n",
    "Elseif blocks come between if and else statements. Elseif statements function similar to if statements in that they contain code that is run if a given conditional is true. However, elseif statements only run if the prior if or elseif block is false. Otherwise, they are passed over. \n"
   ]
  },
  {
   "cell_type": "code",
   "execution_count": null,
   "id": "7336fc94",
   "metadata": {
    "vscode": {
     "languageId": "java"
    }
   },
   "outputs": [],
   "source": [
    "import java.util.Scanner;\n",
    "Scanner scanner = new Scanner(System.in);\n",
    "\n",
    "double x;\n",
    "double y;\n",
    "\n",
    "System.out.print(\"Enter a number: \");\n",
    "\n",
    "x = scanner.nextDouble();\n",
    "\n",
    "System.out.println(x);\n",
    "\n",
    "System.out.print(\"Enter another number: \");\n",
    "\n",
    "y = scanner.nextDouble();\n",
    "\n",
    "System.out.println(y);\n",
    "\n",
    "if (x > y) { // checks if x is greater than y\n",
    "    System.out.println(x + \" is greater than \" + y);\n",
    "} else if (x == y) { // if x isnt greater than y, check if theyre equal\n",
    "    System.out.println(x + \" is equal to \" + y);\n",
    "} else { // only option is x being less than y\n",
    "    System.out.println(x + \" is less than \" + y);\n",
    "}"
   ]
  },
  {
   "cell_type": "markdown",
   "id": "bc157bd3",
   "metadata": {},
   "source": [
    "### Multiple elseifs"
   ]
  },
  {
   "cell_type": "code",
   "execution_count": 8,
   "id": "4217f472",
   "metadata": {
    "vscode": {
     "languageId": "java"
    }
   },
   "outputs": [
    {
     "name": "stdout",
     "output_type": "stream",
     "text": [
      "First number: 7.0\n",
      "Enter the operation (+,-,*,/): 9\n",
      "second number: 9.0\n",
      "Invalid operator\n"
     ]
    }
   ],
   "source": [
    "import java.util.Scanner;\n",
    "Scanner scanner = new Scanner(System.in);\n",
    "\n",
    "double x;\n",
    "double y;\n",
    "\n",
    "System.out.print(\"First number: \");\n",
    "\n",
    "x = scanner.nextDouble();\n",
    "\n",
    "System.out.println(x);\n",
    "\n",
    "System.out.print(\"Enter the operation (+,-,*,/): \");\n",
    "\n",
    "char operator = scanner.next().charAt(0);\n",
    "\n",
    "System.out.println(operator);\n",
    "\n",
    "System.out.print(\"second number: \");\n",
    "\n",
    "y = scanner.nextDouble();\n",
    "\n",
    "System.out.println(y);\n",
    "\n",
    "if (operator == '+') {\n",
    "  System.out.println(x + y);\n",
    "} else if (operator == '-') {\n",
    "  System.out.println(x - y);\n",
    "} else if (operator == '*') {\n",
    "  System.out.println(x * y);\n",
    "} else if (operator == '/') {\n",
    "  System.out.println(x / y);\n",
    "} else {\n",
    "  System.out.println(\"Invalid operator\");\n",
    "}\n"
   ]
  },
  {
   "cell_type": "code",
   "execution_count": null,
   "id": "d9f98d4b",
   "metadata": {
    "vscode": {
     "languageId": "java"
    }
   },
   "outputs": [],
   "source": []
  },
  {
   "cell_type": "code",
   "execution_count": 8,
   "id": "0668f714",
   "metadata": {
    "vscode": {
     "languageId": "java"
    }
   },
   "outputs": [
    {
     "name": "stdout",
     "output_type": "stream",
     "text": [
      "Enter a color (r,g,b,y): g\n",
      "type a message\n",
      "The final result: \n",
      "\u001b[32mfadfadf\n"
     ]
    }
   ],
   "source": [
    "double num1, num2;\n",
    "\n",
    "Scanner scanner = new Scanner(System.in);\n",
    "\n",
    "System.out.print(\"Enter a color (r,g,b,y): \");\n",
    "\n",
    "char color = scanner.next().charAt(0);\n",
    "\n",
    "System.out.println(color);\n",
    "\n",
    "Scanner newScanner = new Scanner(System.in);\n",
    "\n",
    "System.out.println(\"type a message\");\n",
    "String message = newScanner.nextLine();\n",
    "\n",
    "\n",
    "String output = \"\";\n",
    "\n",
    "switch (color) {\n",
    "\n",
    "case 'r':\n",
    "\n",
    "    output = \"\\u001B[31m\";\n",
    "\n",
    "    break;\n",
    "\n",
    "case 'g':\n",
    "\n",
    "    output = \"\\u001B[32m\";\n",
    "\n",
    "    break;\n",
    "\n",
    "case 'b':\n",
    "\n",
    "    output = \"\\u001B[34m\";\n",
    "\n",
    "    break;\n",
    "case 'y':\n",
    "\n",
    "    output = \"\\u001B[33m\";\n",
    "\n",
    "    break;\n",
    "\n",
    "default:\n",
    "\n",
    "    System.out.println(\"invalid color\");\n",
    "\n",
    "    break;\n",
    "}\n",
    "\n",
    "System.out.println(\"The final result: \");\n",
    "\n",
    "System.out.println(output + message);\n"
   ]
  },
  {
   "cell_type": "markdown",
   "id": "b5b47173",
   "metadata": {},
   "source": [
    "### De Morgan's Law\n",
    "Augstus De Morgan developed DeMorgan's laws in the 1800s. DeMorgan's law explains complex conditional negation. A complex conditional is multiple conditional statements joined by a logical operator. \n",
    "\n",
    "not (a and b) is the same as (not a) or (not b). In Java this is written as !(a && b) == !a || !b\n",
    "\n",
    "not (a or b) is the same as (not a) and (not b). In Java this is written as !(a || b) == !a && !b\n",
    "\n",
    "Negation modifies each conditional. "
   ]
  },
  {
   "cell_type": "code",
   "execution_count": 13,
   "id": "6bcf5530",
   "metadata": {
    "vscode": {
     "languageId": "java"
    }
   },
   "outputs": [
    {
     "name": "stdout",
     "output_type": "stream",
     "text": [
      "false\n"
     ]
    }
   ],
   "source": [
    "public class DeMorgansAndTest\n",
    "{\n",
    "   public static void main(String[] args)\n",
    "   {\n",
    "     int x = 15;\n",
    "     int y = 164;\n",
    "     System.out.println(!(x<20 && y > 100));\n",
    "     // prints true if x is not less than 20 or if y is not greater than 100\n",
    "     // prints false if none of these are true\n",
    "     // this output should be false since x is less than 20 and y is greater than 100\n",
    "   }\n",
    "}\n",
    "\n",
    "DeMorgansAndTest.main(null)\n"
   ]
  },
  {
   "cell_type": "code",
   "execution_count": 14,
   "id": "e83681e8",
   "metadata": {
    "vscode": {
     "languageId": "java"
    }
   },
   "outputs": [
    {
     "name": "stdout",
     "output_type": "stream",
     "text": [
      "true\n"
     ]
    }
   ],
   "source": [
    "public class DeMorgansOrTest\n",
    "{\n",
    "   public static void main(String[] args)\n",
    "   {\n",
    "     int x = 124;\n",
    "     int y = 9;\n",
    "     System.out.println(!(x > 200 || y < 2));\n",
    "     // prints true if x is not > 200 AND y is not < 2\n",
    "     // prints false otherwise\n",
    "     // this output should be true as x is NOT greater than 200 and y is NOT less than 2\n",
    "   }\n",
    "}\n",
    "DeMorgansOrTest.main(null)\n"
   ]
  }
 ],
 "metadata": {
  "kernelspec": {
   "display_name": "Java",
   "language": "java",
   "name": "java"
  },
  "language_info": {
   "codemirror_mode": "java",
   "file_extension": ".jshell",
   "mimetype": "text/x-java-source",
   "name": "Java",
   "pygments_lexer": "java",
   "version": "18.0.2+0"
  }
 },
 "nbformat": 4,
 "nbformat_minor": 5
}
