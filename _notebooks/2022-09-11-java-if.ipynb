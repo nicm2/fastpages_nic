{
 "cells": [
  {
   "cell_type": "markdown",
   "metadata": {},
   "source": [
    "# If/Else Lesson\n",
    "> Discussing what I learned from code.org this week.\n",
    "\n",
    "- toc: true\n",
    "- badges: true\n",
    "- comments: true\n",
    "- categories: [fastpages, hacks]"
   ]
  },
  {
   "cell_type": "markdown",
   "metadata": {},
   "source": [
    "## What is an if statement?\n",
    "\n",
    "An if statement is used to specify a block of Java code to be executed if a condition is true."
   ]
  },
  {
   "cell_type": "code",
   "execution_count": 1,
   "metadata": {
    "vscode": {
     "languageId": "java"
    }
   },
   "outputs": [
    {
     "name": "stdout",
     "output_type": "stream",
     "text": [
      "5 is greater than 2\n"
     ]
    }
   ],
   "source": [
    "if (5 > 2) { //the program decides whether this is true or not\n",
    "    System.out.println(\"5 is greater than 2\"); //if it is then this line is printed\n",
    "  }"
   ]
  },
  {
   "cell_type": "markdown",
   "metadata": {},
   "source": [
    "## What is an if/else statement?\n"
   ]
  },
  {
   "cell_type": "markdown",
   "metadata": {},
   "source": [
    "The if/else statement executes a block of code if a specified condition is true. If the condition is false, another block of code can be executed."
   ]
  },
  {
   "cell_type": "code",
   "execution_count": 4,
   "metadata": {
    "vscode": {
     "languageId": "java"
    }
   },
   "outputs": [
    {
     "name": "stdout",
     "output_type": "stream",
     "text": [
      "Good evening.\n"
     ]
    }
   ],
   "source": [
    "int time = 20; //set variable\n",
    "if (time < 18) { //the program decides whether this is true or not\n",
    "  System.out.println(\"Good day.\"); //if it is then print this line\n",
    "} else {\n",
    "  System.out.println(\"Good evening.\"); //if it is not then print this\n",
    "}"
   ]
  },
  {
   "cell_type": "markdown",
   "metadata": {},
   "source": [
    "## What is an If-else If-else Statement?"
   ]
  },
  {
   "cell_type": "markdown",
   "metadata": {},
   "source": []
  },
  {
   "cell_type": "code",
   "execution_count": 5,
   "metadata": {
    "vscode": {
     "languageId": "java"
    }
   },
   "outputs": [
    {
     "name": "stdout",
     "output_type": "stream",
     "text": [
      "Good evening.\n"
     ]
    }
   ],
   "source": [
    "int time = 22;\n",
    "if (time < 10) { //the program decides whether this is true or not\n",
    "  System.out.println(\"Good morning.\"); //if it is then print this line\n",
    "} else if (time < 20) { //if it is not true, then check if this is true\n",
    "  System.out.println(\"Good day.\"); //if it is then print this line\n",
    "} else {\n",
    "  System.out.println(\"Good evening.\"); //or else print this line\n",
    "}"
   ]
  },
  {
   "cell_type": "markdown",
   "metadata": {},
   "source": [
    "## 5 If-Else Statements"
   ]
  },
  {
   "cell_type": "markdown",
   "metadata": {},
   "source": [
    "Each "
   ]
  },
  {
   "cell_type": "code",
   "execution_count": 25,
   "metadata": {
    "vscode": {
     "languageId": "java"
    }
   },
   "outputs": [
    {
     "name": "stdout",
     "output_type": "stream",
     "text": [
      "5 is greater than 3\n"
     ]
    }
   ],
   "source": [
    "if (5 > 3) {\n",
    "    System.out.println(\"5 is greater than 3\");\n",
    "  }\n",
    "  else if(5 < 3) {\n",
    "    System.out.println(\"5 is less than 3\");\n",
    "  }\n",
    "  else if (6 > 7) {\n",
    "    System.out.println(\"6 is greater than 7\");\n",
    "  }\n",
    "  else if (10 < 7) {\n",
    "    System.out.println(\"10 is less than 7\");\n",
    "  }\n",
    "  else {\n",
    "    System.out.println(\"Invalid\");\n",
    "  }"
   ]
  },
  {
   "cell_type": "markdown",
   "metadata": {},
   "source": [
    "## What is a Switch Case Program in Java?"
   ]
  },
  {
   "cell_type": "markdown",
   "metadata": {},
   "source": [
    "The switch statement is a multi-way branch statement. In simple words, the Java switch statement executes one statement from multiple conditions."
   ]
  },
  {
   "cell_type": "code",
   "execution_count": 18,
   "metadata": {
    "vscode": {
     "languageId": "java"
    }
   },
   "outputs": [
    {
     "name": "stdout",
     "output_type": "stream",
     "text": [
      "1 > 0\n"
     ]
    }
   ],
   "source": [
    "int x = 1; // the integer given in the variable is 20\n",
    "String output;\n",
    "switch (x) { \n",
    "    case 1:\n",
    "        output = x + \" > 0\";\n",
    "        break;\n",
    "    case 2:\n",
    "        output = x + \" > 2\";\n",
    "        break;\n",
    "    case 3:\n",
    "        output = x + \" > 3\";\n",
    "        break;\n",
    "    case 4:\n",
    "        output = x + \" > 4\";\n",
    "        break;\n",
    "}\n",
    "System.out.println(output)"
   ]
  },
  {
   "cell_type": "markdown",
   "metadata": {},
   "source": [
    "## De Morgan's Law"
   ]
  },
  {
   "cell_type": "markdown",
   "metadata": {},
   "source": [
    "The complement of the union of two sets is the intersection of their complements and the complement of the intersection of two sets is the union of their complements.\n",
    "\n",
    "|| means \"or\" and the && means \"and\""
   ]
  },
  {
   "cell_type": "code",
   "execution_count": 15,
   "metadata": {
    "vscode": {
     "languageId": "java"
    }
   },
   "outputs": [
    {
     "name": "stdout",
     "output_type": "stream",
     "text": [
      "My favorite colors are blue and red\n"
     ]
    }
   ],
   "source": [
    "boolean blue = true;\n",
    "boolean red = true;\n",
    "\n",
    "if (!(blue && red)){\n",
    "    System.out.println(\"I do not like blue or red\");\n",
    "}\n",
    "else{\n",
    "    System.out.println(\"My favorite colors are blue and red\");\n",
    "}"
   ]
  },
  {
   "cell_type": "code",
   "execution_count": 16,
   "metadata": {
    "vscode": {
     "languageId": "java"
    }
   },
   "outputs": [
    {
     "name": "stdout",
     "output_type": "stream",
     "text": [
      "My favorite colors are red and blue\n"
     ]
    }
   ],
   "source": [
    "if (!blue || !red){\n",
    "    System.out.println(\"I do not like red or blue\");\n",
    "}\n",
    "else{\n",
    "    System.out.println(\"My favorite colors are red and blue\");\n",
    "}"
   ]
  }
 ],
 "metadata": {
  "kernelspec": {
   "display_name": "Java",
   "language": "java",
   "name": "java"
  },
  "language_info": {
   "codemirror_mode": "java",
   "file_extension": ".jshell",
   "mimetype": "text/x-java-source",
   "name": "Java",
   "pygments_lexer": "java",
   "version": "11.0.16+8-post-Ubuntu-0ubuntu120.04"
  },
  "orig_nbformat": 4
 },
 "nbformat": 4,
 "nbformat_minor": 2
}
