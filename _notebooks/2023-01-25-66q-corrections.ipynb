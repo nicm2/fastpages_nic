{
 "cells": [
  {
   "attachments": {},
   "cell_type": "markdown",
   "metadata": {},
   "source": [
    "# 66 Quiz Corrections\n",
    "> Jupyter Notebook on 66 Question Quiz Corrections and reflection blog\n",
    "\n",
    "- toc: true\n",
    "- badges: true\n",
    "- comments: true\n",
    "- categories: [fastpages,collegeboard]"
   ]
  },
  {
   "attachments": {},
   "cell_type": "markdown",
   "metadata": {},
   "source": [
    "### Score: 60/66"
   ]
  },
  {
   "attachments": {},
   "cell_type": "markdown",
   "metadata": {},
   "source": [
    "### Question 7\n",
    "\n",
    "What are the contents of mat after the code segment has been executed?\n",
    "\n",
    "I put B when the correct answer was D because the elements of array key have indices 0 to key.length – 1. Since the for loop control variable i is initialized to 1 and will increase by 1 until it is equal to key.length, the access to key should be adjusted by 1, otherwise the value at index 0 will not be included in the sum and when i is key.length an ArrayIndexOutOfBoundsException will be thrown.\n",
    "\n"
   ]
  },
  {
   "cell_type": "code",
   "execution_count": null,
   "metadata": {},
   "outputs": [],
   "source": [
    "int[][] mat = new int[3][4];\n",
    "for (int row = 0; row < mat.length; row++)\n",
    "{\n",
    "    for (int col = 0; col < mat[0].length; col++)\n",
    "    {\n",
    "        if (row < col)\n",
    "        {\n",
    "            mat[row][col] = 1;\n",
    "        }\n",
    "        else if (row == col)\n",
    "        {\n",
    "            mat[row][col] = 2;\n",
    "        }\n",
    "        else\n",
    "        {\n",
    "            mat[row][col] = 3;\n",
    "        }\n",
    "    }\n",
    "}\n"
   ]
  },
  {
   "attachments": {},
   "cell_type": "markdown",
   "metadata": {},
   "source": [
    "### Question 13\n",
    "\n",
    "I put D when the correct answer A because for the expression to evaluate to true, the expressions on either side of the && operator must be true. If x is true then x || y is true regardless of the value of y, meaning (x || y) && x evaluates to true. If x is false, the expression evaluates to false regardless of the value of (x || y)."
   ]
  },
  {
   "cell_type": "code",
   "execution_count": null,
   "metadata": {},
   "outputs": [],
   "source": [
    "\n",
    "public int countCols(int[][] arr, int val)\n",
    "\n",
    "{\n",
    "\n",
    "int count = 0;\n",
    "\n",
    " \n",
    "\n",
    "for (int col = 0; col < arr[0].length; col++) // Line 5\n",
    "\n",
    "{\n",
    "\n",
    "int sum = 0;\n",
    "\n",
    "for (int[] row : col) // Line 8\n",
    "\n",
    "{\n",
    "\n",
    "sum += row[col]; // Line 10\n",
    "\n",
    "}\n",
    "\n",
    "if (sum > val)\n",
    "\n",
    "{\n",
    "\n",
    "count++;\n",
    "\n",
    "}\n",
    "\n",
    "}\n",
    "\n",
    "return count;\n",
    "\n",
    "}"
   ]
  },
  {
   "attachments": {},
   "cell_type": "markdown",
   "metadata": {},
   "source": [
    "### Question 29\n",
    "\n",
    "What, if anything, is printed when the code segment is executed?\n",
    "\n",
    "\n",
    "I put E when the correct answer was D because the + operator concatenates the String literals, boolean values, String variables, and int variables in the order that they appear."
   ]
  },
  {
   "cell_type": "code",
   "execution_count": null,
   "metadata": {},
   "outputs": [],
   "source": [
    "Consider the code segment below.\n",
    "\n",
    "int a = 1988;\n",
    "\n",
    "int b = 1990;\n",
    "\n",
    "   \n",
    "\n",
    "String claim = \" that the world’s athletes \" +\n",
    "\n",
    "\"competed in Olympic Games in \";\n",
    "\n",
    "   \n",
    "\n",
    "String s = \"It is \" + true + claim + a +\n",
    "\n",
    "\" but \" + false + claim + b + \".\";\n",
    "\n",
    "   \n",
    "\n",
    "System.out.println(s);"
   ]
  },
  {
   "attachments": {},
   "cell_type": "markdown",
   "metadata": {},
   "source": [
    "### Question 46\n",
    "Which of the following code segments will produce the same output as the code segment above?\n",
    "\n",
    "\n",
    "I put C when the correct answer was E because the original code segment prints all values between 1 and 100 that are evenly divisible by 4. The following values are printed: 4, 8, 12, 16, 20, 24, 28, 32, 36, 40, 44, 48, 52, 56, 60, 64, 68, 72, 76, 80, 84, 88, 92, 96, and 100. Choice E shows these values can also be printed by having a for loop that has a loop control variable k that starts at 4, increments by 4, and terminates when k is greater than 100."
   ]
  },
  {
   "attachments": {},
   "cell_type": "markdown",
   "metadata": {},
   "source": [
    "### Question 49"
   ]
  },
  {
   "cell_type": "code",
   "execution_count": null,
   "metadata": {},
   "outputs": [],
   "source": [
    "\n",
    "\n",
    "public static void whatIsIt(int a, int b)\n",
    "\n",
    "{\n",
    "\n",
    "if ((a < b) && (a > 0))\n",
    "\n",
    "{\n",
    "\n",
    "System.out.println(\"W\");\n",
    "\n",
    "}\n",
    "\n",
    "else if (a == b)\n",
    "\n",
    "{\n",
    "\n",
    "if (b > 0)\n",
    "\n",
    "{\n",
    "\n",
    "System.out.println(\"X\");\n",
    "\n",
    "}\n",
    "\n",
    "else if (b < 0)\n",
    "\n",
    "{\n",
    "\n",
    "System.out.println(\"Y\");\n",
    "\n",
    "}\n",
    "\n",
    "else if ((a == b) && (a == 0))\n",
    "\n",
    "{\n",
    "\n",
    "System.out.println(\"Z\");\n",
    "\n",
    "}\n",
    "\n",
    "}\n",
    "\n",
    "}\n",
    "\n",
    "Which of the following method calls will cause \"W\" to be printed?\n",
    "\n",
    "whatIsIt(10, 10)\n",
    "whatIsIt(-5, 5)\n",
    "whatIsIt(7, 10)"
   ]
  },
  {
   "attachments": {},
   "cell_type": "markdown",
   "metadata": {},
   "source": [
    "I put C when the correct answer is C beacue in option I, \"W\" is not printed because the expression a < b evaluates to false. In option II, \"W\" is not printed because the expression a > 0 evaluates to false. In option III, both a < b and a > 0 evaluate to true, so \"W\" is printed.I "
   ]
  },
  {
   "attachments": {},
   "cell_type": "markdown",
   "metadata": {},
   "source": [
    "### Question 53"
   ]
  },
  {
   "cell_type": "code",
   "execution_count": null,
   "metadata": {},
   "outputs": [],
   "source": [
    "public static int mystery1(int n)\n",
    "\n",
    "{\n",
    "\n",
    "if (n > 1)\n",
    "\n",
    "{\n",
    "\n",
    "return 5 + mystery1(n - 1);\n",
    "\n",
    "}\n",
    "\n",
    "else\n",
    "\n",
    "{\n",
    "\n",
    "return 1;\n",
    "\n",
    "}\n",
    "\n",
    "}\n",
    "\n",
    "public static int mystery2(int n)\n",
    "\n",
    "{\n",
    "\n",
    "int total = 0;\n",
    "\n",
    "int x = 1;\n",
    "\n",
    "while (x < n)\n",
    "\n",
    "{\n",
    "\n",
    "total += 5;\n",
    "\n",
    "x++;\n",
    "\n",
    "}\n",
    "\n",
    "return total;\n",
    "\n",
    "}"
   ]
  },
  {
   "attachments": {},
   "cell_type": "markdown",
   "metadata": {},
   "source": [
    "I put B when the correct answer was A "
   ]
  },
  {
   "attachments": {},
   "cell_type": "markdown",
   "metadata": {},
   "source": [
    "Reflection:\n",
    "Overall I did well on the 66 question quiz. I struggled most with changing specific lines of code to make the program complete a certain goal like in question 29.\\\n",
    "\n",
    "Score: 1.8/2 \n",
    "\n",
    "\n",
    "Time Taken: around 78 minutes, I took my time on each question and will try to get a faster time on the next test.\n",
    "\n",
    "Weak Areas include silly mistakes and arrays"
   ]
  }
 ],
 "metadata": {
  "kernelspec": {
   "display_name": "Java",
   "language": "java",
   "name": "java"
  },
  "language_info": {
   "name": "java",
   "version": "3.8.10 (default, Jun 22 2022, 20:18:18) \n[GCC 9.4.0]"
  },
  "orig_nbformat": 4,
  "vscode": {
   "interpreter": {
    "hash": "916dbcbb3f70747c44a77c7bcd40155683ae19c65e1c03b4aa3499c5328201f1"
   }
  }
 },
 "nbformat": 4,
 "nbformat_minor": 2
}
