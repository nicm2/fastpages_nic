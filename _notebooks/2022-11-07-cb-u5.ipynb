{
 "cells": [
  {
   "cell_type": "markdown",
   "metadata": {},
   "source": [
    "# College Board Unit 5 Blog\n",
    "> Jupyter Notebook on college board units 5 learning\n",
    "\n",
    "- toc: true\n",
    "- badges: true\n",
    "- comments: true\n",
    "- categories: [fastpages, collegeboard]"
   ]
  },
  {
   "cell_type": "markdown",
   "metadata": {},
   "source": [
    "# Unit 5 Writing Classes Notes\n",
    "\n",
    "- Classes are an essential aspect of OOP\n",
    "- Models real world objects but in code\n",
    "- State, attributes, behavior, Instance of a class, Represented by an instance \n",
    "in the program\n",
    "- Methods: Accessors/Getters, Mutators/Setters, Main method (tester)\n",
    "- Objects: instances of a class \n",
    "- control access and visibilty of classes, data and methods:\n",
    "- public: no restricted access (can be accessed outside the declaring class)\n",
    "- private: restrict access to declaring class\n",
    "- Concept of OOP: 1. Variables and methods are wrapped in a unit (class) 2. Implementation details of the class are hidden from the user"
   ]
  },
  {
   "cell_type": "code",
   "execution_count": null,
   "metadata": {},
   "outputs": [],
   "source": [
    "public class Sport {\n",
    "    private String name;\n",
    "    private int numAthletes;\n",
    "\n",
    "    public Sport(){\n",
    "        name = \"\";\n",
    "        numAthletes = 0;\n",
    "    }\n",
    "    public Sport(String n, int numAth){\n",
    "        name = n;\n",
    "        numAthletes = numAth;\n",
    "    }\n",
    "    public Sport(String n){\n",
    "        name = n;\n",
    "        numAthletes = 0;\n",
    "    }\n",
    "}"
   ]
  },
  {
   "cell_type": "markdown",
   "metadata": {},
   "source": [
    "- Procedural abstratction allows us to name a block of code as a method and call it whenever we need it, abstracting away the details of hit it works\n",
    "- The idea is that we have code which can cope with a variety of different situations, depending on how its parameters are set and when it is called.\n",
    "- 1 Object of the Class, 2 Method Call, 3 Method Definition\n"
   ]
  },
  {
   "cell_type": "markdown",
   "metadata": {},
   "source": [
    "# Step Tracker Class\n",
    "\n",
    "## Code\n",
    "Prompt-\n",
    "StepTracker, object with a parameter that defines the minimum steps to be active\n",
    "\n",
    "Required methods-\n",
    "addDailySteps\n",
    "activeDays\n",
    "averageSteps"
   ]
  },
  {
   "cell_type": "code",
   "execution_count": null,
   "metadata": {},
   "outputs": [],
   "source": [
    "public class StepTracker {\n",
    "    private int days;\n",
    "    private int activeDays;\n",
    "    private int totalSteps;\n",
    "    private int minActive;\n",
    "\n",
    "    public StepTracker(int m) {\n",
    "        minActive = m;\n",
    "        days = 0;\n",
    "        activeDays = 0;\n",
    "        totalSteps = 0;\n",
    "    }\n",
    "\n",
    "    public int activeDays() {\n",
    "        return activeDays;\n",
    "    }\n",
    "\n",
    "    public double averageSteps() {\n",
    "        if (days == 0) {\n",
    "            return 0.0;\n",
    "        }\n",
    "        return (double) totalSteps / days;\n",
    "    }\n",
    "\n",
    "    public void addDailySteps(int steps) {\n",
    "        days++;\n",
    "        totalSteps += steps;\n",
    "        if (steps >= minActive) {\n",
    "            activeDays++;\n",
    "        }\n",
    "    }\n",
    "}"
   ]
  },
  {
   "cell_type": "markdown",
   "metadata": {},
   "source": [
    "Instance Variables:\n",
    "keep track of how many total days we’ve recorded, how many total steps have been taken, and how many days are considered “active\"."
   ]
  },
  {
   "cell_type": "code",
   "execution_count": null,
   "metadata": {},
   "outputs": [],
   "source": [
    "private int days;\n",
    "private int activeDays;\n",
    "private int totalSteps;\n",
    "private int minActive;"
   ]
  },
  {
   "cell_type": "markdown",
   "metadata": {},
   "source": [
    "Explicit sets the variables to 0"
   ]
  },
  {
   "cell_type": "code",
   "execution_count": null,
   "metadata": {},
   "outputs": [],
   "source": [
    "public StepTracker(int m) {\n",
    "    minActive = m;\n",
    "    days = 0;\n",
    "    activeDays = 0;\n",
    "    totalSteps = 0;\n",
    "}"
   ]
  },
  {
   "cell_type": "markdown",
   "metadata": {},
   "source": [
    "active days method: accessor method"
   ]
  },
  {
   "cell_type": "code",
   "execution_count": null,
   "metadata": {},
   "outputs": [],
   "source": [
    "public int activeDays() {\n",
    "    return activeDays; \n",
    "}"
   ]
  },
  {
   "cell_type": "markdown",
   "metadata": {},
   "source": [
    "average steps method: returns the average number of steps per day"
   ]
  },
  {
   "cell_type": "code",
   "execution_count": null,
   "metadata": {},
   "outputs": [],
   "source": [
    "public double averageSteps() {\n",
    "    if (days == 0) {\n",
    "        return 0.0;\n",
    "    }\n",
    "    return (double) totalSteps / days;\n",
    "}"
   ]
  },
  {
   "cell_type": "markdown",
   "metadata": {},
   "source": [
    "method to record number of steps per day\n",
    "- increments number of days\n",
    "- increments total steps by steps\n",
    "- if steps is greater than minActive increment days active"
   ]
  },
  {
   "cell_type": "code",
   "execution_count": null,
   "metadata": {},
   "outputs": [],
   "source": [
    "public void addDailySteps(int steps) {\n",
    "    days++;\n",
    "    totalSteps += steps;\n",
    "    if (steps >= minActive) {\n",
    "        activeDays++;\n",
    "    }\n",
    "}"
   ]
  }
 ],
 "metadata": {
  "kernelspec": {
   "display_name": "Java",
   "language": "java",
   "name": "java"
  },
  "language_info": {
   "name": "java",
   "version": "3.8.10"
  },
  "orig_nbformat": 4,
  "vscode": {
   "interpreter": {
    "hash": "916dbcbb3f70747c44a77c7bcd40155683ae19c65e1c03b4aa3499c5328201f1"
   }
  }
 },
 "nbformat": 4,
 "nbformat_minor": 2
}
