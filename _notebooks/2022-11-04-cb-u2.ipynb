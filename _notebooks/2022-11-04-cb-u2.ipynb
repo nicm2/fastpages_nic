{
 "cells": [
  {
   "cell_type": "markdown",
   "metadata": {},
   "source": [
    "# College Board Unit 2 Blog\n",
    "> Jupyter Notebook on college board units 2 learning\n",
    "\n",
    "- toc: true\n",
    "- badges: true\n",
    "- comments: true\n",
    "- categories: [fastpages, collegeboard]"
   ]
  },
  {
   "cell_type": "markdown",
   "metadata": {},
   "source": [
    "# Unit 2 Objects Notes\n",
    "\n",
    "## Notes:\n",
    "- Object-oriented programming, refered to as OOP, is a programming paradigm that organizes software design around objects allowing data to operate and be bound together\n",
    "- Classes are a template from which objects are created. Objects created under the same class will share common methods and attributes.\n",
    "- Objects are instances of a class.\n",
    "- Methods, or functions, are a set of code that perform a specific task.\n",
    "- Ex: class vegetables would have objects carrot, tomato, etc.\n",
    "- Class attributes (which the objects will inherit) could be calorie count, quantity, or other values relevant to the class\n",
    "- Methods of the class would be actions relevant to the class like consume or save\n",
    "- Classes in Java can contain data members, methods, constructors, nested classes, and interfaces.\n",
    "- To initialize an object, you need to use a class constructor\n",
    "- Defining and calling methods is advantageous because it allows for code reuse, optimization, and organization.\n",
    "- Calling a method:\n",
    "\tmethodName(parameter1, parameter2);\n",
    "- Calling an object's method:\n",
    "\tobjectReference.methodName(parameter1, parameter2);\n",
    "\n"
   ]
  },
  {
   "cell_type": "markdown",
   "metadata": {},
   "source": [
    "## Examples"
   ]
  },
  {
   "cell_type": "code",
   "execution_count": null,
   "metadata": {},
   "outputs": [],
   "source": [
    "Painter myPainter = new Painter(); //Object initialized by calling a constructor\n",
    "\n",
    "\n",
    "public int max(int x, int y) // modifier, return-type, method=name, parameter-list\n",
    "{\n",
    "    if (x>y)\n",
    "        return x;\n",
    "    else \n",
    "        return y;\n",
    "}\n",
    "\n",
    "\n",
    "methodName(parameter1, parameter2); //Calling a method\n",
    "objectReference.methodName(parameter1, parameter2); //Calling an object's method\n"
   ]
  },
  {
   "cell_type": "markdown",
   "metadata": {},
   "source": [
    "## Practice"
   ]
  },
  {
   "cell_type": "markdown",
   "metadata": {},
   "source": [
    "### Creating a class w/ a method"
   ]
  },
  {
   "cell_type": "code",
   "execution_count": null,
   "metadata": {},
   "outputs": [],
   "source": [
    "public class Science { // class created\n",
    "    \n",
    "    public void printTypes(){   // method\n",
    "        System.out.println(\"Physics\");\n",
    "        System.out.println(\"Astrology\");\n",
    "        System.out.println(\"Chemistry\");\n",
    "        System.out.println(\"Biology\");\n",
    "    }\n",
    "\n",
    "    public static void main(String[] args){  // main class that runs\n",
    "        Science myObject = new Science();    // creating an object from class\n",
    "        myObject.printTypes();    \n",
    "    }   \n",
    "\n",
    "}\n",
    "\n",
    "Science.main(null);"
   ]
  },
  {
   "cell_type": "markdown",
   "metadata": {},
   "source": [
    "### Inheriting a Class"
   ]
  },
  {
   "cell_type": "code",
   "execution_count": null,
   "metadata": {},
   "outputs": [],
   "source": [
    "public class ScienceTypes extends Science{  // extending class\n",
    "    public ScienceTypes(){    // new class now has all the old class attributes\n",
    "    }\n",
    "\n",
    "    public static void main(String[] args){  // main class\n",
    "        ScienceTypes mySecondObject = new ScienceTypes();    // creates an object from the new class\n",
    "        mySecondObject.printTypes();      // reference methods and attributes from the inherited class\n",
    "    }\n",
    "}\n",
    "\n",
    "ScienceTypes.main(null);"
   ]
  },
  {
   "cell_type": "markdown",
   "metadata": {},
   "source": [
    "# Unit 2 Objects Homework"
   ]
  },
  {
   "cell_type": "code",
   "execution_count": null,
   "metadata": {},
   "outputs": [],
   "source": [
    "public class WordMatch\n",
    "\n",
    "{\n",
    "/** The secret string. */\n",
    "private String secret;\n",
    "/** Constructs a WordMatch object with the given secret string of lowercase letters. */\n",
    "public WordMatch(String word)\n",
    "{\n",
    "/* implementation not shown */\n",
    "}\n",
    "/** Returns a score for guess, as described in part (a).\n",
    "* Precondition: 0 < guess.length() <= secret.length()\n",
    "*/\n",
    "public int scoreGuess(String guess)\n",
    "{ /* to be implemented in part (a) */ }\n",
    "/** Returns the better of two guesses, as determined by scoreGuess and the rules for a\n",
    "* tie-breaker that are described in part (b).\n",
    "* Precondition: guess1 and guess2 contain all lowercase letters.\n",
    "* guess1 is not the same as guess2.\n",
    "*/\n",
    "public String findBetterGuess(String guess1, String guess2)\n",
    "{ /* to be implemented in part (b) */ }\n",
    "}"
   ]
  },
  {
   "cell_type": "code",
   "execution_count": null,
   "metadata": {},
   "outputs": [],
   "source": [
    "public class WordMatch\n",
    "{\n",
    "/** The secret string. */\n",
    "private String secret;\n",
    "/** Constructs a WordMatch object with the given secret string of lowercase letters. */\n",
    "public WordMatch(String word)\n",
    "{\n",
    "    this.secret = word;\n",
    "}\n",
    "/** Returns a score for guess, as described in part (a).\n",
    "* Precondition: 0 < guess.length() <= secret.length()\n",
    "*/\n",
    "public int scoreGuess(String guess)\n",
    "{\n",
    "  int times = 0;\n",
    "  // initializes the occurences\n",
    "  for(int i = 0; i < secret.length(); i++) {\n",
    "    // for as long as i is not greater than the length of the secret word, it will iterate\n",
    "    int x = i + guess.length();\n",
    "    // x is the end length of the guess\n",
    "    if(x <= secret.length() && secret.substring(i, x).equals(guess))\n",
    "// if x is shorter than the the secret of the word, then it will keep going\n",
    "      times++;\n",
    "    // increments if the guess matches the substring secret\n",
    "  }\n",
    "  return times * (guess.length() * guess.length());\n",
    "}\n",
    "/** Returns the better of two guesses, as determined by scoreGuess and the rules for a\n",
    "* tie-breaker that are described in part (b).\n",
    "* Precondition: guess1 and guess2 contain all lowercase letters.\n",
    "* guess1 is not the same as guess2.\n",
    "*/\n",
    "public String findBetterGuess(String guess1, String guess2) {\n",
    "  int score1 = scoreGuess(guess1);\n",
    "  // each of the guesses are put into the method before it to yield two integers\n",
    "  int score2 = scoreGuess(guess2);\n",
    "  \n",
    "  //compares the ints using conditionals to return the word with a greater value\n",
    "  if(score1 > score2)\n",
    "    return guess1;\n",
    "  else if(score2 > score1)\n",
    "    return guess2;\n",
    "  else {\n",
    "  // returns the guess that is a longer amount of characters if they are the same\n",
    "    if(guess1.compareTo(guess2) > 0)\n",
    "      return guess1;\n",
    "    else\n",
    "      return guess2;\n",
    "  }\n",
    "}\n",
    "public static void main(String[] args) {\n",
    "\n",
    "    WordMatch testA = new WordMatch(\"mississippi\");\n",
    "    System.out.println(testA.scoreGuess(\"is\"));\n",
    "    System.out.println(testA.scoreGuess(\"mississippi\"));\n",
    "\n",
    "    WordMatch testB = new WordMatch(\"concatenation\");\n",
    "    System.out.println(testB.findBetterGuess(\"ten\" , \"nation\"));\n",
    "    System.out.println(testB.findBetterGuess(\"con\", \"cat\"));\n",
    "}\n",
    "} \n",
    "WordMatch.main(null)"
   ]
  }
 ],
 "metadata": {
  "kernelspec": {
   "display_name": "Java",
   "language": "java",
   "name": "java"
  },
  "language_info": {
   "name": "java",
   "version": "3.8.10"
  },
  "orig_nbformat": 4,
  "vscode": {
   "interpreter": {
    "hash": "916dbcbb3f70747c44a77c7bcd40155683ae19c65e1c03b4aa3499c5328201f1"
   }
  }
 },
 "nbformat": 4,
 "nbformat_minor": 2
}
