{
 "cells": [
  {
   "attachments": {},
   "cell_type": "markdown",
   "metadata": {},
   "source": [
    "# CB Quiz 3/11 Blog\n",
    "> Jupyter Notebook on 66 Question Quiz Corrections and reflection blog\n",
    "\n",
    "- toc: true\n",
    "- badges: true\n",
    "- comments: true\n",
    "- categories: [fastpages,collegeboard]"
   ]
  },
  {
   "attachments": {},
   "cell_type": "markdown",
   "metadata": {},
   "source": [
    "## Corrections"
   ]
  },
  {
   "attachments": {},
   "cell_type": "markdown",
   "metadata": {},
   "source": [
    "\n",
    "### Question 1"
   ]
  },
  {
   "cell_type": "code",
   "execution_count": null,
   "metadata": {},
   "outputs": [],
   "source": [
    "public static int numDivisors(int inputVal)\n",
    "{\n",
    "    int count = 0;\n",
    "    for (int k =1; k<= inputVal; k++)\n",
    "    {\n",
    "        if (/*condition*/)\n",
    "        {\n",
    "            count++;\n",
    "        }\n",
    "    }\n",
    "    return count;\n",
    "}"
   ]
  },
  {
   "attachments": {},
   "cell_type": "markdown",
   "metadata": {},
   "source": [
    "\n",
    "\n",
    "I put C when the correct answer was A because if the remainder when you divide inputVal by k is 0, then inputVal is evenly divisible by k. We use the modulus operator (%) to determine the remainder when you divide inputVal by k. "
   ]
  },
  {
   "attachments": {},
   "cell_type": "markdown",
   "metadata": {},
   "source": [
    "### Question 11"
   ]
  },
  {
   "cell_type": "code",
   "execution_count": null,
   "metadata": {},
   "outputs": [],
   "source": [
    "public static boolean mystery(String str)\n",
    "{\n",
    "    Srting temp = \"\";\n",
    "\n",
    "    for (int k = str.length(); k>0; k--)\n",
    "    {\n",
    "        temp = temp + str.substring(k-1, k);\n",
    "    }\n",
    "\n",
    "    return temp.equals(str);\n",
    "}"
   ]
  },
  {
   "attachments": {},
   "cell_type": "markdown",
   "metadata": {},
   "source": [
    "I put D when the correct answer was E because this algorithm assigns temp the letters of str in reverse by extracting each letter of str starting at the end and moving to the beginning. Each letter is appended to the end of temp. So, if str was “abc”, “c” would be appended followed by “b”, and then “a”, making temp equal to “cba”. This method will return true if str is equal to temp, which is a string with the letters of str in reverse. The string “noon” is the only string that is the same in reverse."
   ]
  },
  {
   "attachments": {},
   "cell_type": "markdown",
   "metadata": {},
   "source": [
    "### Question 39"
   ]
  },
  {
   "cell_type": "code",
   "execution_count": null,
   "metadata": {},
   "outputs": [],
   "source": [
    "List<String> students = new ArrayList<String>();\n",
    "\n",
    "students.add(\"Alex\");\n",
    "students.add(\"Bob\");\n",
    "students.add(\"Carl\");\n",
    "\n",
    "for (int k = 0; k < students.size(); k++)\n",
    "{\n",
    "    System.out.print(students.set(k, \"Alex\") + \" \");\n",
    "}\n",
    "\n",
    "System.out.println();\n",
    "\n",
    "for (String str : students)\n",
    "{\n",
    "    System.out.print(str + \" \");\n",
    "}"
   ]
  },
  {
   "attachments": {},
   "cell_type": "markdown",
   "metadata": {},
   "source": [
    "I put D when the correct answer was C because the first for loop uses the set method to change the value of each element in students to “Alex”. When the set method is called, it returns the value that was originally at this index. So, the first loop will print Alex Bob Carl. At this point all elements have been set to “Alex”. The second for loop uses an enhanced for loop to access every element and will print Alex Alex Alex."
   ]
  }
 ],
 "metadata": {
  "kernelspec": {
   "display_name": "Java",
   "language": "java",
   "name": "java"
  },
  "language_info": {
   "name": "java"
  },
  "orig_nbformat": 4
 },
 "nbformat": 4,
 "nbformat_minor": 2
}
