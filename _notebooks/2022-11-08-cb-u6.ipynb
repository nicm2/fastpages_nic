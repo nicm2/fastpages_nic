{
 "cells": [
  {
   "cell_type": "markdown",
   "metadata": {},
   "source": [
    "# College Board Unit 6 Blog\n",
    "> Jupyter Notebook on college board units 4 learning\n",
    "\n",
    "- toc: true\n",
    "- badges: true\n",
    "- comments: true\n",
    "- categories: [fastpages, collegeboard]"
   ]
  },
  {
   "cell_type": "markdown",
   "metadata": {},
   "source": [
    "- Array: A type of data structure that contains a collection of data\n",
    "- In Java, arrays and ArrayLists are different data structures!  Don’t confuse them!\n",
    "- The data in a Java array can be primitive or referenced\n",
    "- Parts of an array: Element → one value in an array, Index → the position of the value in array (most languages, including Java, use 0 indexing)\n",
    "- When you declare an array variable, it’s not initialized. By default, each element in the array is value 0\n",
    "- You can also specify the initial values in an array. You don’t need to use the new operator. The compiler counts the number of initial values to determine the length of the array\n",
    "- int [] numbers = new[10] \n",
    "- Traversing an array is accessing the values inside of it\n",
    "You can use any sort of iteration or loop to traverse an array. Recommend for loops, but you can make while loops or recursion work too if necessary\n",
    "- In the enhanced for loop, the variable element is assigned to values[0], values[1]. Specific purpose → get elements of a collection from beginning to end\n",
    "\n"
   ]
  },
  {
   "cell_type": "code",
   "execution_count": null,
   "metadata": {},
   "outputs": [],
   "source": [
    "int[] values = {2, 5, 1};\n",
    "int total = 0;\n",
    "for (int element : values)\n",
    "{\n",
    "\ttotal += element;\n",
    "}\n",
    "\n",
    "int[] values = {2, 5, 1};\n",
    "int total = 0;\n",
    "for (int loop = 0; i < values.length; i++)\n",
    "{\n",
    "\ttotal += values[loop];\n",
    "}\n"
   ]
  }
 ],
 "metadata": {
  "kernelspec": {
   "display_name": "Java",
   "language": "java",
   "name": "java"
  },
  "language_info": {
   "name": "java",
   "version": "3.8.10"
  },
  "orig_nbformat": 4,
  "vscode": {
   "interpreter": {
    "hash": "916dbcbb3f70747c44a77c7bcd40155683ae19c65e1c03b4aa3499c5328201f1"
   }
  }
 },
 "nbformat": 4,
 "nbformat_minor": 2
}
