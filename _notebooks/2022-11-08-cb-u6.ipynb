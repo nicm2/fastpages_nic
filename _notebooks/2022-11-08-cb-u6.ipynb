{
 "cells": [
  {
   "cell_type": "markdown",
   "metadata": {},
   "source": [
    "# College Board Unit 6 Blog\n",
    "> Jupyter Notebook on college board units 4 learning\n",
    "\n",
    "- toc: true\n",
    "- badges: true\n",
    "- comments: true\n",
    "- categories: [fastpages,collegeboard]"
   ]
  },
  {
   "attachments": {},
   "cell_type": "markdown",
   "metadata": {},
   "source": [
    "- Array: A type of data structure that contains a collection of data\n",
    "- In Java, arrays and ArrayLists are different data structures!  Don’t confuse them!\n",
    "- The data in a Java array can be primitive or referenced\n",
    "- Parts of an array: Element → one value in an array, Index → the position of the value in array (most languages, including Java, use 0 indexing)\n",
    "- Traversing an array is accessing the values inside of it\n",
    "You can use any sort of iteration or loop to traverse an array. Recommend for loops, but you can make while loops or recursion work too if necessary\n",
    "- In the enhanced for loop, the variable element is assigned to values[0], values[1]. Specific purpose → get elements of a collection from beginning to end\n",
    "\n"
   ]
  },
  {
   "attachments": {},
   "cell_type": "markdown",
   "metadata": {},
   "source": [
    "### 6.1 - Array Syntax\n",
    "\n",
    "- When you declare an array variable, it’s not initialized. By default, each element in the array is value 0\n",
    "- You can also specify the initial values in an array. You don’t need to use the new operator. The compiler counts the number of initial values to determine the length of the array\n",
    "- int [] numbers = new[10] \n",
    "- Array elements start at 0\n",
    "\n"
   ]
  },
  {
   "cell_type": "code",
   "execution_count": null,
   "metadata": {},
   "outputs": [],
   "source": [
    "int[] array2 = {10, 9, 8, 7, 6};\n",
    "//initializes array"
   ]
  },
  {
   "attachments": {},
   "cell_type": "markdown",
   "metadata": {},
   "source": [
    "Declare an array\n",
    "- // An array of 10 ints, all elements are initialized to be 0\n",
    "int [] numbers = new[10] \n",
    "\n",
    "- // Sometimes it’s good to use a constant instead of a “magic number”\n",
    "final int LENGTH = 10\n",
    "int[] numbers = new int[LENGTH]\n",
    "\n",
    "- // The length does not need to be constant in an array\n",
    "int length = in.nextInt();\n",
    "double[] data = new double[length];\n",
    "\n",
    "- // An int array with 5 initial values\n",
    "int[squares] = {0, 1, 4, 9, 16};\n",
    "\n",
    "- // An array of 4 Strings\n",
    "String[] team1 = {“Daniel”, “Everitt”, “Natalie”, “Sophie”};\n"
   ]
  },
  {
   "attachments": {},
   "cell_type": "markdown",
   "metadata": {},
   "source": [
    "### 6.2 Traverse an Array\n",
    "- Traversing an array is accessing the values inside of it\n",
    "- You can use any sort of iteration or loop to traverse an array. - Recommend for loops, but you can make while loops or recursion work too if necessary"
   ]
  },
  {
   "cell_type": "code",
   "execution_count": null,
   "metadata": {},
   "outputs": [],
   "source": [
    "// Classic for loop\n",
    "for(int i = 0; i < array.length; i++){\n",
    "\tSystem.out.println(array[i]);\n",
    "}\n",
    "// Enhanced for loop (explained on next slide)\n",
    "for(int i: array){\n",
    "\tSystem.out.println(i);\n",
    "}\n",
    "// Sometimes you may need to traverse through an array backwards for a certain problem\n",
    "for(int i = array.length - 1; i >= 0; i--){\n",
    "\tSystem.out.println(array[i]);\n",
    "}\n"
   ]
  },
  {
   "attachments": {},
   "cell_type": "markdown",
   "metadata": {},
   "source": [
    "### 6.3 Enchanced for loops\n",
    "- You can use a basic for loop to visit all elements of an array\n",
    "- Use an enhanced for loop to visit all elements of the array"
   ]
  },
  {
   "cell_type": "code",
   "execution_count": null,
   "metadata": {},
   "outputs": [],
   "source": [
    "int[] values = {2, 5, 1};\n",
    "int total = 0;\n",
    "for (int element : values)\n",
    "{\n",
    "\ttotal += element;\n",
    "}\n"
   ]
  },
  {
   "attachments": {},
   "cell_type": "markdown",
   "metadata": {},
   "source": [
    "- In the enhanced for loop, the variable element is assigned to values[0], values[1], …\n",
    "- Specific purpose → get elements of a collection from beginning to end\n",
    "- Better to use when the number of elements in the array is unknown\n",
    "- In the basic for loop, the index variable loop is being assigned as 0, 1, …\n",
    "- Better to use when we know the number of iterations"
   ]
  },
  {
   "attachments": {},
   "cell_type": "markdown",
   "metadata": {},
   "source": [
    "### 6.4 Developing algorithms using arrays\n",
    "- array.length returns how many values are in the array. Make sure to not confuse this with the last accessible index, which will always be one less than the length.\n",
    "- Ex: array.length returns 10, then the last accessible index is array[9].\n",
    "- array[i] - Accesses the array at index i.\n"
   ]
  },
  {
   "cell_type": "code",
   "execution_count": null,
   "metadata": {},
   "outputs": [],
   "source": [
    "int[] values = {2, 5, 1};\n",
    "int total = 0;\n",
    "for (int element : values)\n",
    "{\n",
    "\ttotal += element;\n",
    "}\n",
    "\n",
    "int[] values = {2, 5, 1};\n",
    "int total = 0;\n",
    "for (int loop = 0; i < values.length; i++)\n",
    "{\n",
    "\ttotal += values[loop];\n",
    "}\n",
    "\n",
    "\n",
    "public void addMembers(String[] names, int graduationYear) {\n",
    "    //string with names (param 1)\n",
    "    //int with the grad year (param 2)\n",
    "    \n",
    "    for (int i = 0; i<names.length; i++) { //repeats based on how many letters in the name \n",
    "      memberList.add(new Member(names[i], graduationYear, true));\n",
    "\n",
    "      return memberList; \n",
    "    }\n",
    "  }"
   ]
  }
 ],
 "metadata": {
  "kernelspec": {
   "display_name": "Java",
   "language": "java",
   "name": "java"
  },
  "language_info": {
   "name": "java",
   "version": "3.8.10"
  },
  "orig_nbformat": 4,
  "vscode": {
   "interpreter": {
    "hash": "916dbcbb3f70747c44a77c7bcd40155683ae19c65e1c03b4aa3499c5328201f1"
   }
  }
 },
 "nbformat": 4,
 "nbformat_minor": 2
}
