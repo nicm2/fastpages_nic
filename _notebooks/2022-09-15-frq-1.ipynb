{
 "cells": [
  {
   "cell_type": "markdown",
   "metadata": {},
   "source": [
    "# AP Exam FRQ 1 Practice\n",
    "> Jupyter Notebook on 2019 AP Exam FRQ 1 (Methods and Control Structures) \n",
    "\n",
    "- toc: true\n",
    "- badges: true\n",
    "- comments: true\n",
    "- categories: [fastpages]"
   ]
  },
  {
   "cell_type": "markdown",
   "metadata": {},
   "source": [
    "Question 1:\n",
    "\n",
    "The APCalendar class contains methods used to calculate information about a calendar. You will write two methods of the class"
   ]
  },
  {
   "cell_type": "code",
   "execution_count": null,
   "metadata": {},
   "outputs": [],
   "source": [
    "public class APCalendar\n",
    "{\n",
    " /** Returns true if year is a leap year and false otherwise. */\n",
    " private static boolean isLeapYear(int year)\n",
    " { /* implementation not shown */ }\n",
    "\n",
    " /** Returns the number of leap years between year1 and year2, inclusive.\n",
    " * Precondition: 0 <= year1 <= year2\n",
    " */\n",
    " public static int numberOfLeapYears(int year1, int year2)\n",
    " { /* to be implemented in part (a) */ }\n",
    "\n",
    " /** Returns the value representing the day of the week for the first day of year,\n",
    " * where 0 denotes Sunday, 1 denotes Monday, ..., and 6 denotes Saturday.\n",
    " */\n",
    " private static int firstDayOfYear(int year)\n",
    " { /* implementation not shown */ }\n",
    "\n",
    " /** Returns n, where month, day, and year specify the nth day of the year.\n",
    " * Returns 1 for January 1 (month = 1, day = 1) of any year.\n",
    " * Precondition: The date represented by month, day, year is a valid date.\n",
    " */\n",
    " private static int dayOfYear(int month, int day, int year)\n",
    " { /* implementation not shown */ }\n",
    "\n",
    " /** Returns the value representing the day of the week for the given date\n",
    " * (month, day, year), where 0 denotes Sunday, 1 denotes Monday, ...,\n",
    " * and 6 denotes Saturday.\n",
    " * Precondition: The date represented by month, day, year is a valid date.\n",
    " */\n",
    " public static int dayOfWeek(int month, int day, int year)\n",
    " { /* to be implemented in part (b) */ }\n",
    "\n",
    " // There may be instance variables, constructors, and other methods not shown.\n",
    "}"
   ]
  },
  {
   "cell_type": "markdown",
   "metadata": {},
   "source": [
    "(a) Write the static method numberOfLeapYears, which returns the number of leap years between year1 and year2, inclusive.\n",
    "In order to calculate this value, a helper method is provided for you. "
   ]
  },
  {
   "cell_type": "code",
   "execution_count": null,
   "metadata": {},
   "outputs": [],
   "source": [
    "isLeapYear(year) returns true if year is a leap year and false otherwise."
   ]
  },
  {
   "cell_type": "markdown",
   "metadata": {},
   "source": [
    "Complete method numberOfLeapYears below. You must use isLeapYear appropriately to receive full credit."
   ]
  },
  {
   "cell_type": "code",
   "execution_count": null,
   "metadata": {},
   "outputs": [],
   "source": [
    "/** Returns the number of leap years between year1 and year2, inclusive.\n",
    " * Precondition: 0 <= year1 <= year2\n",
    " */\n",
    "public static int numberOfLeapYears(int year1, int year2)"
   ]
  },
  {
   "cell_type": "markdown",
   "metadata": {},
   "source": [
    "Q1 a) Answer:\n",
    "\n",
    "Given Info: the parameters year1 and year 2, the isLeapYear(year) method\n",
    "\n",
    "Return Type: return type of numberOfLeapYears is int and I have to calculate the number of leap years between 2 years and return it. "
   ]
  },
  {
   "cell_type": "code",
   "execution_count": null,
   "metadata": {},
   "outputs": [],
   "source": [
    "public static int numberOfLeapYears(int year1, int year2)\n",
    " {\n",
    "  int count = 0;\n",
    "    for (int y = year1; y <= year2; y++) {\n",
    "      if (isLeapYear(y)){\n",
    "        count++;\n",
    "      }\n",
    "  }\n",
    "  return count;\n",
    " }"
   ]
  },
  {
   "cell_type": "code",
   "execution_count": 1,
   "metadata": {},
   "outputs": [],
   "source": [
    "import java.util.Calendar;\n",
    "import java.util.GregorianCalendar;\n",
    "\n",
    "public class APCalendar\n",
    "{\n",
    "\n",
    " /** Returns the number of leap years between year1 and year2, inclusive.\n",
    "  * Precondition: 0 <= year1 <= year2\n",
    " */\n",
    " public static int numberOfLeapYears(int year1, int year2)\n",
    " {\n",
    "  int count = 0;\n",
    "    for (int y = year1; y <= year2; y++) {\n",
    "      if (isLeapYear(y)){\n",
    "        count++;\n",
    "      }\n",
    "  }\n",
    "  return count;\n",
    " }\n",
    "\n",
    "  /** Returns true if year is a leap year and false otherwise. */\n",
    "  private static boolean isLeapYear(int year)\n",
    "  {\n",
    "      return new GregorianCalendar().isLeapYear(year);\n",
    "  }\n",
    " \n",
    "  public static void main(String[] args)\n",
    "  {\n",
    "      int answer = APCalendar.numberOfLeapYears(2000, 2050);\n",
    "      System.out.println(\"Your answer should be 13: \" + answer);\n",
    "  }\n",
    " }"
   ]
  },
  {
   "cell_type": "markdown",
   "metadata": {},
   "source": [
    "FRQ 1 Question b) \n",
    "\n",
    "Write the static method dayOfWeek, which returns the integer value representing the day of the week for the given date (month, day, year), where 0 denotes Sunday, 1 denotes Monday, ..., and 6 denotes Saturday. For example, 2019 began on a Tuesday, and January 5 is the fifth day of 2019. As a result,\n",
    "January 5, 2019, fell on a Saturday, and the method call dayOfWeek(1, 5, 2019)\n",
    "returns 6. As another example, January 10 is the tenth day of 2019. As a result, January 10, 2019, fell on a Thursday, and the method call dayOfWeek(1, 10, 2019) returns 4.\n",
    "In order to calculate this value, two helper methods are provided for you"
   ]
  },
  {
   "cell_type": "markdown",
   "metadata": {},
   "source": [
    "firstDayOfYear(year) returns the integer value representing the day of the week for the first day of year, where 0 denotes Sunday, 1 denotes Monday, …, and 6 denotes Saturday. For example, since 2019 began on a Tuesday, firstDayOfYear(2019) returns 2.\n",
    "\n",
    "dayOfYear(month, day, year) returns n, where month, day, and year specify the nth day of the year. For the first day of the year, January 1 (month = 1, day = 1), the value 1 is returned. This method accounts for whether year is a leap year. For example, dayOfYear(3, 1, 2017) returns 60, since 2017 is not a leap year, while dayOfYear(3, 1, 2016) returns 61, since 2016 is a leap year."
   ]
  },
  {
   "cell_type": "markdown",
   "metadata": {},
   "source": [
    "Complete method dayOfWeek below. You must use firstDayOfYear and dayOfYear\n",
    "appropriately to receive full credit."
   ]
  },
  {
   "cell_type": "code",
   "execution_count": null,
   "metadata": {},
   "outputs": [],
   "source": [
    "/** Returns the value representing the day of the week for the given date\n",
    " * (month, day, year), where 0 denotes Sunday, 1 denotes Monday, ...,\n",
    " * and 6 denotes Saturday.\n",
    " * Precondition: The date represented by month, day, year is a valid date.\n",
    " */\n",
    "public static int dayOfWeek(int month, int day, int year) "
   ]
  },
  {
   "cell_type": "markdown",
   "metadata": {},
   "source": [
    "Q1 Answer b)"
   ]
  },
  {
   "cell_type": "code",
   "execution_count": null,
   "metadata": {},
   "outputs": [],
   "source": [
    "public static int dayOfWeek(int month, int day, int year){\n",
    "    public static int dayOfWeek(int month, int day, int year) {\n",
    "        firstDay = firstDayOfYear(year); // store the day of the week of the first day\n",
    "        dayAfter = dayOfYear(month, day, year); // store the number of days since new year (inclusive)\n",
    "    \n",
    "        return (firstDay + dayAfter - 1) % 7; // adds the day of the week to the days since new year, but minus 1 because the dayAfterNew includes the first day. then, mod 7\n",
    "    }"
   ]
  },
  {
   "cell_type": "code",
   "execution_count": null,
   "metadata": {},
   "outputs": [],
   "source": [
    "import java.util.Calendar;\n",
    "import java.util.GregorianCalendar;\n",
    "\n",
    "public class APCalendar\n",
    "{\n",
    "\n",
    "  /** Returns the value representing the day of the week for the given date\n",
    "  * (month, day, year), where 0 denotes Sunday, 1 denotes Monday, ...,\n",
    "  * and 6 denotes Saturday.\n",
    "  * Precondition: The date represented by month, day, year is a valid date.\n",
    "  */\n",
    "  public static int dayOfWeek(int month, int day, int year){\n",
    "    public static int dayOfWeek(int month, int day, int year) {\n",
    "        firstDay = firstDayOfYear(year); // store the day of the week of the first day\n",
    "        dayAfter = dayOfYear(month, day, year); // store the number of days since new year (inclusive)\n",
    "    \n",
    "        return (firstDay + dayAfter - 1) % 7; // adds the day of the week to the days since new year, but minus 1 because the dayAfterNew includes the first day. then, mod 7\n",
    "    }\n",
    "\n",
    " public static void main(String[] args)\n",
    " {\n",
    "     int answer = APCalendar.dayOfWeek(1, 8, 2019);\n",
    "     System.out.println(\"Your answer should be 2: \" + answer);\n",
    " }\n",
    "\n",
    " /** Returns the value representing the day of the week for the first day of year,\n",
    " * where 0 denotes Sunday, 1 denotes Monday, ..., and 6 denotes Saturday.\n",
    " */\n",
    " private static int firstDayOfYear(int year)\n",
    " {\n",
    "     GregorianCalendar gc = new GregorianCalendar(year, Calendar.JANUARY, 1);\n",
    "     return gc.get(Calendar.DAY_OF_WEEK) - 1;\n",
    " }\n",
    "\n",
    " /** Returns n, where month, day, and year specify the nth day of the year.\n",
    " * Returns 1 for January 1 (month = 1, day = 1) of any year.\n",
    " * Precondition: The date represented by month, day, year is a valid date.\n",
    " */\n",
    " private static int dayOfYear(int month, int day, int year)\n",
    " {\n",
    "     GregorianCalendar gc = new GregorianCalendar(year, month - 1, day);\n",
    "     return gc.get(Calendar.DAY_OF_YEAR);\n",
    " }\n",
    "}\n"
   ]
  }
 ],
 "metadata": {
  "kernelspec": {
   "display_name": "Java",
   "language": "java",
   "name": "java"
  },
  "language_info": {
   "codemirror_mode": "java",
   "file_extension": ".jshell",
   "mimetype": "text/x-java-source",
   "name": "java",
   "pygments_lexer": "java",
   "version": "11.0.16+8-post-Ubuntu-0ubuntu120.04"
  },
  "orig_nbformat": 4,
  "vscode": {
   "interpreter": {
    "hash": "916dbcbb3f70747c44a77c7bcd40155683ae19c65e1c03b4aa3499c5328201f1"
   }
  }
 },
 "nbformat": 4,
 "nbformat_minor": 2
}
