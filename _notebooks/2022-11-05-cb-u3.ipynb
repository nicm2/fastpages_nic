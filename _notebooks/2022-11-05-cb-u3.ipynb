{
 "cells": [
  {
   "cell_type": "markdown",
   "metadata": {},
   "source": [
    "# College Board Unit 3 Blog\n",
    "> Jupyter Notebook on college board units 3 learning\n",
    "\n",
    "- toc: true\n",
    "- badges: true\n",
    "- comments: true\n",
    "- categories: [fastpages,collegeboard]"
   ]
  },
  {
   "cell_type": "markdown",
   "metadata": {},
   "source": [
    "# Unit 3 Boolean Expression Notes\n",
    "\n",
    "- Boolean expressions represent logic and tell whether something is true or false\n",
    "- Operators:\n",
    "    - == (some value/equals to)\n",
    "    - != (checks for inequaulity)\n",
    "    - < (less than)\n",
    "    - <= (less than equal to)\n",
    "- Conditional statements perform computations depending on whether a Boolean condition evaluates to true or false\n",
    "- Else-if statemnts: statement to run a condition if the orginial condition was false\n",
    "- Nested if statements are if statements within if statements\n",
    "- De Morgan's Law: !(a&&b) = (!a || !b) and !(a || b) = (!a && !b)\n",
    "- Use == to see if two object references are aliases for the same object \n",
    "- Use .equals() to see if the attributes of two objects are the same"
   ]
  },
  {
   "cell_type": "markdown",
   "metadata": {},
   "source": [
    "Truth Table\n",
    "- helpful for determining outcomes when boolean values are changed\n",
    "- shows true and false outputs\n",
    "- example of simple \"or\" table belows"
   ]
  },
  {
   "cell_type": "markdown",
   "metadata": {},
   "source": [
    "De Morgan's Law\n",
    "- Complex conditional statements can be hard to evaluate when looking at \"!\" or \"not\" operators, and comparison operators, like >, <, >=, <=, ||, &&, and more\n",
    "- De morgan's law helps by explaining how operators change when a \"!\" negation is present"
   ]
  },
  {
   "cell_type": "markdown",
   "metadata": {},
   "source": [
    "Else Statement\n",
    "- an \"Else\" statement is a conditional that is evaluated if the previous \"if\" conditional evaluates to false. Usage below."
   ]
  },
  {
   "cell_type": "code",
   "execution_count": null,
   "metadata": {},
   "outputs": [],
   "source": [
    "\n",
    "public class IfandElse{\n",
    "    public static void main(String[] arg){\n",
    "   \n",
    "        int num = 50; //create a variable \n",
    "        \n",
    "        if(num>50){ // check if condition is true of false (Boolean)\n",
    "\n",
    "            System.out.println(\"num is greater than 18\"); // print output if true\n",
    "        }\n",
    "        else{\n",
    "            System.out.println(\"num is not greater than 18\"); // print output when \"if\" evaluates to false\n",
    "        }\n",
    "    }\n",
    "}\n",
    "\n",
    "IfandElse.main(null);"
   ]
  },
  {
   "cell_type": "markdown",
   "metadata": {},
   "source": [
    "Nested if statements - If-statements within if-statements\n",
    "Note - If the outer if-statement evaluates to false, the inner if-statements are not evaluated."
   ]
  },
  {
   "cell_type": "code",
   "execution_count": null,
   "metadata": {},
   "outputs": [],
   "source": [
    "\n",
    "public class IfandElse{\n",
    "    public static void main(String[] arg){\n",
    "   \n",
    "        int num = 20; //create a variable \n",
    "        \n",
    "        if(num>30){ // check if condition is true of false (Boolean)\n",
    "\n",
    "            System.out.println(\"num is greater than 18\"); // print output if true\n",
    "        }\n",
    "        else{\n",
    "            System.out.println(\"num is not greater than 18\"); // print output when \"if\" evaluates to false\n",
    "        }\n",
    "    }\n",
    "}\n",
    "\n",
    "IfandElse.main(null);"
   ]
  },
  {
   "cell_type": "code",
   "execution_count": null,
   "metadata": {},
   "outputs": [],
   "source": [
    "public static boolean(int number){\n",
    "    if (number % 2 ==0) {\n",
    "        return true;\n",
    "    }\n",
    "    return false;\n",
    "}"
   ]
  },
  {
   "cell_type": "code",
   "execution_count": null,
   "metadata": {},
   "outputs": [],
   "source": [
    "boolean cloudy = true;\n",
    "boolean rainy = false;\n",
    "\n",
    "if (!cloudy && !rainy) {\n",
    "    System.out.println(\"Don't forget to bring a hat!\")\n",
    "}"
   ]
  },
  {
   "cell_type": "markdown",
   "metadata": {},
   "source": [
    "## 2019 FRQ 1\n",
    "\n",
    "Question 1:\n",
    "\n",
    "The APCalendar class contains methods used to calculate information about a calendar. You will write two methods of the class"
   ]
  },
  {
   "cell_type": "code",
   "execution_count": null,
   "metadata": {},
   "outputs": [],
   "source": [
    "public class APCalendar\n",
    "{\n",
    " /** Returns true if year is a leap year and false otherwise. */\n",
    " private static boolean isLeapYear(int year)\n",
    " { /* implementation not shown */ }\n",
    "\n",
    " /** Returns the number of leap years between year1 and year2, inclusive.\n",
    " * Precondition: 0 <= year1 <= year2\n",
    " */\n",
    " public static int numberOfLeapYears(int year1, int year2)\n",
    " { /* to be implemented in part (a) */ }\n",
    "\n",
    " /** Returns the value representing the day of the week for the first day of year,\n",
    " * where 0 denotes Sunday, 1 denotes Monday, ..., and 6 denotes Saturday.\n",
    " */\n",
    " private static int firstDayOfYear(int year)\n",
    " { /* implementation not shown */ }\n",
    "\n",
    " /** Returns n, where month, day, and year specify the nth day of the year.\n",
    " * Returns 1 for January 1 (month = 1, day = 1) of any year.\n",
    " * Precondition: The date represented by month, day, year is a valid date.\n",
    " */\n",
    " private static int dayOfYear(int month, int day, int year)\n",
    " { /* implementation not shown */ }\n",
    "\n",
    " /** Returns the value representing the day of the week for the given date\n",
    " * (month, day, year), where 0 denotes Sunday, 1 denotes Monday, ...,\n",
    " * and 6 denotes Saturday.\n",
    " * Precondition: The date represented by month, day, year is a valid date.\n",
    " */\n",
    " public static int dayOfWeek(int month, int day, int year)\n",
    " { /* to be implemented in part (b) */ }\n",
    "\n",
    " // There may be instance variables, constructors, and other methods not shown.\n",
    "}"
   ]
  },
  {
   "cell_type": "markdown",
   "metadata": {},
   "source": [
    "(a) Write the static method numberOfLeapYears, which returns the number of leap years between year1 and year2, inclusive.\n",
    "In order to calculate this value, a helper method is provided for you. "
   ]
  },
  {
   "cell_type": "code",
   "execution_count": null,
   "metadata": {},
   "outputs": [],
   "source": [
    "isLeapYear(year) returns true if year is a leap year and false otherwise."
   ]
  },
  {
   "cell_type": "markdown",
   "metadata": {},
   "source": [
    "Complete method numberOfLeapYears below. You must use isLeapYear appropriately to receive full credit."
   ]
  },
  {
   "cell_type": "code",
   "execution_count": null,
   "metadata": {},
   "outputs": [],
   "source": [
    "/** Returns the number of leap years between year1 and year2, inclusive.\n",
    " * Precondition: 0 <= year1 <= year2\n",
    " */\n",
    "public static int numberOfLeapYears(int year1, int year2)"
   ]
  },
  {
   "cell_type": "markdown",
   "metadata": {},
   "source": [
    "Q1 a) Answer:\n",
    "\n",
    "Given Info: the parameters year1 and year 2, the isLeapYear(year) method\n",
    "\n",
    "Return Type: return type of numberOfLeapYears is int and I have to calculate the number of leap years between 2 years and return it. "
   ]
  },
  {
   "cell_type": "code",
   "execution_count": null,
   "metadata": {},
   "outputs": [],
   "source": [
    "public static int numberOfLeapYears(int year1, int year2)\n",
    " {\n",
    "  int count = 0;\n",
    "    for (int y = year1; y <= year2; y++) {\n",
    "      if (isLeapYear(y)){\n",
    "        count++;\n",
    "      }\n",
    "  }\n",
    "  return count;\n",
    " }"
   ]
  },
  {
   "cell_type": "code",
   "execution_count": null,
   "metadata": {},
   "outputs": [],
   "source": [
    "import java.util.Calendar;\n",
    "import java.util.GregorianCalendar;\n",
    "\n",
    "public class APCalendar\n",
    "{\n",
    "\n",
    " /** Returns the number of leap years between year1 and year2, inclusive.\n",
    "  * Precondition: 0 <= year1 <= year2\n",
    " */\n",
    " public static int numberOfLeapYears(int year1, int year2)\n",
    " {\n",
    "  int count = 0;\n",
    "    for (int y = year1; y <= year2; y++) {\n",
    "      if (isLeapYear(y)){\n",
    "        count++;\n",
    "      }\n",
    "  }\n",
    "  return count;\n",
    " }\n",
    "\n",
    "  /** Returns true if year is a leap year and false otherwise. */\n",
    "  private static boolean isLeapYear(int year)\n",
    "  {\n",
    "      return new GregorianCalendar().isLeapYear(year);\n",
    "  }\n",
    " \n",
    "  public static void main(String[] args)\n",
    "  {\n",
    "      int answer = APCalendar.numberOfLeapYears(2000, 2050);\n",
    "      System.out.println(\"Your answer should be 13: \" + answer);\n",
    "  }\n",
    " }"
   ]
  },
  {
   "cell_type": "markdown",
   "metadata": {},
   "source": [
    "FRQ 1 Question b) \n",
    "\n",
    "Write the static method dayOfWeek, which returns the integer value representing the day of the week for the given date (month, day, year), where 0 denotes Sunday, 1 denotes Monday, ..., and 6 denotes Saturday. For example, 2019 began on a Tuesday, and January 5 is the fifth day of 2019. As a result,\n",
    "January 5, 2019, fell on a Saturday, and the method call dayOfWeek(1, 5, 2019)\n",
    "returns 6. As another example, January 10 is the tenth day of 2019. As a result, January 10, 2019, fell on a Thursday, and the method call dayOfWeek(1, 10, 2019) returns 4.\n",
    "In order to calculate this value, two helper methods are provided for you"
   ]
  },
  {
   "cell_type": "markdown",
   "metadata": {},
   "source": [
    "firstDayOfYear(year) returns the integer value representing the day of the week for the first day of year, where 0 denotes Sunday, 1 denotes Monday, …, and 6 denotes Saturday. For example, since 2019 began on a Tuesday, firstDayOfYear(2019) returns 2.\n",
    "\n",
    "dayOfYear(month, day, year) returns n, where month, day, and year specify the nth day of the year. For the first day of the year, January 1 (month = 1, day = 1), the value 1 is returned. This method accounts for whether year is a leap year. For example, dayOfYear(3, 1, 2017) returns 60, since 2017 is not a leap year, while dayOfYear(3, 1, 2016) returns 61, since 2016 is a leap year."
   ]
  },
  {
   "cell_type": "markdown",
   "metadata": {},
   "source": [
    "Complete method dayOfWeek below. You must use firstDayOfYear and dayOfYear\n",
    "appropriately to receive full credit."
   ]
  },
  {
   "cell_type": "code",
   "execution_count": null,
   "metadata": {},
   "outputs": [],
   "source": [
    "/** Returns the value representing the day of the week for the given date\n",
    " * (month, day, year), where 0 denotes Sunday, 1 denotes Monday, ...,\n",
    " * and 6 denotes Saturday.\n",
    " * Precondition: The date represented by month, day, year is a valid date.\n",
    " */\n",
    "public static int dayOfWeek(int month, int day, int year) "
   ]
  },
  {
   "cell_type": "markdown",
   "metadata": {},
   "source": [
    "Q1 Answer b)"
   ]
  },
  {
   "cell_type": "code",
   "execution_count": null,
   "metadata": {},
   "outputs": [],
   "source": [
    "public static int dayOfWeek(int month, int day, int year){\n",
    "    public static int dayOfWeek(int month, int day, int year) {\n",
    "        firstDay = firstDayOfYear(year); // store the day of the week of the first day\n",
    "        dayAfter = dayOfYear(month, day, year); // store the number of days since new year (inclusive)\n",
    "    \n",
    "        return (firstDay + dayAfter - 1) % 7; // adds the day of the week to the days since new year, but minus 1 because the dayAfterNew includes the first day. then, mod 7\n",
    "    }"
   ]
  },
  {
   "cell_type": "code",
   "execution_count": null,
   "metadata": {},
   "outputs": [],
   "source": [
    "import java.util.Calendar;\n",
    "import java.util.GregorianCalendar;\n",
    "\n",
    "public class APCalendar\n",
    "{\n",
    "\n",
    "  /** Returns the value representing the day of the week for the given date\n",
    "  * (month, day, year), where 0 denotes Sunday, 1 denotes Monday, ...,\n",
    "  * and 6 denotes Saturday.\n",
    "  * Precondition: The date represented by month, day, year is a valid date.\n",
    "  */\n",
    "  public static int dayOfWeek(int month, int day, int year){\n",
    "    public static int dayOfWeek(int month, int day, int year) {\n",
    "        firstDay = firstDayOfYear(year); // store the day of the week of the first day\n",
    "        dayAfter = dayOfYear(month, day, year); // store the number of days since new year (inclusive)\n",
    "    \n",
    "        return (firstDay + dayAfter - 1) % 7; // adds the day of the week to the days since new year, but minus 1 because the dayAfterNew includes the first day. then, mod 7\n",
    "    }\n",
    "\n",
    " public static void main(String[] args)\n",
    " {\n",
    "     int answer = APCalendar.dayOfWeek(1, 8, 2019);\n",
    "     System.out.println(\"Your answer should be 2: \" + answer);\n",
    " }\n",
    "\n",
    " /** Returns the value representing the day of the week for the first day of year,\n",
    " * where 0 denotes Sunday, 1 denotes Monday, ..., and 6 denotes Saturday.\n",
    " */\n",
    " private static int firstDayOfYear(int year)\n",
    " {\n",
    "     GregorianCalendar gc = new GregorianCalendar(year, Calendar.JANUARY, 1);\n",
    "     return gc.get(Calendar.DAY_OF_WEEK) - 1;\n",
    " }\n",
    "\n",
    " /** Returns n, where month, day, and year specify the nth day of the year.\n",
    " * Returns 1 for January 1 (month = 1, day = 1) of any year.\n",
    " * Precondition: The date represented by month, day, year is a valid date.\n",
    " */\n",
    " private static int dayOfYear(int month, int day, int year)\n",
    " {\n",
    "     GregorianCalendar gc = new GregorianCalendar(year, month - 1, day);\n",
    "     return gc.get(Calendar.DAY_OF_YEAR);\n",
    " }\n",
    "}\n"
   ]
  },
  {
   "cell_type": "markdown",
   "metadata": {},
   "source": [
    "## Conditionals Exercises\n",
    "2."
   ]
  },
  {
   "cell_type": "code",
   "execution_count": 3,
   "metadata": {},
   "outputs": [
    {
     "name": "stdout",
     "output_type": "stream",
     "text": [
      "input a: \n",
      "Input b: \n",
      "Input c: \n",
      "no real roots\n"
     ]
    }
   ],
   "source": [
    "import java.util.Scanner;\n",
    "public class Exercise2 {\n",
    "\n",
    "    public static void main(String[] args) {\n",
    "        Scanner input = new Scanner(System.in);\n",
    "\n",
    "        System.out.println(\"input a: \");\n",
    "        double a = input.nextDouble();\n",
    "        System.out.println(\"Input b: \");\n",
    "        double b = input.nextDouble();\n",
    "        System.out.println(\"Input c: \");\n",
    "        double c = input.nextDouble();\n",
    "\n",
    "        double discriminant = b * b - 4 * a * c;\n",
    "\n",
    "        if (discriminant > 0.0) {\n",
    "            double root1 = (-b + Math.pow(discriminant, 0.5)/(2*a));\n",
    "            double root2 = (-b - Math.pow(discriminant, 0.5)/(2*a));\n",
    "            System.out.println(\"The roots are \" + root1 + \" and \" + root2);\n",
    "        } else if (discriminant == 0) {\n",
    "            double root = (-b/(2*a));\n",
    "            System.out.println(\"The root is \" + root);\n",
    "        } else {\n",
    "            System.out.println(\"no real roots\");\n",
    "        }\n",
    "    }\n",
    "    \n",
    "}\n",
    "\n",
    "Exercise2.main(null);"
   ]
  },
  {
   "cell_type": "markdown",
   "metadata": {},
   "source": [
    "4. Write a Java program that reads a floating-point number and prints \"zero\" if the number is zero. Otherwise, print \"positive\" or \"negative\". Add \"small\" if the absolute value of the number is less than 1, or \"large\" if it exceeds 1,000,000. Go to the editor"
   ]
  },
  {
   "cell_type": "code",
   "execution_count": 4,
   "metadata": {},
   "outputs": [
    {
     "name": "stdout",
     "output_type": "stream",
     "text": [
      "enter number: 3.0\n",
      "positive\n"
     ]
    }
   ],
   "source": [
    "public class Exercise4 {\n",
    "    \n",
    "\n",
    "\n",
    "    public static void main(String[] args) {\n",
    "        Scanner input = new Scanner(System.in);\n",
    "\n",
    "        System.out.print(\"enter number: \");\n",
    "        double number = input.nextDouble();\n",
    "        System.out.println(number);\n",
    "\n",
    "        if (number > 0) {\n",
    "            System.out.println(\"positive\");\n",
    "        } else if (number == 0) {\n",
    "            System.out.println(\"zero\");\n",
    "        } else {\n",
    "            System.out.println(\"negative\");\n",
    "        }\n",
    "\n",
    "        if (number < 1) {\n",
    "            System.out.println(\"negative\");\n",
    "        } else if (number > 1000000) {\n",
    "            System.out.println(\"large\");\n",
    "        }\n",
    "\n",
    "\n",
    "    }\n",
    "}\n",
    "\n",
    "Exercise4.main(null);"
   ]
  },
  {
   "cell_type": "markdown",
   "metadata": {},
   "source": [
    "6. Write a Java program that reads in two floating-point numbers and tests whether they are the same up to three decimal places. Go to the editor"
   ]
  },
  {
   "cell_type": "code",
   "execution_count": 5,
   "metadata": {},
   "outputs": [
    {
     "name": "stdout",
     "output_type": "stream",
     "text": [
      "enter number: 3.9287655\n",
      "enter number: 3.9287688\n",
      "same\n"
     ]
    }
   ],
   "source": [
    "public class Exercise6 {\n",
    "\n",
    "    static double truncate(double n, int decimalPlace) {\n",
    "        n = n*Math.pow(10, decimalPlace);\n",
    "        n = Math.floor(n);\n",
    "        n = n/Math.pow(10, decimalPlace);\n",
    "\n",
    "        return n;\n",
    "    }\n",
    "    public static void main(String[] args) {\n",
    "        Scanner input = new Scanner(System.in);\n",
    "\n",
    "        System.out.print(\"enter number: \");\n",
    "        double number1 = input.nextDouble();\n",
    "        double num1Trun = truncate(number1, 3);\n",
    "        System.out.println(number1);\n",
    "\n",
    "        System.out.print(\"enter number: \");\n",
    "        double number2 = input.nextDouble();\n",
    "        double num2Trun = truncate(number2, 3);\n",
    "        System.out.println(number2);\n",
    "\n",
    "        if (num1Trun == num2Trun) {\n",
    "            System.out.println(\"same\");\n",
    "        } else {\n",
    "            System.out.println(\"diff\");\n",
    "        }\n",
    "        input.close();\n",
    "\n",
    "        \n",
    "    }\n",
    "}\n",
    "\n",
    "Exercise6.main(null);"
   ]
  },
  {
   "cell_type": "markdown",
   "metadata": {},
   "source": [
    "8. Write a Java program that takes the user to provide a single character from the alphabet. Print Vowel or Consonant, depending on the user input. If the user input is not a letter (between a and z or A and Z), or is a string of length > 1, print an error message."
   ]
  },
  {
   "cell_type": "code",
   "execution_count": 6,
   "metadata": {},
   "outputs": [
    {
     "name": "stdout",
     "output_type": "stream",
     "text": [
      "enter letter: a\n",
      "vowel\n"
     ]
    }
   ],
   "source": [
    "import java.util.ArrayList;\n",
    "import java.util.Scanner;\n",
    "import java.util.Set;\n",
    "\n",
    "/**\n",
    " * Exercise6\n",
    " */\n",
    "public class Exercise8 {\n",
    "\n",
    "    \n",
    "    public static void main(String[] args) {\n",
    "        Scanner input = new Scanner(System.in);\n",
    "\n",
    "        System.out.print(\"enter letter: \");\n",
    "        String letter = input.nextLine();\n",
    "        System.out.println(letter);\n",
    "\n",
    "        Set<String> vowels = Set.of(\"a\", \"e\", \"i\", \"o\", \"u\", \"A\", \"E\", \"I\", \"O\", \"U\");\n",
    "\n",
    "        if(letter.length() > 1) {\n",
    "            System.out.println(\"not one letter\");\n",
    "        } else if (!letter.matches(\"[a-zA-Z]+\")) {\n",
    "            System.out.println(\"not a letter\");\n",
    "        } else if (vowels.contains(letter)) {\n",
    "            System.out.println(\"vowel\");\n",
    "        } else {\n",
    "            System.out.println(\"consonant\");\n",
    "        }\n",
    "\n",
    "\n",
    "        input.close();\n",
    "\n",
    "        \n",
    "    }\n",
    "}\n",
    "\n",
    "Exercise8.main(null);"
   ]
  },
  {
   "cell_type": "markdown",
   "metadata": {},
   "source": [
    "10. Write a program in Java to display the first 10 natural numbers."
   ]
  },
  {
   "cell_type": "code",
   "execution_count": 7,
   "metadata": {},
   "outputs": [
    {
     "name": "stdout",
     "output_type": "stream",
     "text": [
      "The first 10 natural numbers are:\n",
      "1\n",
      "2\n",
      "3\n",
      "4\n",
      "5\n",
      "6\n",
      "7\n",
      "8\n",
      "9\n",
      "10\n"
     ]
    }
   ],
   "source": [
    "public class Exercise10 {\n",
    "\n",
    "    \n",
    "    public static void main(String[] args) {\n",
    "        System.out.println(\"The first 10 natural numbers are:\");\n",
    "\n",
    "        for (int i = 1; i <= 10; i++) {\n",
    "            System.out.println(i);\n",
    "        }\n",
    "        \n",
    "    }\n",
    "}\n",
    "\n",
    "Exercise10.main(null);"
   ]
  },
  {
   "cell_type": "markdown",
   "metadata": {},
   "source": [
    "12. Write a program in Java to input 5 numbers from keyboard and find their sum and average."
   ]
  },
  {
   "cell_type": "code",
   "execution_count": 8,
   "metadata": {},
   "outputs": [
    {
     "name": "stdout",
     "output_type": "stream",
     "text": [
      "Input the 5 numbers\n",
      "20\n",
      "5\n",
      "1\n",
      "6\n",
      "9\n",
      "The sum of 5 no is: 41\n",
      "The avg of 5 no is: 8.2\n"
     ]
    }
   ],
   "source": [
    "import java.util.Scanner;\n",
    "import java.util.Set;\n",
    "\n",
    "/**\n",
    " * Exercise6\n",
    " */\n",
    "public class Exercise12 {\n",
    "\n",
    "    \n",
    "    public static void main(String[] args) {\n",
    "        int sum = 0;\n",
    "        double average;\n",
    "\n",
    "        System.out.println(\"Input the 5 numbers\");\n",
    "        Scanner input = new Scanner(System.in);\n",
    "        for (int i = 0; i < 5; i++) {\n",
    "            int num = input.nextInt();\n",
    "            System.out.println(num);\n",
    "            sum += num;\n",
    "        }\n",
    "\n",
    "        input.close();\n",
    "\n",
    "        average = (double) sum/5;\n",
    "\n",
    "        System.out.println(\"The sum of 5 no is: \" + sum);\n",
    "        System.out.println(\"The avg of 5 no is: \" + average);\n",
    "        \n",
    "    }\n",
    "}\n",
    "\n",
    "Exercise12.main(null);"
   ]
  },
  {
   "cell_type": "markdown",
   "metadata": {},
   "source": [
    "14. Write a program in Java to display the multiplication table of a given integer."
   ]
  },
  {
   "cell_type": "code",
   "execution_count": 9,
   "metadata": {},
   "outputs": [
    {
     "name": "stdout",
     "output_type": "stream",
     "text": [
      "Input the number: \n",
      "Input num of terms: \n",
      "8 X 0 = 0\n",
      "8 X 1 = 8\n",
      "8 X 2 = 16\n",
      "8 X 3 = 24\n",
      "8 X 4 = 32\n",
      "8 X 5 = 40\n"
     ]
    }
   ],
   "source": [
    "public class Exercise14 {\n",
    "\n",
    "    \n",
    "    public static void main(String[] args) {\n",
    "        \n",
    "\n",
    "        System.out.println(\"Input the number: \");\n",
    "        Scanner input = new Scanner(System.in);\n",
    "        int num = input.nextInt();\n",
    "\n",
    "        System.out.println(\"Input num of terms: \");\n",
    "        int termNum = input.nextInt();\n",
    "\n",
    "        for (int i = 0; i <= termNum; i++) {\n",
    "            System.out.println(num + \" X \" + i + \" = \" + num*i);\n",
    "        }\n",
    "\n",
    "        input.close();\n",
    "\n",
    "        \n",
    "        \n",
    "    }\n",
    "}\n",
    "\n",
    "Exercise14.main(null);"
   ]
  },
  {
   "cell_type": "markdown",
   "metadata": {},
   "source": [
    "16. Write a program in Java to display the pattern like right angle triangle with a number."
   ]
  },
  {
   "cell_type": "code",
   "execution_count": 10,
   "metadata": {},
   "outputs": [
    {
     "name": "stdout",
     "output_type": "stream",
     "text": [
      "Input num of rows: 5\n",
      "1\n",
      "12\n",
      "123\n",
      "1234\n",
      "12345\n"
     ]
    }
   ],
   "source": [
    "public class Exercise16 {\n",
    "\n",
    "    \n",
    "    public static void main(String[] args) {\n",
    "        \n",
    "\n",
    "        System.out.print(\"Input num of rows: \");\n",
    "        Scanner input = new Scanner(System.in);\n",
    "        int num = input.nextInt();\n",
    "        System.out.println(num);\n",
    "\n",
    "        \n",
    "\n",
    "        for (int i = 1; i <= num; i++) {\n",
    "            \n",
    "            for (int j = 1; j <= i; j++) {\n",
    "                System.out.print(j);\n",
    "            }\n",
    "\n",
    "            System.out.println();\n",
    "        }\n",
    "\n",
    "        \n",
    "        \n",
    "    }\n",
    "}\n",
    "\n",
    "Exercise16.main(null);"
   ]
  },
  {
   "cell_type": "markdown",
   "metadata": {},
   "source": [
    "18. Write a program in Java to make such a pattern like right angle triangle with number increased by 1."
   ]
  },
  {
   "cell_type": "code",
   "execution_count": 11,
   "metadata": {},
   "outputs": [
    {
     "name": "stdout",
     "output_type": "stream",
     "text": [
      "Input num of rows: 4\n",
      "1 \n",
      "2 3 \n",
      "4 5 6 \n",
      "7 8 9 10 \n"
     ]
    }
   ],
   "source": [
    "public class Exercise18 {\n",
    "\n",
    "    \n",
    "    public static void main(String[] args) {\n",
    "        \n",
    "\n",
    "        System.out.print(\"Input num of rows: \");\n",
    "        Scanner input = new Scanner(System.in);\n",
    "        int num = input.nextInt();\n",
    "        System.out.println(num);\n",
    "\n",
    "        int numDisplay = 1;\n",
    "        \n",
    "\n",
    "        for (int i = 1; i <= num; i++) {\n",
    "            \n",
    "            for (int j = 1; j <= i; j++) {\n",
    "                System.out.print(numDisplay + \" \");\n",
    "                numDisplay++;\n",
    "            }\n",
    "\n",
    "            System.out.println();\n",
    "        }\n",
    "\n",
    "        \n",
    "        \n",
    "    }\n",
    "}\n",
    "\n",
    "Exercise18.main(null);"
   ]
  },
  {
   "cell_type": "markdown",
   "metadata": {},
   "source": [
    "20. Write a program in Java to print the Floyd's Triangle."
   ]
  },
  {
   "cell_type": "code",
   "execution_count": 12,
   "metadata": {},
   "outputs": [
    {
     "name": "stdout",
     "output_type": "stream",
     "text": [
      "Input num of rows: 6\n",
      "1 \n",
      "2 3 \n",
      "4 5 6 \n",
      "7 8 9 10 \n",
      "11 12 13 14 15 \n",
      "16 17 18 19 20 21 \n"
     ]
    }
   ],
   "source": [
    "public class Exercise20 {\n",
    "\n",
    "    \n",
    "    public static void main(String[] args) {\n",
    "        \n",
    "\n",
    "        System.out.print(\"Input num of rows: \");\n",
    "        Scanner input = new Scanner(System.in);\n",
    "        int num = input.nextInt();\n",
    "        System.out.println(num);\n",
    "\n",
    "        int numDisplay = 1;\n",
    "        \n",
    "\n",
    "        for (int i = 1; i <= num; i++) {\n",
    "            \n",
    "            for (int j = 1; j <= i; j++) {\n",
    "                System.out.print(numDisplay + \" \");\n",
    "                numDisplay++;\n",
    "            }\n",
    "\n",
    "            System.out.println();\n",
    "        }\n",
    "\n",
    "        \n",
    "        \n",
    "    }\n",
    "}\n",
    "\n",
    "Exercise20.main(null);"
   ]
  }
 ],
 "metadata": {
  "kernelspec": {
   "display_name": "Java",
   "language": "java",
   "name": "java"
  },
  "language_info": {
   "codemirror_mode": "java",
   "file_extension": ".jshell",
   "mimetype": "text/x-java-source",
   "name": "java",
   "pygments_lexer": "java",
   "version": "11.0.16+8-post-Ubuntu-0ubuntu120.04"
  },
  "orig_nbformat": 4,
  "vscode": {
   "interpreter": {
    "hash": "916dbcbb3f70747c44a77c7bcd40155683ae19c65e1c03b4aa3499c5328201f1"
   }
  }
 },
 "nbformat": 4,
 "nbformat_minor": 2
}
