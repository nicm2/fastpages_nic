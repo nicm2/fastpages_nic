{
 "cells": [
  {
   "attachments": {},
   "cell_type": "markdown",
   "metadata": {},
   "source": [
    "# Data Types Hacks\n",
    "> Jupyter Notebook on data type hacks\n",
    "\n",
    "- toc: true\n",
    "- badges: true\n",
    "- comments: true\n",
    "- categories: [fastpages,collegeboard]"
   ]
  },
  {
   "attachments": {},
   "cell_type": "markdown",
   "metadata": {},
   "source": [
    "# Data Type Hacks"
   ]
  },
  {
   "attachments": {},
   "cell_type": "markdown",
   "metadata": {},
   "source": [
    "\n",
    "## Code Examples of Primitive Types and their Wrapper Classes:"
   ]
  },
  {
   "attachments": {},
   "cell_type": "markdown",
   "metadata": {},
   "source": [
    "### int"
   ]
  },
  {
   "cell_type": "code",
   "execution_count": null,
   "metadata": {},
   "outputs": [],
   "source": [
    "//primitive \n",
    "int[] numbers = {1, 2, 3, 4, 5};\n",
    "int randomIndex = (int) (Math.random() * numbers.length);\n",
    "int randomNum = numbers[randomIndex];\n",
    "System.out.println(\"Random number from array: \" + randomNum);"
   ]
  },
  {
   "cell_type": "code",
   "execution_count": null,
   "metadata": {},
   "outputs": [],
   "source": [
    "//wrapper class\n",
    "Integer[] numbers = {1, 2, 3, 4, 5};\n",
    "int randomIndex = (int) (Math.random() * numbers.length);\n",
    "int randomNum = numbers[randomIndex];\n",
    "System.out.println(\"Random number from array: \" + randomNum);"
   ]
  },
  {
   "attachments": {},
   "cell_type": "markdown",
   "metadata": {},
   "source": [
    "### double"
   ]
  },
  {
   "cell_type": "code",
   "execution_count": null,
   "metadata": {},
   "outputs": [],
   "source": [
    "//primitive\n",
    "double[] prices = {9.99, 19.99, 29.99, 39.99, 49.99};\n",
    "double totalPrice = 0;\n",
    "for (double price : prices) {\n",
    "    totalPrice += price;\n",
    "}\n",
    "System.out.println(\"Total price: \" + totalPrice);"
   ]
  },
  {
   "cell_type": "code",
   "execution_count": null,
   "metadata": {},
   "outputs": [],
   "source": [
    "//wrapper class\n",
    "Double[] prices = {9.99, 19.99, 29.99, 39.99, 49.99};\n",
    "double totalPrice = 0;\n",
    "for (Double price : prices) {\n",
    "    totalPrice += price;\n",
    "}\n",
    "System.out.println(\"Total price: \" + totalPrice);\n"
   ]
  },
  {
   "attachments": {},
   "cell_type": "markdown",
   "metadata": {},
   "source": [
    "### boolean"
   ]
  },
  {
   "cell_type": "code",
   "execution_count": null,
   "metadata": {},
   "outputs": [],
   "source": [
    "//primitive\n",
    "boolean[] results = {true, false, false, true, true};\n",
    "int countTrue = 0;\n",
    "for (boolean result : results) {\n",
    "    if (result) {\n",
    "        countTrue++;\n",
    "    }\n",
    "}\n",
    "System.out.println(\"Number of true values: \" + countTrue);\n"
   ]
  },
  {
   "cell_type": "code",
   "execution_count": null,
   "metadata": {},
   "outputs": [],
   "source": [
    "//wrapper class\n",
    "Boolean[] results = {true, false, false, true, true};\n",
    "int countTrue = 0;\n",
    "for (Boolean result : results) {\n",
    "    if (result) {\n",
    "        countTrue++;\n",
    "    }\n",
    "}\n",
    "System.out.println(\"Number of true values: \" + countTrue);\n"
   ]
  },
  {
   "attachments": {},
   "cell_type": "markdown",
   "metadata": {},
   "source": [
    "### char"
   ]
  },
  {
   "cell_type": "code",
   "execution_count": null,
   "metadata": {},
   "outputs": [],
   "source": [
    "//primitive\n",
    "String[] words = {\"apple\", \"banana\", \"cherry\", \"date\", \"elderberry\"};\n",
    "String randomWord = words[(int) (Math.random() * words.length)];\n",
    "char firstLetter = randomWord.charAt(0);\n",
    "System.out.println(\"Random word: \" + randomWord);\n",
    "System.out.println(\"First letter: \" + firstLetter);"
   ]
  },
  {
   "cell_type": "code",
   "execution_count": null,
   "metadata": {},
   "outputs": [],
   "source": [
    "//wrapper class\n",
    "Character[] words = {'a', 'b', 'c', 'd', 'e'};\n",
    "char randomWord = words[(int) (Math.random() * words.length)];\n",
    "char firstLetter = randomWord.charAt(0);\n",
    "System.out.println(\"Random word: \" + randomWord);\n",
    "System.out.println(\"First letter: \" + firstLetter);"
   ]
  },
  {
   "attachments": {},
   "cell_type": "markdown",
   "metadata": {},
   "source": [
    "## Key Concepts in Teacher Code"
   ]
  },
  {
   "attachments": {},
   "cell_type": "markdown",
   "metadata": {},
   "source": [
    "### Methods\n",
    "A method is a block of code that performs a specific task. It can take input parameters and return a value. In the methodsDataTypes code, there are several methods that perform different tasks, such as finding the maximum value in an array, converting a temperature between Celsius and Fahrenheit, and checking if a number is prime.\n",
    "\n",
    "### Control Structures\n",
    "Control structures are statements that control the flow of execution in a program. The most common control structures are if/else statements, loops, and switch statements. In the methodsDataTypes code, there are several examples of control structures, such as for loops used to iterate over arrays, and if/else statements used to check conditions and control program flow.\n",
    "\n",
    "### Menu Code"
   ]
  },
  {
   "cell_type": "code",
   "execution_count": null,
   "metadata": {},
   "outputs": [],
   "source": [
    "package com.nighthawk.hacks.methodsDataTypes;\n",
    "\n",
    "import java.util.HashMap;\n",
    "import java.util.Map;\n",
    "import java.util.Scanner;\n",
    "\n",
    "/**\n",
    " * Menu: custom implementation\n",
    " * @author     John Mortensen\n",
    " *\n",
    " * Uses String to contain Title for an Option\n",
    " * Uses Runnable to store Class-Method to be run when Title is selected\n",
    " */\n",
    "\n",
    "// The Menu Class has a HashMap of Menu Rows\n",
    "public class Menu {\n",
    "    // Format\n",
    "    // Key {0, 1, 2, ...} created based on order of input menu\n",
    "    // Value {MenuRow0, MenuRow1, MenuRow2,...} each corresponds to key\n",
    "    // MenuRow  {<Exit,Noop>, Option1, Option2, ...}\n",
    "    Map<Integer, MenuRow> menu = new HashMap<>();\n",
    "\n",
    "    /**\n",
    "     *  Constructor for Menu,\n",
    "     *\n",
    "     * @param  rows,  is the row data for menu.\n",
    "     */\n",
    "    public Menu(MenuRow[] rows) {\n",
    "        int i = 0;\n",
    "        for (MenuRow row : rows) {\n",
    "            // Build HashMap for lookup convenience\n",
    "            menu.put(i++, new MenuRow(row.getTitle(), row.getAction()));\n",
    "        }\n",
    "    }\n",
    "\n",
    "    /**\n",
    "     *  Get Row from Menu,\n",
    "     *\n",
    "     * @param  i,  HashMap key (k)\n",
    "     *\n",
    "     * @return  MenuRow, the selected menu\n",
    "     */\n",
    "    public MenuRow get(int i) {\n",
    "        return menu.get(i);\n",
    "    }\n",
    "\n",
    "    /**\n",
    "     *  Iterate through and print rows in HashMap\n",
    "     */\n",
    "    public void print() {\n",
    "        for (Map.Entry<Integer, MenuRow> pair : menu.entrySet()) {\n",
    "            System.out.println(pair.getKey() + \" ==> \" + pair.getValue().getTitle());\n",
    "        }\n",
    "    }\n",
    "\n",
    "    /**\n",
    "     *  To test run Driver\n",
    "     */\n",
    "    public static void main(String[] args) {\n",
    "        Driver.main(args);\n",
    "    }\n",
    "\n",
    "}\n",
    "\n",
    "// The MenuRow Class has title and action for individual line item in menu\n",
    "class MenuRow {\n",
    "    String title;       // menu item title\n",
    "    Runnable action;    // menu item action, using Runnable\n",
    "\n",
    "    /**\n",
    "     *  Constructor for MenuRow,\n",
    "     *\n",
    "     * @param  title,  is the description of the menu item\n",
    "     * @param  action, is the run-able action for the menu item\n",
    "     */\n",
    "    public MenuRow(String title, Runnable action) {\n",
    "        this.title = title;\n",
    "        this.action = action;\n",
    "    }\n",
    "\n",
    "    /**\n",
    "     *  Getters\n",
    "     */\n",
    "    public String getTitle() {\n",
    "        return this.title;\n",
    "    }\n",
    "    public Runnable getAction() {\n",
    "        return this.action;\n",
    "    }\n",
    "\n",
    "    /**\n",
    "     *  Runs the action using Runnable (.run)\n",
    "     */\n",
    "    public void run() {\n",
    "        action.run();\n",
    "    }\n",
    "}\n",
    "\n",
    "// The Main Class illustrates initializing and using Menu with Runnable action\n",
    "class Driver {\n",
    "    /**\n",
    "     *  Menu Control Example\n",
    "     */\n",
    "    public static void main(String[] args) {\n",
    "        // Row initialize\n",
    "        MenuRow[] rows = new MenuRow[]{\n",
    "            // lambda style, () -> to point to Class.Method\n",
    "            new MenuRow(\"Exit\", () -> main(null)),\n",
    "            new MenuRow(\"Do Nothing\", () -> DoNothingByValue.main(null)),\n",
    "            new MenuRow(\"Swap if Hi-Low\", () -> IntByReference.main(null)),\n",
    "            new MenuRow(\"Matrix Reverse\", () -> Matrix.main(null)),\n",
    "            new MenuRow(\"Diverse Array\", () -> Matrix.main(null)),\n",
    "            new MenuRow(\"Random Squirrels\", () -> Number.main(null))\n",
    "        };\n",
    "\n",
    "        // Menu construction\n",
    "        Menu menu = new Menu(rows);\n",
    "\n",
    "        // Run menu forever, exit condition contained in loop\n",
    "        while (true) {\n",
    "            System.out.println(\"Hacks Menu:\");\n",
    "            // print rows\n",
    "            menu.print();\n",
    "\n",
    "            // Scan for input\n",
    "            try {\n",
    "                Scanner scan = new Scanner(System.in);\n",
    "                int selection = scan.nextInt();\n",
    "\n",
    "                // menu action\n",
    "                try {\n",
    "                    MenuRow row = menu.get(selection);\n",
    "                    // stop menu\n",
    "                    if (row.getTitle().equals(\"Exit\")) {\n",
    "                        if (scan != null) \n",
    "                            scan.close();  // scanner resource requires release\n",
    "                        return;\n",
    "                    }\n",
    "                    // run option\n",
    "                    row.run();\n",
    "                } catch (Exception e) {\n",
    "                    System.out.printf(\"Invalid selection %d\\n\", selection);\n",
    "                }\n",
    "\n",
    "            } catch (Exception e) {\n",
    "                System.out.println(\"Not a number\");\n",
    "            }\n",
    "        }\n",
    "    }\n",
    "}"
   ]
  },
  {
   "attachments": {},
   "cell_type": "markdown",
   "metadata": {},
   "source": [
    "This code defines a custom implementation of a menu, which is used to allow the user to select from a list of options. The options are defined as instances of the MenuRow class, which contains a title and an action. The title is a description of the option that is displayed to the user, and the action is a Runnable that is executed when the user selects the option.\n",
    "\n",
    "The Menu class contains a HashMap that maps integer keys to MenuRow values. Each key corresponds to a menu option, and each value contains the title and action for that option. The Menu class has a constructor that takes an array of MenuRow instances and uses them to populate the HashMap.\n",
    "\n",
    "The Menu class also contains methods to get a MenuRow by key, iterate through and print the options in the menu, and a main method that can be used to test the menu.\n",
    "\n",
    "The MenuRow class contains a constructor that takes a title and a Runnable action, as well as getters for the title and action. The MenuRow class also contains a run method that executes the action by calling its run method.\n",
    "\n",
    "The Driver class contains a main method that creates an array of MenuRow instances and uses them to create a Menu. It then enters a loop that displays the menu and waits for the user to select an option. When the user selects an option, the corresponding Runnable is executed.\n",
    "\n",
    "### Key Concepts\n",
    "DoNothingByValue - This class demonstrates that primitive types are passed by value in Java. This means that changes made to the parameter inside the method do not affect the original variable outside of the method.\n",
    "\n",
    "- IntByReference - This class demonstrates how to simulate pass by reference in Java using an object. By passing an object reference instead of a primitive type, changes made to the object inside the method are reflected outside of the method.\n",
    "\n",
    "- Menu - This class demonstrates the use of try/catch blocks to handle exceptions and the implementation of a menu system using a switch statement. The Runnable interface is also used to allow for concurrent execution of the menu and the main program.\n",
    "\n",
    "- DiverseArrays - This class demonstrates the use of arrays to store data and the implementation of several methods to manipulate and access array elements. It also demonstrates the use of nested loops to iterate over multi-dimensional arrays."
   ]
  },
  {
   "cell_type": "code",
   "execution_count": null,
   "metadata": {},
   "outputs": [],
   "source": [
    "public static boolean isDiverse(int[][] arr2D) {\n",
    "    int [] sums = rowSums(arr2D);\n",
    "    int sumsLength = sums.length;\n",
    "\n",
    "    // ij loop, two indexes needed in evaluation, similar to bubble sort iteration\n",
    "    for(int i = 0; i < sumsLength - 1; i++) {\n",
    "        for (int j = i + 1; j < sumsLength; j++) {\n",
    "            if (sums[i] == sums[j]) {\n",
    "                return false;    // leave as soon as you find duplicate\n",
    "            }\n",
    "        }\n",
    "    }\n",
    "    return true; // all diverse checks have been made\n",
    "}"
   ]
  },
  {
   "attachments": {},
   "cell_type": "markdown",
   "metadata": {},
   "source": [
    "This code defines a method called \"isDiverse\" that takes a 2D integer array as an argument and returns a boolean value. It calculates the sums of each row of the input array, and then checks if any of these sums are equal to each other. If any sums are equal, the method returns false, and if all sums are unique, the method returns true."
   ]
  }
 ],
 "metadata": {
  "kernelspec": {
   "display_name": "Java",
   "language": "java",
   "name": "java"
  },
  "language_info": {
   "name": "java"
  },
  "orig_nbformat": 4
 },
 "nbformat": 4,
 "nbformat_minor": 2
}
