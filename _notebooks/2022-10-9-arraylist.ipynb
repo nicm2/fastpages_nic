{
 "cells": [
  {
   "cell_type": "markdown",
   "metadata": {},
   "source": [
    "# Lists and Array List \n",
    "> Jupyter Notebook on using Array List and list manipulations\n",
    "\n",
    "- toc: true\n",
    "- badges: true\n",
    "- comments: true\n",
    "- categories: [fastpages]"
   ]
  },
  {
   "cell_type": "code",
   "execution_count": 4,
   "metadata": {},
   "outputs": [
    {
     "name": "stdout",
     "output_type": "stream",
     "text": [
      "[What is the chemical symbol for gold?, What is the 5th planet from the sun?, What is the acceleration of gravity?]\n",
      "setting the questions at certain indexes: \n",
      "[What is the chemical symbol for helium?, What is the 8th planet from the sun?, What is the chemical symbol for gold?, What is the 5th planet from the sun?, What is the acceleration of gravity?]\n",
      "\n",
      "Size of array list: \n",
      "5\n",
      "\n",
      "removing the third question at index 2: \n",
      "[What is the chemical symbol for helium?, What is the 8th planet from the sun?, What is the 5th planet from the sun?, What is the acceleration of gravity?]\n",
      "\n",
      "removing the helium question: \n",
      "[What is the 8th planet from the sun?, What is the 5th planet from the sun?, What is the acceleration of gravity?]\n",
      "\n",
      "Get element at index 1: \n",
      "What is the 5th planet from the sun?\n",
      "\n",
      "indexing the helium question: \n",
      "-1\n",
      "\n",
      "Hash Code: -966479922\n",
      "\n",
      "Is the arraylist empty: false\n",
      "\n",
      "Does arraylist contain What is the 8th planet from the sun?true\n",
      "\n",
      "Cleared arrayList:\n",
      "[]\n"
     ]
    }
   ],
   "source": [
    "import java.util.ArrayList;\n",
    "import java.util.Comparator;\n",
    "\n",
    "public class ArrayListQuiz {\n",
    "\n",
    "  public static void main(String[] args) {\n",
    "   \n",
    "    // Creating 2 arraylists\n",
    "    ArrayList<String> Quiz = new ArrayList<String>();\n",
    "    // ArrayList<String> footballPlayers = new ArrayList<String>();\n",
    "\n",
    "    // Adding without index\n",
    "    Quiz.add(\"What is the chemical symbol for gold?\");\n",
    "    Quiz.add(\"What is the 5th planet from the sun?\");\n",
    "    Quiz.add(\"What is the acceleration of gravity?\");\n",
    "    System.out.println(Quiz);\n",
    "\n",
    "    // Adding players with index\n",
    "    Quiz.add(0, \"What is the chemical symbol for helium?\");\n",
    "    Quiz.add(1, \"What is the 8th planet from the sun?\");\n",
    "    System.out.println(\"setting the questions at certain indexes: \" + \"\\n\" + Quiz + \"\\n\");\n",
    "\n",
    "    // Showing size of list\n",
    "    System.out.println(\"Size of array list: \" + \"\\n\" + Quiz.size() + \"\\n\");\n",
    "\n",
    "    // Remove item with index\n",
    "    Quiz.remove(2);\n",
    "    System.out.println(\"removing the third question at index 2: \" + \"\\n\" + Quiz + \"\\n\");\n",
    "\n",
    "    // Remove an item\n",
    "    Quiz.remove(\"What is the chemical symbol for helium?\");\n",
    "    System.out.println(\"removing the helium question: \" + \"\\n\" + Quiz + \"\\n\");\n",
    "    Quiz.add(\"What is the 8th planet from the sun?\");\n",
    "\n",
    "    // get an iteam with index\n",
    "    System.out.println(\"Get element at index 1: \" + \"\\n\" + Quiz.get(1) + \"\\n\");\n",
    "\n",
    "    // find index of an item\n",
    "    System.out.println(\"indexing the helium question: \" + \"\\n\" + Quiz.indexOf(\"What is the chemical symbol for helium?\") + \"\\n\");\n",
    "    \n",
    "    // hashcode of list\n",
    "    System.out.println(\"Hash Code: \" + Quiz.hashCode() + \"\\n\");\n",
    "\n",
    "    // check if list is empty\n",
    "    System.out.println(\"Is the arraylist empty: \"  + Quiz.isEmpty() + \"\\n\");\n",
    "\n",
    "    // check if list contains an item\n",
    "    System.out.println(\"Does arraylist contain What is the 8th planet from the sun?\"  + Quiz.contains(\"What is the 8th planet from the sun?\") + \"\\n\");\n",
    "\n",
    "    // clears list\n",
    "    Quiz.clear();\n",
    "    System.out.println(\"Cleared arrayList:\" + \"\\n\" + Quiz);\n",
    "  }\n",
    "\n",
    "}\n",
    "\n",
    "ArrayListQuiz.main(null);"
   ]
  }
 ],
 "metadata": {
  "kernelspec": {
   "display_name": "Java",
   "language": "java",
   "name": "java"
  },
  "language_info": {
   "codemirror_mode": "java",
   "file_extension": ".jshell",
   "mimetype": "text/x-java-source",
   "name": "java",
   "pygments_lexer": "java",
   "version": "11.0.16+8-post-Ubuntu-0ubuntu120.04"
  },
  "orig_nbformat": 4,
  "vscode": {
   "interpreter": {
    "hash": "916dbcbb3f70747c44a77c7bcd40155683ae19c65e1c03b4aa3499c5328201f1"
   }
  }
 },
 "nbformat": 4,
 "nbformat_minor": 2
}
