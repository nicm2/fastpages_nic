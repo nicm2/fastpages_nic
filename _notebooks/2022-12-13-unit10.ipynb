{
 "cells": [
  {
   "attachments": {},
   "cell_type": "markdown",
   "metadata": {},
   "source": [
    "# College Board Unit 10 Blog\n",
    "> Jupyter Notebook on college board unit 10 learning\n",
    "\n",
    "- toc: true\n",
    "- badges: true\n",
    "- comments: true\n",
    "- categories: [fastpages,collegeboard]"
   ]
  },
  {
   "attachments": {},
   "cell_type": "markdown",
   "metadata": {},
   "source": [
    "Recursion\n",
    "- A recursive method is a method that calls itself repeatedly\n",
    "- made of a base case and a recursive call\n",
    "- after x calls, the base case is reached, the loop is stopped, and a value is returned\n",
    "- Recursive calls are calls part of a method\n",
    "- Each call has unique values until base case is reached\n",
    "- Recursive methods have a call stack that keeps track of all the times the function is called"
   ]
  },
  {
   "cell_type": "code",
   "execution_count": null,
   "metadata": {},
   "outputs": [],
   "source": [
    "//Iterative Code\n",
    "public static int multiply(int a, int b) {\n",
    "    int sum = 0;\n",
    "    for (int i =0; i < b; i++) {\n",
    "        sum += a;\n",
    "    }\n",
    "    return sum;\n",
    "}"
   ]
  },
  {
   "attachments": {},
   "cell_type": "markdown",
   "metadata": {},
   "source": [
    "- Recursions are similar to loops and can be written as such\n",
    "- Iteration vs. Recursion:\n",
    "- Iteration is used to execute instructions repeadetly unitl a certain condition\n",
    "- Recursion is used when the solution to a bigger problem can be expressed as smaller problems\n",
    "- function calls vs. for and while loops"
   ]
  },
  {
   "cell_type": "code",
   "execution_count": null,
   "metadata": {},
   "outputs": [],
   "source": [
    "public static int multiply(int a, int b){\n",
    "    if (b == 0) {\n",
    "        return 0;\n",
    "    } else {\n",
    "        return multiply(a, b-1) + a;\n",
    "    }\n",
    "}"
   ]
  },
  {
   "attachments": {},
   "cell_type": "markdown",
   "metadata": {},
   "source": [
    "Binary Search\n",
    "- search algorithm\n",
    "- data must be in order\n",
    "- splits array in half until the value is found\n",
    "- more efficient than linear search"
   ]
  },
  {
   "attachments": {},
   "cell_type": "markdown",
   "metadata": {},
   "source": [
    "Linear Recursion + Selection Sort\n",
    "- Linear Recursion: a function that only makes a single call to itself each time the function runs\n",
    "- Selection Sort: the algorithm works by repeatedly finding the minimum element from the unsorted part and putting it at the end of the sorted part"
   ]
  },
  {
   "cell_type": "code",
   "execution_count": null,
   "metadata": {},
   "outputs": [],
   "source": [
    "int factorial (int n)\n",
    "{\n",
    "    if (n == 0) return 1;\n",
    "    return n * factorial (n-1);\n",
    "}"
   ]
  },
  {
   "attachments": {},
   "cell_type": "markdown",
   "metadata": {},
   "source": [
    "Merge Sort\n",
    "- can be used to sort ArrayList structures\n",
    "- Uses a deivide and conquer alogirthm\n",
    "- divides the input array into halves, calls itself and then merges the two sorted halves\n",
    "- merge() function is used to merge the two halves together"
   ]
  }
 ],
 "metadata": {
  "kernelspec": {
   "display_name": "Java",
   "language": "java",
   "name": "java"
  },
  "language_info": {
   "name": "java",
   "version": "3.8.10 (default, Jun 22 2022, 20:18:18) \n[GCC 9.4.0]"
  },
  "orig_nbformat": 4,
  "vscode": {
   "interpreter": {
    "hash": "916dbcbb3f70747c44a77c7bcd40155683ae19c65e1c03b4aa3499c5328201f1"
   }
  }
 },
 "nbformat": 4,
 "nbformat_minor": 2
}
