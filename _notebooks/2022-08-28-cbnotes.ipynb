{
 "cells": [
  {
   "cell_type": "markdown",
   "metadata": {},
   "source": [
    "# College Board Unit 1: Primitive Types\n",
    "> College Board Unit 1: Primitive Types Notes Notebook\n",
    "\n",
    "- toc: true \n",
    "- badges: true\n",
    "- comments: true\n",
    "- categories: [jupyter]"
   ]
  },
  {
   "cell_type": "markdown",
   "metadata": {},
   "source": [
    "### Topic 1.1 Why Java\n",
    "- System.out.print and system.out.println display information on the computer monitor\n",
    "- System.out.println moves the cursor to a new line after the information has been displayed while System.out.print does not\n",
    "- A string literal is an exact sequence of characters enclosed in double quotes\n",
    "- 3 Error Types: \n",
    "- Syntax/Compiler Error\n",
    "- Exception (ex: divide by 0)\n",
    "- Logic Error (ex: - instead of + when finding the sum)"
   ]
  },
  {
   "cell_type": "markdown",
   "metadata": {},
   "source": [
    "### Topic 1.2 Variables and Data Types\n",
    "- A type is a set of values (a domain) and a set of operations on them\n",
    "- Data types can be categorized as either primitive or reference\n",
    "- The primitive data types used in this course define the set of operations for numbers and Boolean values\n",
    "- Boolean: T or F, Int: whole numbers, Double: floarting-point numbers\n",
    "- The three primitive data types used in this course are int, double, and Boolean\n",
    "- Each variable has associated memory that is used to hold its value\n",
    "- The memory associated with a variable of a primitve type holds an actual primitve value\n",
    "- When a variable is declared final, its value cannot be changed once it is intialized\n"
   ]
  }
 ],
 "metadata": {
  "kernelspec": {
   "display_name": "Java",
   "language": "java",
   "name": "java"
  },
  "language_info": {
   "codemirror_mode": "java",
   "file_extension": ".jshell",
   "mimetype": "text/x-java-source",
   "name": "Java",
   "pygments_lexer": "java",
   "version": "11.0.16+8-post-Ubuntu-0ubuntu120.04"
  },
  "orig_nbformat": 4,
  "vscode": {
   "interpreter": {
    "hash": "916dbcbb3f70747c44a77c7bcd40155683ae19c65e1c03b4aa3499c5328201f1"
   }
  }
 },
 "nbformat": 4,
 "nbformat_minor": 2
}
