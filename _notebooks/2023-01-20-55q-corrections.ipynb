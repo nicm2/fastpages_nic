{
 "cells": [
  {
   "attachments": {},
   "cell_type": "markdown",
   "metadata": {},
   "source": [
    "# 55 Quiz Corrections\n",
    "> Jupyter Notebook on 55 Question Quiz Corrections\n",
    "\n",
    "- toc: true\n",
    "- badges: true\n",
    "- comments: true\n",
    "- categories: [fastpages,collegeboard]"
   ]
  },
  {
   "attachments": {},
   "cell_type": "markdown",
   "metadata": {},
   "source": [
    "### Score: 49/52"
   ]
  },
  {
   "attachments": {},
   "cell_type": "markdown",
   "metadata": {},
   "source": [
    "### Question 3\n",
    "\n",
    "What are the contents of mat after the code segment has been executed?\n",
    "\n",
    "\n",
    "I put B when the correct answer was D because the elements of array key have indices 0 to key.length – 1. Since the for loop control variable i is initialized to 1 and will increase by 1 until it is equal to key.length, the access to key should be adjusted by 1, otherwise the value at index 0 will not be included in the sum and when i is key.length an ArrayIndexOutOfBoundsException will be thrown.\n",
    "\n"
   ]
  },
  {
   "cell_type": "code",
   "execution_count": null,
   "metadata": {},
   "outputs": [],
   "source": [
    "int[][] mat = new int[3][4];\n",
    "for (int row = 0; row < mat.length; row++)\n",
    "{\n",
    "    for (int col = 0; col < mat[0].length; col++)\n",
    "    {\n",
    "        if (row < col)\n",
    "        {\n",
    "            mat[row][col] = 1;\n",
    "        }\n",
    "        else if (row == col)\n",
    "        {\n",
    "            mat[row][col] = 2;\n",
    "        }\n",
    "        else\n",
    "        {\n",
    "            mat[row][col] = 3;\n",
    "        }\n",
    "    }\n",
    "}\n"
   ]
  },
  {
   "attachments": {},
   "cell_type": "markdown",
   "metadata": {},
   "source": [
    "### Question 14\n",
    "\n",
    "Consider the following method, which is intended to return the number of columns in the two-dimensional array arr for which the sum of the elements in the column is greater than the parameter val.\n",
    "\n",
    "The countCols method does not work as intended. Which of the following changes should be made so the method works as intended?\n",
    "\n",
    "\n",
    "I put E when the correct answer C because two-dimensional arrays are stored as arrays of one-dimensional arrays. Line 8 is intended to assign to row, a one-dimensional array of int values, a single row of the two-dimensional array arr. The original version of line 8 attempts to assign a row of col, but col is not a two-dimensional array."
   ]
  },
  {
   "cell_type": "code",
   "execution_count": null,
   "metadata": {},
   "outputs": [],
   "source": [
    "\n",
    "public int countCols(int[][] arr, int val)\n",
    "\n",
    "{\n",
    "\n",
    "int count = 0;\n",
    "\n",
    " \n",
    "\n",
    "for (int col = 0; col < arr[0].length; col++) // Line 5\n",
    "\n",
    "{\n",
    "\n",
    "int sum = 0;\n",
    "\n",
    "for (int[] row : col) // Line 8\n",
    "\n",
    "{\n",
    "\n",
    "sum += row[col]; // Line 10\n",
    "\n",
    "}\n",
    "\n",
    "if (sum > val)\n",
    "\n",
    "{\n",
    "\n",
    "count++;\n",
    "\n",
    "}\n",
    "\n",
    "}\n",
    "\n",
    "return count;\n",
    "\n",
    "}"
   ]
  },
  {
   "attachments": {},
   "cell_type": "markdown",
   "metadata": {},
   "source": [
    "### Question 29\n",
    "\n",
    "What, if anything, is printed when the code segment is executed?\n",
    "\n",
    "\n",
    "I put E when the correct answer was D because the + operator concatenates the String literals, boolean values, String variables, and int variables in the order that they appear."
   ]
  },
  {
   "cell_type": "code",
   "execution_count": null,
   "metadata": {},
   "outputs": [],
   "source": [
    "Consider the code segment below.\n",
    "\n",
    "int a = 1988;\n",
    "\n",
    "int b = 1990;\n",
    "\n",
    "   \n",
    "\n",
    "String claim = \" that the world’s athletes \" +\n",
    "\n",
    "\"competed in Olympic Games in \";\n",
    "\n",
    "   \n",
    "\n",
    "String s = \"It is \" + true + claim + a +\n",
    "\n",
    "\" but \" + false + claim + b + \".\";\n",
    "\n",
    "   \n",
    "\n",
    "System.out.println(s);"
   ]
  },
  {
   "attachments": {},
   "cell_type": "markdown",
   "metadata": {},
   "source": [
    "Reflection:\n",
    "Overall I did well on the 55 question quiz. I struggled most with changing specific lines of code to make the program complete a certain goal like in question 29."
   ]
  }
 ],
 "metadata": {
  "kernelspec": {
   "display_name": "Java",
   "language": "java",
   "name": "java"
  },
  "language_info": {
   "name": "java",
   "version": "3.8.10 (default, Jun 22 2022, 20:18:18) \n[GCC 9.4.0]"
  },
  "orig_nbformat": 4,
  "vscode": {
   "interpreter": {
    "hash": "916dbcbb3f70747c44a77c7bcd40155683ae19c65e1c03b4aa3499c5328201f1"
   }
  }
 },
 "nbformat": 4,
 "nbformat_minor": 2
}
