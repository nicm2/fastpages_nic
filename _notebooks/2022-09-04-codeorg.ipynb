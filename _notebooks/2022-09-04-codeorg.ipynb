{
 "cells": [
  {
   "cell_type": "markdown",
   "metadata": {},
   "source": [
    "# Code.org Learning\n",
    "> A Jupyter Notebook for code.org learning\n",
    "\n",
    "- toc: true \n",
    "- badges: true\n",
    "- comments: true\n",
    "- categories: [jupyter]"
   ]
  },
  {
   "cell_type": "markdown",
   "metadata": {},
   "source": [
    "## Classes\n",
    "\n",
    "Java classes are the basic building block, like a template for objects of the class. A class is defined in its own .java file, and the name of the file has to match with the class name."
   ]
  },
  {
   "cell_type": "markdown",
   "metadata": {},
   "source": [
    "## Class Instances\n",
    "\n",
    "Class instances are objects of a class. To instance a class as an object, first type the class name, then the object name, equals new class();."
   ]
  },
  {
   "cell_type": "markdown",
   "metadata": {},
   "source": [
    "## Calling an Object\n",
    "\n",
    "You can call an object to perform a specific funciton. To do so, first write the object instance name, a period, and then the method called."
   ]
  },
  {
   "cell_type": "markdown",
   "metadata": {},
   "source": [
    "## Extending (Class Hierarchy)\n",
    "\n",
    " Extends in java “extends” a class. The class created is inherited from another class, but more methods can be written in addition to the methods already in the original class. A subclass is the class that inherits, while the superclass is the class being inherited from.\n"
   ]
  }
 ],
 "metadata": {
  "kernelspec": {
   "display_name": "Java",
   "language": "java",
   "name": "java"
  },
  "language_info": {
   "name": "java"
  },
  "orig_nbformat": 4
 },
 "nbformat": 4,
 "nbformat_minor": 2
}
