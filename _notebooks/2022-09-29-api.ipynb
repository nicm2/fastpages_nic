{
 "cells": [
  {
   "cell_type": "markdown",
   "metadata": {},
   "source": [
    "# Rapid API Java\n",
    "> Jupyter Notebook on using Rapid API to display data in JAVA\n",
    "\n",
    "- toc: true\n",
    "- badges: true\n",
    "- comments: true\n",
    "- categories: [fastpages]"
   ]
  },
  {
   "cell_type": "code",
   "execution_count": 1,
   "metadata": {
    "vscode": {
     "languageId": "java"
    }
   },
   "outputs": [
    {
     "name": "stdout",
     "output_type": "stream",
     "text": [
      "{\"_embedded\":{\"teamRushingStatsList\":[{\"name\":\"Chiefs\",\"yards\":1557,\"touchdowns\":10,\"_links\":{\"rushing-stats\":{\"href\":\"http://nflteamstatsapi-env.eba-ri96jifs.us-east-1.elasticbeanstalk.com/v1/nfl-stats/teams/rushing-stats/defense/1999\"}}},{\"name\":\"Bills\",\"yards\":1370,\"touchdowns\":9,\"_links\":{\"rushing-stats\":{\"href\":\"http://nflteamstatsapi-env.eba-ri96jifs.us-east-1.elasticbeanstalk.com/v1/nfl-stats/teams/rushing-stats/defense/1999\"}}},{\"name\":\"Jaguars\",\"yards\":1444,\"touchdowns\":6,\"_links\":{\"rushing-stats\":{\"href\":\"http://nflteamstatsapi-env.eba-ri96jifs.us-east-1.elasticbeanstalk.com/v1/nfl-stats/teams/rushing-stats/defense/1999\"}}},{\"name\":\"Buccaneers\",\"yards\":1407,\"touchdowns\":8,\"_links\":{\"rushing-stats\":{\"href\":\"http://nflteamstatsapi-env.eba-ri96jifs.us-east-1.elasticbeanstalk.com/v1/nfl-stats/teams/rushing-stats/defense/1999\"}}},{\"name\":\"Steelers\",\"yards\":1958,\"touchdowns\":10,\"_links\":{\"rushing-stats\":{\"href\":\"http://nflteamstatsapi-env.eba-ri96jifs.us-east-1.elasticbeanstalk.com/v1/nfl-stats/teams/rushing-stats/defense/1999\"}}},{\"name\":\"Cowboys\",\"yards\":1442,\"touchdowns\":6,\"_links\":{\"rushing-stats\":{\"href\":\"http://nflteamstatsapi-env.eba-ri96jifs.us-east-1.elasticbeanstalk.com/v1/nfl-stats/teams/rushing-stats/defense/1999\"}}},{\"name\":\"Raiders\",\"yards\":1559,\"touchdowns\":10,\"_links\":{\"rushing-stats\":{\"href\":\"http://nflteamstatsapi-env.eba-ri96jifs.us-east-1.elasticbeanstalk.com/v1/nfl-stats/teams/rushing-stats/defense/1999\"}}},{\"name\":\"Jets\",\"yards\":1703,\"touchdowns\":16,\"_links\":{\"rushing-stats\":{\"href\":\"http://nflteamstatsapi-env.eba-ri96jifs.us-east-1.elasticbeanstalk.com/v1/nfl-stats/teams/rushing-stats/defense/1999\"}}},{\"name\":\"Broncos\",\"yards\":1737,\"touchdowns\":15,\"_links\":{\"rushing-stats\":{\"href\":\"http://nflteamstatsapi-env.eba-ri96jifs.us-east-1.elasticbeanstalk.com/v1/nfl-stats/teams/rushing-stats/defense/1999\"}}},{\"name\":\"Redskins\",\"yards\":1973,\"touchdowns\":16,\"_links\":{\"rushing-stats\":{\"href\":\"http://nflteamstatsapi-env.eba-ri96jifs.us-east-1.elasticbeanstalk.com/v1/nfl-stats/teams/rushing-stats/defense/1999\"}}},{\"name\":\"Saints\",\"yards\":1774,\"touchdowns\":15,\"_links\":{\"rushing-stats\":{\"href\":\"http://nflteamstatsapi-env.eba-ri96jifs.us-east-1.elasticbeanstalk.com/v1/nfl-stats/teams/rushing-stats/defense/1999\"}}},{\"name\":\"Titans\",\"yards\":1550,\"touchdowns\":8,\"_links\":{\"rushing-stats\":{\"href\":\"http://nflteamstatsapi-env.eba-ri96jifs.us-east-1.elasticbeanstalk.com/v1/nfl-stats/teams/rushing-stats/defense/1999\"}}},{\"name\":\"Dolphins\",\"yards\":1476,\"touchdowns\":6,\"_links\":{\"rushing-stats\":{\"href\":\"http://nflteamstatsapi-env.eba-ri96jifs.us-east-1.elasticbeanstalk.com/v1/nfl-stats/teams/rushing-stats/defense/1999\"}}},{\"name\":\"Bengals\",\"yards\":1699,\"touchdowns\":22,\"_links\":{\"rushing-stats\":{\"href\":\"http://nflteamstatsapi-env.eba-ri96jifs.us-east-1.elasticbeanstalk.com/v1/nfl-stats/teams/rushing-stats/defense/1999\"}}},{\"name\":\"Ravens\",\"yards\":1231,\"touchdowns\":6,\"_links\":{\"rushing-stats\":{\"href\":\"http://nflteamstatsapi-env.eba-ri96jifs.us-east-1.elasticbeanstalk.com/v1/nfl-stats/teams/rushing-stats/defense/1999\"}}},{\"name\":\"Rams\",\"yards\":1189,\"touchdowns\":4,\"_links\":{\"rushing-stats\":{\"href\":\"http://nflteamstatsapi-env.eba-ri96jifs.us-east-1.elasticbeanstalk.com/v1/nfl-stats/teams/rushing-stats/defense/1999\"}}},{\"name\":\"Giants\",\"yards\":1560,\"touchdowns\":13,\"_links\":{\"rushing-stats\":{\"href\":\"http://nflteamstatsapi-env.eba-ri96jifs.us-east-1.elasticbeanstalk.com/v1/nfl-stats/teams/rushing-stats/defense/1999\"}}},{\"name\":\"Patriots\",\"yards\":1795,\"touchdowns\":6,\"_links\":{\"rushing-stats\":{\"href\":\"http://nflteamstatsapi-env.eba-ri96jifs.us-east-1.elasticbeanstalk.com/v1/nfl-stats/teams/rushing-stats/defense/1999\"}}},{\"name\":\"Eagles\",\"yards\":2001,\"touchdowns\":12,\"_links\":{\"rushing-stats\":{\"href\":\"http://nflteamstatsapi-env.eba-ri96jifs.us-east-1.elasticbeanstalk.com/v1/nfl-stats/teams/rushing-stats/defense/1999\"}}},{\"name\":\"Vikings\",\"yards\":1617,\"touchdowns\":9,\"_links\":{\"rushing-stats\":{\"href\":\"http://nflteamstatsapi-env.eba-ri96jifs.us-east-1.elasticbeanstalk.com/v1/nfl-stats/teams/rushing-stats/defense/1999\"}}},{\"name\":\"Colts\",\"yards\":1715,\"touchdowns\":12,\"_links\":{\"rushing-stats\":{\"href\":\"http://nflteamstatsapi-env.eba-ri96jifs.us-east-1.elasticbeanstalk.com/v1/nfl-stats/teams/rushing-stats/defense/1999\"}}},{\"name\":\"49ers\",\"yards\":1619,\"touchdowns\":11,\"_links\":{\"rushing-stats\":{\"href\":\"http://nflteamstatsapi-env.eba-ri96jifs.us-east-1.elasticbeanstalk.com/v1/nfl-stats/teams/rushing-stats/defense/1999\"}}},{\"name\":\"Chargers\",\"yards\":1321,\"touchdowns\":8,\"_links\":{\"rushing-stats\":{\"href\":\"http://nflteamstatsapi-env.eba-ri96jifs.us-east-1.elasticbeanstalk.com/v1/nfl-stats/teams/rushing-stats/defense/1999\"}}},{\"name\":\"Seahawks\",\"yards\":1934,\"touchdowns\":9,\"_links\":{\"rushing-stats\":{\"href\":\"http://nflteamstatsapi-env.eba-ri96jifs.us-east-1.elasticbeanstalk.com/v1/nfl-stats/teams/rushing-stats/defense/1999\"}}},{\"name\":\"Bears\",\"yards\":1882,\"touchdowns\":11,\"_links\":{\"rushing-stats\":{\"href\":\"http://nflteamstatsapi-env.eba-ri96jifs.us-east-1.elasticbeanstalk.com/v1/nfl-stats/teams/rushing-stats/defense/1999\"}}},{\"name\":\"Cardinals\",\"yards\":2265,\"touchdowns\":17,\"_links\":{\"rushing-stats\":{\"href\":\"http://nflteamstatsapi-env.eba-ri96jifs.us-east-1.elasticbeanstalk.com/v1/nfl-stats/teams/rushing-stats/defense/1999\"}}},{\"name\":\"Packers\",\"yards\":1804,\"touchdowns\":16,\"_links\":{\"rushing-stats\":{\"href\":\"http://nflteamstatsapi-env.eba-ri96jifs.us-east-1.elasticbeanstalk.com/v1/nfl-stats/teams/rushing-stats/defense/1999\"}}},{\"name\":\"Falcons\",\"yards\":2072,\"touchdowns\":18,\"_links\":{\"rushing-stats\":{\"href\":\"http://nflteamstatsapi-env.eba-ri96jifs.us-east-1.elasticbeanstalk.com/v1/nfl-stats/teams/rushing-stats/defense/1999\"}}},{\"name\":\"Panthers\",\"yards\":1898,\"touchdowns\":13,\"_links\":{\"rushing-stats\":{\"href\":\"http://nflteamstatsapi-env.eba-ri96jifs.us-east-1.elasticbeanstalk.com/v1/nfl-stats/teams/rushing-stats/defense/1999\"}}},{\"name\":\"Lions\",\"yards\":1531,\"touchdowns\":12,\"_links\":{\"rushing-stats\":{\"href\":\"http://nflteamstatsapi-env.eba-ri96jifs.us-east-1.elasticbeanstalk.com/v1/nfl-stats/teams/rushing-stats/defense/1999\"}}},{\"name\":\"Browns\",\"yards\":2736,\"touchdowns\":29,\"_links\":{\"rushing-stats\":{\"href\":\"http://nflteamstatsapi-env.eba-ri96jifs.us-east-1.elasticbeanstalk.com/v1/nfl-stats/teams/rushing-stats/defense/1999\"}}}]},\"_links\":{\"self\":{\"href\":\"http://nflteamstatsapi-env.eba-ri96jifs.us-east-1.elasticbeanstalk.com/v1/nfl-stats/teams/rushing-stats/defense/1999\"}}}\n"
     ]
    }
   ],
   "source": [
    "import java.net.URI;\n",
    "import java.net.http.HttpClient;\n",
    "import java.net.http.HttpRequest;\n",
    "import java.net.http.HttpResponse;\n",
    "\n",
    "HttpRequest request = HttpRequest.newBuilder()\n",
    "\t\t.uri(URI.create(\"https://nfl-team-stats.p.rapidapi.com/v1/nfl-stats/teams/rushing-stats/defense/1999\"))\n",
    "\t\t.header(\"X-RapidAPI-Key\", \"ec6e646230mshf820e393587eb36p16c0b2jsn78339512865b\")\n",
    "\t\t.header(\"X-RapidAPI-Host\", \"nfl-team-stats.p.rapidapi.com\")\n",
    "\t\t.method(\"GET\", HttpRequest.BodyPublishers.noBody())\n",
    "\t\t.build();\n",
    "HttpResponse<String> response = HttpClient.newHttpClient().send(request, HttpResponse.BodyHandlers.ofString());\n",
    "System.out.println(response.body());\n"
   ]
  },
  {
   "cell_type": "code",
   "execution_count": null,
   "metadata": {
    "vscode": {
     "languageId": "java"
    }
   },
   "outputs": [],
   "source": [
    "import java.net.URI;\n",
    "import java.net.http.HttpClient;\n",
    "import java.net.http.HttpRequest;\n",
    "import java.net.http.HttpResponse;\n",
    "\n",
    "HttpRequest request = HttpRequest.newBuilder()\n",
    "\t\t.uri(URI.create(\"https://nfl-team-stats.p.rapidapi.com/v1/nfl-stats/teams/receiving-stats/offense/2019\"))\n",
    "\t\t.header(\"X-RapidAPI-Key\", \"ec6e646230mshf820e393587eb36p16c0b2jsn78339512865b\")\n",
    "\t\t.header(\"X-RapidAPI-Host\", \"nfl-team-stats.p.rapidapi.com\")\n",
    "\t\t.method(\"GET\", HttpRequest.BodyPublishers.noBody())\n",
    "\t\t.build();\n",
    "HttpResponse<String> response = HttpClient.newHttpClient().send(request, HttpResponse.BodyHandlers.ofString());\n",
    "System.out.println(response.body());"
   ]
  },
  {
   "cell_type": "code",
   "execution_count": null,
   "metadata": {
    "vscode": {
     "languageId": "java"
    }
   },
   "outputs": [],
   "source": [
    "import java.net.URI;\n",
    "import java.net.http.HttpClient;\n",
    "import java.net.http.HttpRequest;\n",
    "import java.net.http.HttpResponse;\n",
    "\n",
    "HttpRequest request = HttpRequest.newBuilder()\n",
    "\t\t.uri(URI.create(\"https://nfl-team-stats.p.rapidapi.com/v1/nfl-stats/teams/rushing-stats/defense/1999\"))\n",
    "\t\t.header(\"X-RapidAPI-Key\", \"ec6e646230mshf820e393587eb36p16c0b2jsn78339512865b\")\n",
    "\t\t.header(\"X-RapidAPI-Host\", \"nfl-team-stats.p.rapidapi.com\")\n",
    "\t\t.method(\"GET\", HttpRequest.BodyPublishers.noBody())\n",
    "\t\t.build();\n",
    "HttpResponse<String> response = HttpClient.newHttpClient().send(request, HttpResponse.BodyHandlers.ofString());\n",
    "System.out.println(response.body());"
   ]
  }
 ],
 "metadata": {
  "kernelspec": {
   "display_name": "Java",
   "language": "java",
   "name": "java"
  },
  "language_info": {
   "codemirror_mode": "java",
   "file_extension": ".jshell",
   "mimetype": "text/x-java-source",
   "name": "Java",
   "pygments_lexer": "java",
   "version": "11.0.16+8-post-Ubuntu-0ubuntu120.04"
  },
  "orig_nbformat": 4,
  "vscode": {
   "interpreter": {
    "hash": "916dbcbb3f70747c44a77c7bcd40155683ae19c65e1c03b4aa3499c5328201f1"
   }
  }
 },
 "nbformat": 4,
 "nbformat_minor": 2
}
