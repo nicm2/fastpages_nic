{
 "cells": [
  {
   "cell_type": "markdown",
   "metadata": {},
   "source": [
    "# Rapid API Java\n",
    "> Jupyter Notebook on using Rapid API to display data in JAVA\n",
    "\n",
    "- toc: true\n",
    "- badges: true\n",
    "- comments: true\n",
    "- categories: [fastpages]"
   ]
  },
  {
   "cell_type": "markdown",
   "metadata": {},
   "source": [
    "## Fetch and Backend Java Rapid API"
   ]
  },
  {
   "cell_type": "markdown",
   "metadata": {},
   "source": [
    "### API Raw Output\n",
    "\n",
    "Uses and NFL Statistics API on rapidapi.com to output data on rushing-stats for each team including touchdowns and yards. Uses fetch to ouput the raw JSON data."
   ]
  },
  {
   "cell_type": "code",
   "execution_count": 4,
   "metadata": {},
   "outputs": [
    {
     "name": "stdout",
     "output_type": "stream",
     "text": [
      "{\"_embedded\":{\"teamRushingStatsList\":[{\"name\":\"Ravens\",\"yards\":1494,\"touchdowns\":12,\"_links\":{\"rushing-stats\":{\"href\":\"http://nflteamstatsapi-env.eba-ri96jifs.us-east-1.elasticbeanstalk.com/v1/nfl-stats/teams/rushing-stats/defense/2019\"}}},{\"name\":\"49ers\",\"yards\":1802,\"touchdowns\":11,\"_links\":{\"rushing-stats\":{\"href\":\"http://nflteamstatsapi-env.eba-ri96jifs.us-east-1.elasticbeanstalk.com/v1/nfl-stats/teams/rushing-stats/defense/2019\"}}},{\"name\":\"Seahawks\",\"yards\":1883,\"touchdowns\":22,\"_links\":{\"rushing-stats\":{\"href\":\"http://nflteamstatsapi-env.eba-ri96jifs.us-east-1.elasticbeanstalk.com/v1/nfl-stats/teams/rushing-stats/defense/2019\"}}},{\"name\":\"Vikings\",\"yards\":1728,\"touchdowns\":8,\"_links\":{\"rushing-stats\":{\"href\":\"http://nflteamstatsapi-env.eba-ri96jifs.us-east-1.elasticbeanstalk.com/v1/nfl-stats/teams/rushing-stats/defense/2019\"}}},{\"name\":\"Colts\",\"yards\":1567,\"touchdowns\":8,\"_links\":{\"rushing-stats\":{\"href\":\"http://nflteamstatsapi-env.eba-ri96jifs.us-east-1.elasticbeanstalk.com/v1/nfl-stats/teams/rushing-stats/defense/2019\"}}},{\"name\":\"Bills\",\"yards\":1649,\"touchdowns\":12,\"_links\":{\"rushing-stats\":{\"href\":\"http://nflteamstatsapi-env.eba-ri96jifs.us-east-1.elasticbeanstalk.com/v1/nfl-stats/teams/rushing-stats/defense/2019\"}}},{\"name\":\"Eagles\",\"yards\":1442,\"touchdowns\":13,\"_links\":{\"rushing-stats\":{\"href\":\"http://nflteamstatsapi-env.eba-ri96jifs.us-east-1.elasticbeanstalk.com/v1/nfl-stats/teams/rushing-stats/defense/2019\"}}},{\"name\":\"Cowboys\",\"yards\":1656,\"touchdowns\":14,\"_links\":{\"rushing-stats\":{\"href\":\"http://nflteamstatsapi-env.eba-ri96jifs.us-east-1.elasticbeanstalk.com/v1/nfl-stats/teams/rushing-stats/defense/2019\"}}},{\"name\":\"Patriots\",\"yards\":1528,\"touchdowns\":7,\"_links\":{\"rushing-stats\":{\"href\":\"http://nflteamstatsapi-env.eba-ri96jifs.us-east-1.elasticbeanstalk.com/v1/nfl-stats/teams/rushing-stats/defense/2019\"}}},{\"name\":\"Titans\",\"yards\":1672,\"touchdowns\":14,\"_links\":{\"rushing-stats\":{\"href\":\"http://nflteamstatsapi-env.eba-ri96jifs.us-east-1.elasticbeanstalk.com/v1/nfl-stats/teams/rushing-stats/defense/2019\"}}},{\"name\":\"Raiders\",\"yards\":1570,\"touchdowns\":15,\"_links\":{\"rushing-stats\":{\"href\":\"http://nflteamstatsapi-env.eba-ri96jifs.us-east-1.elasticbeanstalk.com/v1/nfl-stats/teams/rushing-stats/defense/2019\"}}},{\"name\":\"Texans\",\"yards\":1937,\"touchdowns\":12,\"_links\":{\"rushing-stats\":{\"href\":\"http://nflteamstatsapi-env.eba-ri96jifs.us-east-1.elasticbeanstalk.com/v1/nfl-stats/teams/rushing-stats/defense/2019\"}}},{\"name\":\"Packers\",\"yards\":1921,\"touchdowns\":15,\"_links\":{\"rushing-stats\":{\"href\":\"http://nflteamstatsapi-env.eba-ri96jifs.us-east-1.elasticbeanstalk.com/v1/nfl-stats/teams/rushing-stats/defense/2019\"}}},{\"name\":\"Broncos\",\"yards\":1783,\"touchdowns\":9,\"_links\":{\"rushing-stats\":{\"href\":\"http://nflteamstatsapi-env.eba-ri96jifs.us-east-1.elasticbeanstalk.com/v1/nfl-stats/teams/rushing-stats/defense/2019\"}}},{\"name\":\"Buccaneers\",\"yards\":1181,\"touchdowns\":11,\"_links\":{\"rushing-stats\":{\"href\":\"http://nflteamstatsapi-env.eba-ri96jifs.us-east-1.elasticbeanstalk.com/v1/nfl-stats/teams/rushing-stats/defense/2019\"}}},{\"name\":\"Lions\",\"yards\":1855,\"touchdowns\":13,\"_links\":{\"rushing-stats\":{\"href\":\"http://nflteamstatsapi-env.eba-ri96jifs.us-east-1.elasticbeanstalk.com/v1/nfl-stats/teams/rushing-stats/defense/2019\"}}},{\"name\":\"Saints\",\"yards\":1461,\"touchdowns\":12,\"_links\":{\"rushing-stats\":{\"href\":\"http://nflteamstatsapi-env.eba-ri96jifs.us-east-1.elasticbeanstalk.com/v1/nfl-stats/teams/rushing-stats/defense/2019\"}}},{\"name\":\"Rams\",\"yards\":1809,\"touchdowns\":15,\"_links\":{\"rushing-stats\":{\"href\":\"http://nflteamstatsapi-env.eba-ri96jifs.us-east-1.elasticbeanstalk.com/v1/nfl-stats/teams/rushing-stats/defense/2019\"}}},{\"name\":\"Cardinals\",\"yards\":1922,\"touchdowns\":9,\"_links\":{\"rushing-stats\":{\"href\":\"http://nflteamstatsapi-env.eba-ri96jifs.us-east-1.elasticbeanstalk.com/v1/nfl-stats/teams/rushing-stats/defense/2019\"}}},{\"name\":\"Bears\",\"yards\":1632,\"touchdowns\":16,\"_links\":{\"rushing-stats\":{\"href\":\"http://nflteamstatsapi-env.eba-ri96jifs.us-east-1.elasticbeanstalk.com/v1/nfl-stats/teams/rushing-stats/defense/2019\"}}},{\"name\":\"Steelers\",\"yards\":1753,\"touchdowns\":7,\"_links\":{\"rushing-stats\":{\"href\":\"http://nflteamstatsapi-env.eba-ri96jifs.us-east-1.elasticbeanstalk.com/v1/nfl-stats/teams/rushing-stats/defense/2019\"}}},{\"name\":\"Browns\",\"yards\":2315,\"touchdowns\":19,\"_links\":{\"rushing-stats\":{\"href\":\"http://nflteamstatsapi-env.eba-ri96jifs.us-east-1.elasticbeanstalk.com/v1/nfl-stats/teams/rushing-stats/defense/2019\"}}},{\"name\":\"Jaguars\",\"yards\":2229,\"touchdowns\":23,\"_links\":{\"rushing-stats\":{\"href\":\"http://nflteamstatsapi-env.eba-ri96jifs.us-east-1.elasticbeanstalk.com/v1/nfl-stats/teams/rushing-stats/defense/2019\"}}},{\"name\":\"Panthers\",\"yards\":2296,\"touchdowns\":31,\"_links\":{\"rushing-stats\":{\"href\":\"http://nflteamstatsapi-env.eba-ri96jifs.us-east-1.elasticbeanstalk.com/v1/nfl-stats/teams/rushing-stats/defense/2019\"}}},{\"name\":\"Bengals\",\"yards\":2382,\"touchdowns\":17,\"_links\":{\"rushing-stats\":{\"href\":\"http://nflteamstatsapi-env.eba-ri96jifs.us-east-1.elasticbeanstalk.com/v1/nfl-stats/teams/rushing-stats/defense/2019\"}}},{\"name\":\"Jets\",\"yards\":1391,\"touchdowns\":12,\"_links\":{\"rushing-stats\":{\"href\":\"http://nflteamstatsapi-env.eba-ri96jifs.us-east-1.elasticbeanstalk.com/v1/nfl-stats/teams/rushing-stats/defense/2019\"}}},{\"name\":\"Chiefs\",\"yards\":2051,\"touchdowns\":14,\"_links\":{\"rushing-stats\":{\"href\":\"http://nflteamstatsapi-env.eba-ri96jifs.us-east-1.elasticbeanstalk.com/v1/nfl-stats/teams/rushing-stats/defense/2019\"}}},{\"name\":\"Chargers\",\"yards\":1805,\"touchdowns\":15,\"_links\":{\"rushing-stats\":{\"href\":\"http://nflteamstatsapi-env.eba-ri96jifs.us-east-1.elasticbeanstalk.com/v1/nfl-stats/teams/rushing-stats/defense/2019\"}}},{\"name\":\"Falcons\",\"yards\":1775,\"touchdowns\":13,\"_links\":{\"rushing-stats\":{\"href\":\"http://nflteamstatsapi-env.eba-ri96jifs.us-east-1.elasticbeanstalk.com/v1/nfl-stats/teams/rushing-stats/defense/2019\"}}},{\"name\":\"Giants\",\"yards\":1812,\"touchdowns\":19,\"_links\":{\"rushing-stats\":{\"href\":\"http://nflteamstatsapi-env.eba-ri96jifs.us-east-1.elasticbeanstalk.com/v1/nfl-stats/teams/rushing-stats/defense/2019\"}}},{\"name\":\"Redskins\",\"yards\":2339,\"touchdowns\":14,\"_links\":{\"rushing-stats\":{\"href\":\"http://nflteamstatsapi-env.eba-ri96jifs.us-east-1.elasticbeanstalk.com/v1/nfl-stats/teams/rushing-stats/defense/2019\"}}},{\"name\":\"Dolphins\",\"yards\":2166,\"touchdowns\":15,\"_links\":{\"rushing-stats\":{\"href\":\"http://nflteamstatsapi-env.eba-ri96jifs.us-east-1.elasticbeanstalk.com/v1/nfl-stats/teams/rushing-stats/defense/2019\"}}}]},\"_links\":{\"self\":{\"href\":\"http://nflteamstatsapi-env.eba-ri96jifs.us-east-1.elasticbeanstalk.com/v1/nfl-stats/teams/rushing-stats/defense/2019\"}}}\n"
     ]
    }
   ],
   "source": [
    "import java.net.URI;\n",
    "import java.net.http.HttpClient;\n",
    "import java.net.http.HttpRequest;\n",
    "import java.net.http.HttpResponse;\n",
    "\n",
    "HttpRequest request = HttpRequest.newBuilder()\n",
    "\t\t.uri(URI.create(\"https://nfl-team-stats.p.rapidapi.com/v1/nfl-stats/teams/rushing-stats/defense/2019\"))\n",
    "\t\t.header(\"X-RapidAPI-Key\", \"ec6e646230mshf820e393587eb36p16c0b2jsn78339512865b\")\n",
    "\t\t.header(\"X-RapidAPI-Host\", \"nfl-team-stats.p.rapidapi.com\")\n",
    "\t\t.method(\"GET\", HttpRequest.BodyPublishers.noBody())\n",
    "\t\t.build();\n",
    "HttpResponse<String> response = HttpClient.newHttpClient().send(request, HttpResponse.BodyHandlers.ofString());\n",
    "System.out.println(response.body());\n"
   ]
  },
  {
   "cell_type": "markdown",
   "metadata": {},
   "source": [
    "### Build a Web Service\n",
    "\n",
    "This code allows more control in the Backend of the API only calling it once a day. Outputs the raw JSON data for the receiving-stats of all NFL teams including touchdowns and yards."
   ]
  },
  {
   "cell_type": "code",
   "execution_count": 5,
   "metadata": {},
   "outputs": [
    {
     "name": "stdout",
     "output_type": "stream",
     "text": [
      "{\"_embedded\":{\"teamReceivingStatsList\":[{\"name\":\"Falcons\",\"receives\":459,\"touchdowns\":29,\"yards\":5049,\"_links\":{\"receiving-stats\":{\"href\":\"http://nflteamstatsapi-env.eba-ri96jifs.us-east-1.elasticbeanstalk.com/v1/nfl-stats/teams/passing-stats/offense/2019\"}}},{\"name\":\"Saints\",\"receives\":418,\"touchdowns\":36,\"yards\":4431,\"_links\":{\"receiving-stats\":{\"href\":\"http://nflteamstatsapi-env.eba-ri96jifs.us-east-1.elasticbeanstalk.com/v1/nfl-stats/teams/passing-stats/offense/2019\"}}},{\"name\":\"Rams\",\"receives\":397,\"touchdowns\":22,\"yards\":4669,\"_links\":{\"receiving-stats\":{\"href\":\"http://nflteamstatsapi-env.eba-ri96jifs.us-east-1.elasticbeanstalk.com/v1/nfl-stats/teams/passing-stats/offense/2019\"}}},{\"name\":\"Chargers\",\"receives\":394,\"touchdowns\":24,\"yards\":4648,\"_links\":{\"receiving-stats\":{\"href\":\"http://nflteamstatsapi-env.eba-ri96jifs.us-east-1.elasticbeanstalk.com/v1/nfl-stats/teams/passing-stats/offense/2019\"}}},{\"name\":\"Eagles\",\"receives\":391,\"touchdowns\":27,\"yards\":4063,\"_links\":{\"receiving-stats\":{\"href\":\"http://nflteamstatsapi-env.eba-ri96jifs.us-east-1.elasticbeanstalk.com/v1/nfl-stats/teams/passing-stats/offense/2019\"}}},{\"name\":\"Cowboys\",\"receives\":388,\"touchdowns\":30,\"yards\":4902,\"_links\":{\"receiving-stats\":{\"href\":\"http://nflteamstatsapi-env.eba-ri96jifs.us-east-1.elasticbeanstalk.com/v1/nfl-stats/teams/passing-stats/offense/2019\"}}},{\"name\":\"Panthers\",\"receives\":382,\"touchdowns\":17,\"yards\":4134,\"_links\":{\"receiving-stats\":{\"href\":\"http://nflteamstatsapi-env.eba-ri96jifs.us-east-1.elasticbeanstalk.com/v1/nfl-stats/teams/passing-stats/offense/2019\"}}},{\"name\":\"Buccaneers\",\"receives\":382,\"touchdowns\":33,\"yards\":5127,\"_links\":{\"receiving-stats\":{\"href\":\"http://nflteamstatsapi-env.eba-ri96jifs.us-east-1.elasticbeanstalk.com/v1/nfl-stats/teams/passing-stats/offense/2019\"}}},{\"name\":\"Chiefs\",\"receives\":378,\"touchdowns\":30,\"yards\":4690,\"_links\":{\"receiving-stats\":{\"href\":\"http://nflteamstatsapi-env.eba-ri96jifs.us-east-1.elasticbeanstalk.com/v1/nfl-stats/teams/passing-stats/offense/2019\"}}},{\"name\":\"Patriots\",\"receives\":378,\"touchdowns\":25,\"yards\":4153,\"_links\":{\"receiving-stats\":{\"href\":\"http://nflteamstatsapi-env.eba-ri96jifs.us-east-1.elasticbeanstalk.com/v1/nfl-stats/teams/passing-stats/offense/2019\"}}},{\"name\":\"Giants\",\"receives\":376,\"touchdowns\":30,\"yards\":4070,\"_links\":{\"receiving-stats\":{\"href\":\"http://nflteamstatsapi-env.eba-ri96jifs.us-east-1.elasticbeanstalk.com/v1/nfl-stats/teams/passing-stats/offense/2019\"}}},{\"name\":\"Bears\",\"receives\":371,\"touchdowns\":20,\"yards\":3573,\"_links\":{\"receiving-stats\":{\"href\":\"http://nflteamstatsapi-env.eba-ri96jifs.us-east-1.elasticbeanstalk.com/v1/nfl-stats/teams/passing-stats/offense/2019\"}}},{\"name\":\"Dolphins\",\"receives\":371,\"touchdowns\":22,\"yards\":4117,\"_links\":{\"receiving-stats\":{\"href\":\"http://nflteamstatsapi-env.eba-ri96jifs.us-east-1.elasticbeanstalk.com/v1/nfl-stats/teams/passing-stats/offense/2019\"}}},{\"name\":\"Raiders\",\"receives\":367,\"touchdowns\":22,\"yards\":4110,\"_links\":{\"receiving-stats\":{\"href\":\"http://nflteamstatsapi-env.eba-ri96jifs.us-east-1.elasticbeanstalk.com/v1/nfl-stats/teams/passing-stats/offense/2019\"}}},{\"name\":\"Jaguars\",\"receives\":364,\"touchdowns\":24,\"yards\":4023,\"_links\":{\"receiving-stats\":{\"href\":\"http://nflteamstatsapi-env.eba-ri96jifs.us-east-1.elasticbeanstalk.com/v1/nfl-stats/teams/passing-stats/offense/2019\"}}},{\"name\":\"Bengals\",\"receives\":356,\"touchdowns\":18,\"yards\":3994,\"_links\":{\"receiving-stats\":{\"href\":\"http://nflteamstatsapi-env.eba-ri96jifs.us-east-1.elasticbeanstalk.com/v1/nfl-stats/teams/passing-stats/offense/2019\"}}},{\"name\":\"Packers\",\"receives\":356,\"touchdowns\":26,\"yards\":4017,\"_links\":{\"receiving-stats\":{\"href\":\"http://nflteamstatsapi-env.eba-ri96jifs.us-east-1.elasticbeanstalk.com/v1/nfl-stats/teams/passing-stats/offense/2019\"}}},{\"name\":\"Texans\",\"receives\":355,\"touchdowns\":27,\"yards\":4083,\"_links\":{\"receiving-stats\":{\"href\":\"http://nflteamstatsapi-env.eba-ri96jifs.us-east-1.elasticbeanstalk.com/v1/nfl-stats/teams/passing-stats/offense/2019\"}}},{\"name\":\"Cardinals\",\"receives\":355,\"touchdowns\":20,\"yards\":3797,\"_links\":{\"receiving-stats\":{\"href\":\"http://nflteamstatsapi-env.eba-ri96jifs.us-east-1.elasticbeanstalk.com/v1/nfl-stats/teams/passing-stats/offense/2019\"}}},{\"name\":\"Lions\",\"receives\":344,\"touchdowns\":28,\"yards\":4187,\"_links\":{\"receiving-stats\":{\"href\":\"http://nflteamstatsapi-env.eba-ri96jifs.us-east-1.elasticbeanstalk.com/v1/nfl-stats/teams/passing-stats/offense/2019\"}}},{\"name\":\"Seahawks\",\"receives\":341,\"touchdowns\":31,\"yards\":4110,\"_links\":{\"receiving-stats\":{\"href\":\"http://nflteamstatsapi-env.eba-ri96jifs.us-east-1.elasticbeanstalk.com/v1/nfl-stats/teams/passing-stats/offense/2019\"}}},{\"name\":\"49ers\",\"receives\":331,\"touchdowns\":28,\"yards\":4029,\"_links\":{\"receiving-stats\":{\"href\":\"http://nflteamstatsapi-env.eba-ri96jifs.us-east-1.elasticbeanstalk.com/v1/nfl-stats/teams/passing-stats/offense/2019\"}}},{\"name\":\"Jets\",\"receives\":323,\"touchdowns\":19,\"yards\":3443,\"_links\":{\"receiving-stats\":{\"href\":\"http://nflteamstatsapi-env.eba-ri96jifs.us-east-1.elasticbeanstalk.com/v1/nfl-stats/teams/passing-stats/offense/2019\"}}},{\"name\":\"Vikings\",\"receives\":319,\"touchdowns\":26,\"yards\":3729,\"_links\":{\"receiving-stats\":{\"href\":\"http://nflteamstatsapi-env.eba-ri96jifs.us-east-1.elasticbeanstalk.com/v1/nfl-stats/teams/passing-stats/offense/2019\"}}},{\"name\":\"Browns\",\"receives\":318,\"touchdowns\":22,\"yards\":3847,\"_links\":{\"receiving-stats\":{\"href\":\"http://nflteamstatsapi-env.eba-ri96jifs.us-east-1.elasticbeanstalk.com/v1/nfl-stats/teams/passing-stats/offense/2019\"}}},{\"name\":\"Steelers\",\"receives\":315,\"touchdowns\":18,\"yards\":3214,\"_links\":{\"receiving-stats\":{\"href\":\"http://nflteamstatsapi-env.eba-ri96jifs.us-east-1.elasticbeanstalk.com/v1/nfl-stats/teams/passing-stats/offense/2019\"}}},{\"name\":\"Broncos\",\"receives\":312,\"touchdowns\":16,\"yards\":3401,\"_links\":{\"receiving-stats\":{\"href\":\"http://nflteamstatsapi-env.eba-ri96jifs.us-east-1.elasticbeanstalk.com/v1/nfl-stats/teams/passing-stats/offense/2019\"}}},{\"name\":\"Colts\",\"receives\":307,\"touchdowns\":22,\"yards\":3314,\"_links\":{\"receiving-stats\":{\"href\":\"http://nflteamstatsapi-env.eba-ri96jifs.us-east-1.elasticbeanstalk.com/v1/nfl-stats/teams/passing-stats/offense/2019\"}}},{\"name\":\"Bills\",\"receives\":299,\"touchdowns\":21,\"yards\":3476,\"_links\":{\"receiving-stats\":{\"href\":\"http://nflteamstatsapi-env.eba-ri96jifs.us-east-1.elasticbeanstalk.com/v1/nfl-stats/teams/passing-stats/offense/2019\"}}},{\"name\":\"Redskins\",\"receives\":298,\"touchdowns\":18,\"yards\":3205,\"_links\":{\"receiving-stats\":{\"href\":\"http://nflteamstatsapi-env.eba-ri96jifs.us-east-1.elasticbeanstalk.com/v1/nfl-stats/teams/passing-stats/offense/2019\"}}},{\"name\":\"Titans\",\"receives\":297,\"touchdowns\":29,\"yards\":3956,\"_links\":{\"receiving-stats\":{\"href\":\"http://nflteamstatsapi-env.eba-ri96jifs.us-east-1.elasticbeanstalk.com/v1/nfl-stats/teams/passing-stats/offense/2019\"}}},{\"name\":\"Ravens\",\"receives\":289,\"touchdowns\":37,\"yards\":3350,\"_links\":{\"receiving-stats\":{\"href\":\"http://nflteamstatsapi-env.eba-ri96jifs.us-east-1.elasticbeanstalk.com/v1/nfl-stats/teams/passing-stats/offense/2019\"}}}]},\"_links\":{\"self\":{\"href\":\"http://nflteamstatsapi-env.eba-ri96jifs.us-east-1.elasticbeanstalk.com/v1/nfl-stats/teams/receiving-stats/offense/2019\"}}}\n"
     ]
    },
    {
     "ename": "CompilationException",
     "evalue": "",
     "output_type": "error",
     "traceback": [
      "\u001b[1m\u001b[30m|   \u001b[1m\u001b[30mimport \u001b[0m\u001b[1m\u001b[30m\u001b[41morg.json.simple.JSONObject\u001b[0m\u001b[1m\u001b[30m;\u001b[0m",
      "\u001b[1m\u001b[31mpackage org.json.simple does not exist\u001b[0m",
      ""
     ]
    }
   ],
   "source": [
    "import java.net.URI;\n",
    "import java.net.http.HttpClient;\n",
    "import java.net.http.HttpRequest;\n",
    "import java.net.http.HttpResponse;\n",
    "\n",
    "HttpRequest request = HttpRequest.newBuilder()\n",
    "\t\t.uri(URI.create(\"https://nfl-team-stats.p.rapidapi.com/v1/nfl-stats/teams/receiving-stats/offense/2019\"))\n",
    "\t\t.header(\"X-RapidAPI-Key\", \"ec6e646230mshf820e393587eb36p16c0b2jsn78339512865b\")\n",
    "\t\t.header(\"X-RapidAPI-Host\", \"nfl-team-stats.p.rapidapi.com\")\n",
    "\t\t.method(\"GET\", HttpRequest.BodyPublishers.noBody())\n",
    "\t\t.build();\n",
    "HttpResponse<String> response = HttpClient.newHttpClient().send(request, HttpResponse.BodyHandlers.ofString());\n",
    "System.out.println(response.body());\n",
    "\n",
    "import java.net.URI;\n",
    "import java.net.http.HttpClient;\n",
    "import java.net.http.HttpRequest;\n",
    "import java.net.http.HttpResponse;\n",
    "import java.util.Date;\n",
    "import java.util.HashMap;\n",
    "\n",
    "import org.json.simple.JSONObject;\n",
    "import org.json.simple.parser.JSONParser;\n",
    "import org.springframework.http.HttpStatus;\n",
    "import org.springframework.http.ResponseEntity;\n",
    "import org.springframework.web.bind.annotation.*;\n",
    "\n",
    "@RestController // annotation to create a RESTful web services\n",
    "@RequestMapping(\"/api/nfl\")  //prefix of API\n",
    "public class CovidApiController {\n",
    "    private JSONObject body; //last run result\n",
    "    private HttpStatus status; //last run status\n",
    "    String last_run = null; //last run day of month\n",
    "\n",
    "    // GET Covid 19 Stats\n",
    "    @GetMapping(\"/daily\")   //added to end of prefix as endpoint\n",
    "    public ResponseEntity<JSONObject> getCovid() {\n",
    "\n",
    "        //calls API once a day, sets body and status properties\n",
    "        String today = new Date().toString().substring(0,10); \n",
    "        if (last_run == null || !today.equals(last_run))\n",
    "        {\n",
    "            try {  //APIs can fail (ie Internet or Service down)\n",
    "\n",
    "                //RapidAPI header\n",
    "                HttpRequest request = HttpRequest.newBuilder()\n",
    "\t\t            .uri(URI.create(\"https://nfl-team-stats.p.rapidapi.com/v1/nfl-stats/teams/receiving-stats/offense/2019\"))\n",
    "\t\t            .header(\"X-RapidAPI-Key\", \"ec6e646230mshf820e393587eb36p16c0b2jsn78339512865b\")\n",
    "\t\t            .header(\"X-RapidAPI-Host\", \"nfl-team-stats.p.rapidapi.com\")\n",
    "\t\t            .method(\"GET\", HttpRequest.BodyPublishers.noBody())\n",
    "\t\t            .build();\n",
    "\n",
    "                //RapidAPI request and response\n",
    "                HttpResponse<String> response = HttpClient.newHttpClient().send(request, HttpResponse.BodyHandlers.ofString());\n",
    "\n",
    "                //JSONParser extracts text body and parses to JSONObject\n",
    "                this.body = (JSONObject) new JSONParser().parse(response.body());\n",
    "                this.status = HttpStatus.OK;  //200 success\n",
    "                this.last_run = today;\n",
    "            }\n",
    "            catch (Exception e) {  //capture failure info\n",
    "                HashMap<String, String> status = new HashMap<>();\n",
    "                status.put(\"status\", \"RapidApi failure: \" + e);\n",
    "\n",
    "                //Setup object for error\n",
    "                this.body = (JSONObject) status;\n",
    "                this.status = HttpStatus.INTERNAL_SERVER_ERROR; //500 error\n",
    "                this.last_run = null;\n",
    "            }\n",
    "        }\n",
    "\n",
    "        //return JSONObject in RESTful style\n",
    "        return new ResponseEntity<>(body, status);\n",
    "    }\n",
    "}"
   ]
  }
 ],
 "metadata": {
  "kernelspec": {
   "display_name": "Java",
   "language": "java",
   "name": "java"
  },
  "language_info": {
   "codemirror_mode": "java",
   "file_extension": ".jshell",
   "mimetype": "text/x-java-source",
   "name": "java",
   "pygments_lexer": "java",
   "version": "11.0.16+8-post-Ubuntu-0ubuntu120.04"
  },
  "orig_nbformat": 4,
  "vscode": {
   "interpreter": {
    "hash": "916dbcbb3f70747c44a77c7bcd40155683ae19c65e1c03b4aa3499c5328201f1"
   }
  }
 },
 "nbformat": 4,
 "nbformat_minor": 2
}
